{
 "cells": [
  {
   "cell_type": "code",
   "execution_count": 6,
   "id": "initial_id",
   "metadata": {
    "collapsed": true,
    "ExecuteTime": {
     "end_time": "2023-09-05T08:04:13.780843631Z",
     "start_time": "2023-09-05T08:04:13.729337009Z"
    }
   },
   "outputs": [],
   "source": [
    "from etl import *\n",
    "import requests\n",
    "import datetime"
   ]
  },
  {
   "cell_type": "code",
   "execution_count": 7,
   "outputs": [],
   "source": [
    "def changeLog(txt:str):\n",
    "    current_time = datetime.datetime.now()\n",
    "    log_txt = f\"{current_time}: \"+f\"{txt}\"+f'\\n'\n",
    "\n",
    "def login():\n",
    "    session = requests.Session()\n",
    "    session.auth = ('admin', 'district')\n",
    "    return session\n",
    "\n",
    "def createDataElement(code:str,name:str, shortName:str,agregationType:str,domainType:str,valueType:str,zeroIsSignificant:bool):  # create a new data element into dhis\n",
    "    \n",
    "    \"\"\"\n",
    "    :param code:\n",
    "    :param name:\n",
    "    :param shortName:\n",
    "    :param agregationType: [SUM,AVERAGE,MIN,MAX,COUNT,FIRST,LAST,STDDEV,VARIANCE,PERCENTILE,MEDIAN]\n",
    "    :param domainType: [AGGREGATE,TRACKER]\n",
    "    :param valueType: [TEXT,NUMBER,DATE,BOOLEAN,OPTION (like array list),ORGANISATION_UNIT,FILE_RESOURCE,COORDINATE,URL,CALCULATED_VALUE (for formula)\n",
    "    :param zeroIsSignificant: True/False\n",
    "    :return:\n",
    "    \"\"\"\n",
    "    \"\"\"\n",
    "    NOTA el category combo es usado para agrupar datos y asociarlos a un id por ejemplo edades o elementos similes\n",
    "    no es buena idea crear un id combo cada vez que se envian datos, hay que establecer un procedimiento para segun los\n",
    "    datos que se quieran agrupar se genere un combo nuevo para esos datos\n",
    "    \"\"\"\n",
    "    payload = {\n",
    "    \"code\": code,\n",
    "    \"name\": name,\n",
    "    \"shortName\": shortName,\n",
    "    \"aggregationType\": agregationType,\n",
    "    \"domainType\": domainType,\n",
    "    \"valueType\": valueType,\n",
    "    \"zeroIsSignificant\": zeroIsSignificant,\n",
    "    \"categoryCombo\": {\n",
    "        \"id\": \"bjDvmb4bfuf\"\n",
    "        }\n",
    "    }\n",
    "    # changeLog(\"Generated payload with id: \"+catComboID)\n",
    "    # sending data\n",
    "    try:\n",
    "        session = login()\n",
    "        url = \"http://localhost:8080/api/dataElements\"\n",
    "        response = session.post(url, json=payload, headers={'content-type': 'application/json'})\n",
    "        changeLog(\"[CREATE DATA ELEMENT] >> \"+response.text)\n",
    "    except Exception:\n",
    "        changeLog(\"Unspected exception\")"
   ],
   "metadata": {
    "collapsed": false,
    "ExecuteTime": {
     "end_time": "2023-09-05T08:04:14.214309717Z",
     "start_time": "2023-09-05T08:04:14.184357378Z"
    }
   },
   "id": "c87eab2f7f971f9"
  },
  {
   "cell_type": "code",
   "execution_count": null,
   "outputs": [],
   "source": [
    "# Diseases:\n",
    "\n",
    "get_data()\n",
    "\n"
   ],
   "metadata": {
    "collapsed": false
   },
   "id": "3684d21e09169f77"
  }
 ],
 "metadata": {
  "kernelspec": {
   "display_name": "Python 3",
   "language": "python",
   "name": "python3"
  },
  "language_info": {
   "codemirror_mode": {
    "name": "ipython",
    "version": 2
   },
   "file_extension": ".py",
   "mimetype": "text/x-python",
   "name": "python",
   "nbconvert_exporter": "python",
   "pygments_lexer": "ipython2",
   "version": "2.7.6"
  }
 },
 "nbformat": 4,
 "nbformat_minor": 5
}
