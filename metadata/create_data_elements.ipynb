{
 "cells": [
  {
   "cell_type": "code",
   "execution_count": 17,
   "id": "initial_id",
   "metadata": {
    "collapsed": true,
    "ExecuteTime": {
     "end_time": "2023-09-05T08:40:12.587263108Z",
     "start_time": "2023-09-05T08:40:12.525633721Z"
    }
   },
   "outputs": [
    {
     "ename": "ImportError",
     "evalue": "cannot import name 'setup_logging' from 'metadata' (/home/paula/Documentos/opendx28/dhis2-opendx28/metadata/__init__.py)",
     "output_type": "error",
     "traceback": [
      "\u001B[0;31m---------------------------------------------------------------------------\u001B[0m",
      "\u001B[0;31mImportError\u001B[0m                               Traceback (most recent call last)",
      "Cell \u001B[0;32mIn[17], line 1\u001B[0m\n\u001B[0;32m----> 1\u001B[0m \u001B[38;5;28;01mfrom\u001B[39;00m \u001B[38;5;21;01mmetadata\u001B[39;00m \u001B[38;5;28;01mimport\u001B[39;00m setup_logging, createDataElement\n\u001B[1;32m      2\u001B[0m \u001B[38;5;28;01mimport\u001B[39;00m \u001B[38;5;21;01mrequests\u001B[39;00m\n\u001B[1;32m      3\u001B[0m \u001B[38;5;28;01mimport\u001B[39;00m \u001B[38;5;21;01mdatetime\u001B[39;00m\n",
      "\u001B[0;31mImportError\u001B[0m: cannot import name 'setup_logging' from 'metadata' (/home/paula/Documentos/opendx28/dhis2-opendx28/metadata/__init__.py)"
     ]
    }
   ],
   "source": [
    "import pandas as pd\n",
    "import requests\n",
    "import datetime\n",
    "\n",
    "from metadata import setup_logging"
   ]
  },
  {
   "cell_type": "code",
   "execution_count": 7,
   "outputs": [],
   "source": [
    "# Diseases:\n",
    "\n",
    "dataElemen_1 = get_data('dataElements/bXn9Kmxnd3r')\n",
    "\n"
   ],
   "metadata": {
    "collapsed": false,
    "ExecuteTime": {
     "end_time": "2023-09-05T08:17:02.621228359Z",
     "start_time": "2023-09-05T08:17:02.482285509Z"
    }
   },
   "id": "3684d21e09169f77"
  },
  {
   "cell_type": "code",
   "execution_count": null,
   "outputs": [],
   "source": [],
   "metadata": {
    "collapsed": false
   },
   "id": "83c3ee4cfae9d536"
  },
  {
   "cell_type": "code",
   "execution_count": 11,
   "outputs": [],
   "source": [
    "def get_dhis_disease_list():\n",
    "    import re\n",
    "\n",
    "    dhis_list =  [\n",
    "    'Acute Flacid Paralysis (confirmed cases VDPV)',\n",
    "    'Cholera (Confirmed cases)',\n",
    "    'Dengue Fever (Confirmed cases)',\n",
    "    'Diarrhoea with blood (Shigella)  (Confirmed cases)',\n",
    "    'Diptheria (Confirmed cases)',\n",
    "    'Measles (Confirmed cases)',\n",
    "    'Pertussis (Confirmed cases)',\n",
    "    'Plague (Confirmed cases)',\n",
    "    'Rabies  (Confirmed cases)',\n",
    "    'Rubella (Confirmed cases)',\n",
    "    'Viral hemorrhagic fever (confirmed cases)',\n",
    "    'Yellow Fever (Confirmed cases)',\n",
    "    'Acute Flacid Paralysis (confirmed cases WPV)']\n",
    "\n",
    "    clean_list = [re.sub(r'\\s*\\([^)]*\\)', '', item).strip() for item in dhis_list]\n",
    "    return clean_list\n"
   ],
   "metadata": {
    "collapsed": false,
    "ExecuteTime": {
     "end_time": "2023-09-05T08:17:32.057554373Z",
     "start_time": "2023-09-05T08:17:32.009229524Z"
    }
   },
   "id": "e7fa3036c791c717"
  },
  {
   "cell_type": "code",
   "execution_count": 12,
   "outputs": [],
   "source": [
    "dhis_disease_list = get_dhis_disease_list()"
   ],
   "metadata": {
    "collapsed": false,
    "ExecuteTime": {
     "end_time": "2023-09-05T08:17:32.622826034Z",
     "start_time": "2023-09-05T08:17:32.529475154Z"
    }
   },
   "id": "27489406ce4c0682"
  },
  {
   "cell_type": "code",
   "execution_count": 13,
   "outputs": [],
   "source": [
    "recovered_dataElements_name = [f\"{name} (Recovered)\" for name in dhis_disease_list]"
   ],
   "metadata": {
    "collapsed": false,
    "ExecuteTime": {
     "end_time": "2023-09-05T08:18:45.193227895Z",
     "start_time": "2023-09-05T08:18:45.110982830Z"
    }
   },
   "id": "6097aca726beec7e"
  },
  {
   "cell_type": "code",
   "execution_count": 14,
   "outputs": [
    {
     "data": {
      "text/plain": "['Acute Flacid Paralysis (Recovered)',\n 'Cholera (Recovered)',\n 'Dengue Fever (Recovered)',\n 'Diarrhoea with blood (Recovered)',\n 'Diptheria (Recovered)',\n 'Measles (Recovered)',\n 'Pertussis (Recovered)',\n 'Plague (Recovered)',\n 'Rabies (Recovered)',\n 'Rubella (Recovered)',\n 'Viral hemorrhagic fever (Recovered)',\n 'Yellow Fever (Recovered)',\n 'Acute Flacid Paralysis (Recovered)']"
     },
     "execution_count": 14,
     "metadata": {},
     "output_type": "execute_result"
    }
   ],
   "source": [
    "recovered_dataElements_name"
   ],
   "metadata": {
    "collapsed": false,
    "ExecuteTime": {
     "end_time": "2023-09-05T08:18:49.713123993Z",
     "start_time": "2023-09-05T08:18:49.615588553Z"
    }
   },
   "id": "f51da410c02a66e0"
  },
  {
   "cell_type": "code",
   "execution_count": 23,
   "outputs": [],
   "source": [
    "df = pd.read_csv('dataElemts_per_diseases.csv')"
   ],
   "metadata": {
    "collapsed": false,
    "ExecuteTime": {
     "end_time": "2023-09-05T11:03:09.389978518Z",
     "start_time": "2023-09-05T11:03:09.264496406Z"
    }
   },
   "id": "55323ba799cfe6fa"
  },
  {
   "cell_type": "code",
   "execution_count": 24,
   "outputs": [
    {
     "data": {
      "text/plain": "         aggregationType attributeValues domainType  \\\n0                    SUM              []  AGGREGATE   \n1                    SUM              []  AGGREGATE   \n2                    SUM              []  AGGREGATE   \n3                    SUM              []  AGGREGATE   \n4                    SUM              []  AGGREGATE   \n5                    SUM              []  AGGREGATE   \n6                    SUM              []  AGGREGATE   \n7                    SUM              []  AGGREGATE   \n8                    SUM              []  AGGREGATE   \n9                    SUM              []  AGGREGATE   \n10                   SUM              []  AGGREGATE   \n11                   SUM              []  AGGREGATE   \n12                   SUM              []  AGGREGATE   \n13                   SUM              []  AGGREGATE   \n14                   SUM              []  AGGREGATE   \n15  AVERAGE_SUM_ORG_UNIT              []  AGGREGATE   \n16  AVERAGE_SUM_ORG_UNIT              []  AGGREGATE   \n17  AVERAGE_SUM_ORG_UNIT              []  AGGREGATE   \n18  AVERAGE_SUM_ORG_UNIT              []  AGGREGATE   \n19  AVERAGE_SUM_ORG_UNIT              []  AGGREGATE   \n20  AVERAGE_SUM_ORG_UNIT              []  AGGREGATE   \n21                   SUM              []  AGGREGATE   \n22                   SUM              []  AGGREGATE   \n23  AVERAGE_SUM_ORG_UNIT              []  AGGREGATE   \n24  AVERAGE_SUM_ORG_UNIT              []  AGGREGATE   \n25  AVERAGE_SUM_ORG_UNIT              []  AGGREGATE   \n26  AVERAGE_SUM_ORG_UNIT              []  AGGREGATE   \n27  AVERAGE_SUM_ORG_UNIT              []  AGGREGATE   \n28  AVERAGE_SUM_ORG_UNIT              []  AGGREGATE   \n29  AVERAGE_SUM_ORG_UNIT              []  AGGREGATE   \n30  AVERAGE_SUM_ORG_UNIT              []  AGGREGATE   \n31  AVERAGE_SUM_ORG_UNIT              []  AGGREGATE   \n32  AVERAGE_SUM_ORG_UNIT              []  AGGREGATE   \n33  AVERAGE_SUM_ORG_UNIT              []  AGGREGATE   \n34  AVERAGE_SUM_ORG_UNIT              []  AGGREGATE   \n35  AVERAGE_SUM_ORG_UNIT              []  AGGREGATE   \n36                   SUM              []  AGGREGATE   \n37                   SUM              []  AGGREGATE   \n38                   SUM              []  AGGREGATE   \n39                   SUM              []  AGGREGATE   \n40                   SUM              []  AGGREGATE   \n41                   SUM              []  AGGREGATE   \n42                   SUM              []  AGGREGATE   \n43                   SUM              []  AGGREGATE   \n\n                                               name  \\\n0                                                 B   \n1                                                 I   \n2                                                 A   \n3                                               PHC   \n4                                                Bt   \n5                                                It   \n6                                                At   \n7                                              PHCt   \n8                                           Solvedt   \n9                                   DailyConfirmedt   \n10                                      DailyDeatht   \n11                                  DailyRecoveredt   \n12                                     DailySolvedt   \n13                                     ActiveCasest   \n14                                  PreActiveCasest   \n15                               DeathsPercentaget    \n16                             RecoveredPercentaget   \n17                                            aHSIt   \n18                                            dHSIt   \n19                                            hPORt   \n20                                          icuPORr   \n21                                               TB   \n22                                               TI   \n23                                 Occupation index   \n24                                  Turnover index    \n25                                    Average stay    \n26                            Gross mortality rate    \n27                                    Autopsy rate    \n28                              Emergency pressure    \n29                  Cesarean section delivery rate    \n30                           Vaginal delivery rate    \n31                                    Newborn rate    \n32                         Inpatient surgery index    \n33                        Outpatient surgery index    \n34                         Scheduled surgery index    \n35                         Emergency surgery index    \n36  Mortality during weekend surgical intervention    \n37                           Episodes with surgery    \n38                   Mortality in surgical episode    \n39                                 Re-surgery rate    \n40                       Average preoperative stay    \n41                        Emergency mortality rate    \n42                          Average emergency time    \n43      Rate of return to emergency within 72 hours   \n\n                                           formName          categoryCombo  \\\n0                             HospitalBedOccupancyt  {'id': 'bjDvmb4bfuf'}   \n1                                  ICUBedOccupancyt  {'id': 'bjDvmb4bfuf'}   \n2                                HospitalDischarget  {'id': 'bjDvmb4bfuf'}   \n3                             PrimatyCareDischarget  {'id': 'bjDvmb4bfuf'}   \n4                             HospitalBedOccupancyt  {'id': 'bjDvmb4bfuf'}   \n5                                  ICUBedOccupancyt  {'id': 'bjDvmb4bfuf'}   \n6                                HospitalDischarget  {'id': 'bjDvmb4bfuf'}   \n7                             PrimatyCareDischarget  {'id': 'bjDvmb4bfuf'}   \n8                                           Solvedt  {'id': 'bjDvmb4bfuf'}   \n9                                   DailyConfirmedt  {'id': 'bjDvmb4bfuf'}   \n10                                      DailyDeatht  {'id': 'bjDvmb4bfuf'}   \n11                                  DailyRecoveredt  {'id': 'bjDvmb4bfuf'}   \n12                                     DailySolvedt  {'id': 'bjDvmb4bfuf'}   \n13                                     ActiveCasest  {'id': 'bjDvmb4bfuf'}   \n14                                  PreActiveCasest  {'id': 'bjDvmb4bfuf'}   \n15                               DeathsPercentaget   {'id': 'bjDvmb4bfuf'}   \n16                             RecoveredPercentaget  {'id': 'bjDvmb4bfuf'}   \n17             Accumulated Health Sufficiency Index  {'id': 'bjDvmb4bfuf'}   \n18                   Daily Health Sufficiency Index  {'id': 'bjDvmb4bfuf'}   \n19                        Potential Occupancy Ratio  {'id': 'bjDvmb4bfuf'}   \n20                    ICU Potential Occupancy Ratio  {'id': 'bjDvmb4bfuf'}   \n21                              HospitalBedCapacity  {'id': 'bjDvmb4bfuf'}   \n22                                  ICUBedCapacityt  {'id': 'bjDvmb4bfuf'}   \n23                                 Occupation index  {'id': 'bjDvmb4bfuf'}   \n24                                  Turnover index   {'id': 'bjDvmb4bfuf'}   \n25                                    Average stay   {'id': 'bjDvmb4bfuf'}   \n26                            Gross mortality rate   {'id': 'bjDvmb4bfuf'}   \n27                                    Autopsy rate   {'id': 'bjDvmb4bfuf'}   \n28                              Emergency pressure   {'id': 'bjDvmb4bfuf'}   \n29                  Cesarean section delivery rate   {'id': 'bjDvmb4bfuf'}   \n30                           Vaginal delivery rate   {'id': 'bjDvmb4bfuf'}   \n31                                    Newborn rate   {'id': 'bjDvmb4bfuf'}   \n32                         Inpatient surgery index   {'id': 'bjDvmb4bfuf'}   \n33                        Outpatient surgery index   {'id': 'bjDvmb4bfuf'}   \n34                         Scheduled surgery index   {'id': 'bjDvmb4bfuf'}   \n35                         Emergency surgery index   {'id': 'bjDvmb4bfuf'}   \n36  Mortality during weekend surgical intervention   {'id': 'bjDvmb4bfuf'}   \n37                           Episodes with surgery   {'id': 'bjDvmb4bfuf'}   \n38                   Mortality in surgical episode   {'id': 'bjDvmb4bfuf'}   \n39                                 Re-surgery rate   {'id': 'bjDvmb4bfuf'}   \n40                       Average preoperative stay   {'id': 'bjDvmb4bfuf'}   \n41                        Emergency mortality rate   {'id': 'bjDvmb4bfuf'}   \n42                          Average emergency time   {'id': 'bjDvmb4bfuf'}   \n43      Rate of return to emergency within 72 hours  {'id': 'bjDvmb4bfuf'}   \n\n                   valueType  \\\n0   INTEGER_ZERO_OR_POSITIVE   \n1   INTEGER_ZERO_OR_POSITIVE   \n2   INTEGER_ZERO_OR_POSITIVE   \n3   INTEGER_ZERO_OR_POSITIVE   \n4   INTEGER_ZERO_OR_POSITIVE   \n5   INTEGER_ZERO_OR_POSITIVE   \n6   INTEGER_ZERO_OR_POSITIVE   \n7   INTEGER_ZERO_OR_POSITIVE   \n8   INTEGER_ZERO_OR_POSITIVE   \n9   INTEGER_ZERO_OR_POSITIVE   \n10  INTEGER_ZERO_OR_POSITIVE   \n11  INTEGER_ZERO_OR_POSITIVE   \n12  INTEGER_ZERO_OR_POSITIVE   \n13  INTEGER_ZERO_OR_POSITIVE   \n14  INTEGER_ZERO_OR_POSITIVE   \n15  INTEGER_ZERO_OR_POSITIVE   \n16  INTEGER_ZERO_OR_POSITIVE   \n17  INTEGER_ZERO_OR_POSITIVE   \n18  INTEGER_ZERO_OR_POSITIVE   \n19  INTEGER_ZERO_OR_POSITIVE   \n20  INTEGER_ZERO_OR_POSITIVE   \n21  INTEGER_ZERO_OR_POSITIVE   \n22  INTEGER_ZERO_OR_POSITIVE   \n23  INTEGER_ZERO_OR_POSITIVE   \n24  INTEGER_ZERO_OR_POSITIVE   \n25  INTEGER_ZERO_OR_POSITIVE   \n26  INTEGER_ZERO_OR_POSITIVE   \n27  INTEGER_ZERO_OR_POSITIVE   \n28  INTEGER_ZERO_OR_POSITIVE   \n29  INTEGER_ZERO_OR_POSITIVE   \n30  INTEGER_ZERO_OR_POSITIVE   \n31  INTEGER_ZERO_OR_POSITIVE   \n32  INTEGER_ZERO_OR_POSITIVE   \n33  INTEGER_ZERO_OR_POSITIVE   \n34  INTEGER_ZERO_OR_POSITIVE   \n35  INTEGER_ZERO_OR_POSITIVE   \n36  INTEGER_ZERO_OR_POSITIVE   \n37  INTEGER_ZERO_OR_POSITIVE   \n38  INTEGER_ZERO_OR_POSITIVE   \n39  INTEGER_ZERO_OR_POSITIVE   \n40  INTEGER_ZERO_OR_POSITIVE   \n41  INTEGER_ZERO_OR_POSITIVE   \n42  INTEGER_ZERO_OR_POSITIVE   \n43  INTEGER_ZERO_OR_POSITIVE   \n\n                                              dataset  datasetCode  \\\n0   IDS - Report: Suspected, Confirm, Death, Recov...  ZyZmZTUwctj   \n1   IDS - Report: Suspected, Confirm, Death, Recov...  ZyZmZTUwctj   \n2   IDS - Report: Suspected, Confirm, Death, Recov...  ZyZmZTUwctj   \n3   IDS - Report: Suspected, Confirm, Death, Recov...  ZyZmZTUwctj   \n4   IDS - Report: Suspected, Confirm, Death, Recov...  ZyZmZTUwctj   \n5   IDS - Report: Suspected, Confirm, Death, Recov...  ZyZmZTUwctj   \n6   IDS - Report: Suspected, Confirm, Death, Recov...  ZyZmZTUwctj   \n7   IDS - Report: Suspected, Confirm, Death, Recov...  ZyZmZTUwctj   \n8   IDS - Report: Suspected, Confirm, Death, Recov...  ZyZmZTUwctj   \n9   IDS daily - Report: Suspected, Confirm, Death,...          NaN   \n10  IDS daily - Report: Suspected, Confirm, Death,...          NaN   \n11  IDS daily - Report: Suspected, Confirm, Death,...          NaN   \n12  IDS daily - Report: Suspected, Confirm, Death,...          NaN   \n13  IDS - Report: Suspected, Confirm, Death, Recov...  ZyZmZTUwctj   \n14  IDS - Report: Suspected, Confirm, Death, Recov...  ZyZmZTUwctj   \n15  IDS - Report: Suspected, Confirm, Death, Recov...  ZyZmZTUwctj   \n16  IDS - Report: Suspected, Confirm, Death, Recov...  ZyZmZTUwctj   \n17  IDS - Report: Suspected, Confirm, Death, Recov...  ZyZmZTUwctj   \n18  IDS - Report: Suspected, Confirm, Death, Recov...  ZyZmZTUwctj   \n19  IDS - Report: Suspected, Confirm, Death, Recov...  ZyZmZTUwctj   \n20  IDS - Report: Suspected, Confirm, Death, Recov...  ZyZmZTUwctj   \n21  IDS - Report: Suspected, Confirm, Death, Recov...  ZyZmZTUwctj   \n22  IDS - Report: Suspected, Confirm, Death, Recov...  ZyZmZTUwctj   \n23                                      Economy Index          NaN   \n24                                      Economy Index          NaN   \n25                                      Economy Index          NaN   \n26                                      Economy Index          NaN   \n27                                      Economy Index          NaN   \n28                                      Economy Index          NaN   \n29                                      Economy Index          NaN   \n30                                      Economy Index          NaN   \n31                                      Economy Index          NaN   \n32                                      Economy Index          NaN   \n33                                      Economy Index          NaN   \n34                                      Economy Index          NaN   \n35                                      Economy Index          NaN   \n36                                      Economy Index          NaN   \n37                                      Economy Index          NaN   \n38                                      Economy Index          NaN   \n39                                      Economy Index          NaN   \n40                                      Economy Index          NaN   \n41                                      Economy Index          NaN   \n42                                      Economy Index          NaN   \n43                                      Economy Index          NaN   \n\n    perDissease  \n0          True  \n1          True  \n2          True  \n3          True  \n4          True  \n5          True  \n6          True  \n7          True  \n8          True  \n9          True  \n10         True  \n11         True  \n12         True  \n13         True  \n14         True  \n15         True  \n16         True  \n17         True  \n18         True  \n19         True  \n20         True  \n21        False  \n22        False  \n23        False  \n24        False  \n25        False  \n26        False  \n27        False  \n28        False  \n29        False  \n30        False  \n31        False  \n32        False  \n33        False  \n34        False  \n35        False  \n36        False  \n37        False  \n38        False  \n39        False  \n40        False  \n41        False  \n42        False  \n43        False  ",
      "text/html": "<div>\n<style scoped>\n    .dataframe tbody tr th:only-of-type {\n        vertical-align: middle;\n    }\n\n    .dataframe tbody tr th {\n        vertical-align: top;\n    }\n\n    .dataframe thead th {\n        text-align: right;\n    }\n</style>\n<table border=\"1\" class=\"dataframe\">\n  <thead>\n    <tr style=\"text-align: right;\">\n      <th></th>\n      <th>aggregationType</th>\n      <th>attributeValues</th>\n      <th>domainType</th>\n      <th>name</th>\n      <th>formName</th>\n      <th>categoryCombo</th>\n      <th>valueType</th>\n      <th>dataset</th>\n      <th>datasetCode</th>\n      <th>perDissease</th>\n    </tr>\n  </thead>\n  <tbody>\n    <tr>\n      <th>0</th>\n      <td>SUM</td>\n      <td>[]</td>\n      <td>AGGREGATE</td>\n      <td>B</td>\n      <td>HospitalBedOccupancyt</td>\n      <td>{'id': 'bjDvmb4bfuf'}</td>\n      <td>INTEGER_ZERO_OR_POSITIVE</td>\n      <td>IDS - Report: Suspected, Confirm, Death, Recov...</td>\n      <td>ZyZmZTUwctj</td>\n      <td>True</td>\n    </tr>\n    <tr>\n      <th>1</th>\n      <td>SUM</td>\n      <td>[]</td>\n      <td>AGGREGATE</td>\n      <td>I</td>\n      <td>ICUBedOccupancyt</td>\n      <td>{'id': 'bjDvmb4bfuf'}</td>\n      <td>INTEGER_ZERO_OR_POSITIVE</td>\n      <td>IDS - Report: Suspected, Confirm, Death, Recov...</td>\n      <td>ZyZmZTUwctj</td>\n      <td>True</td>\n    </tr>\n    <tr>\n      <th>2</th>\n      <td>SUM</td>\n      <td>[]</td>\n      <td>AGGREGATE</td>\n      <td>A</td>\n      <td>HospitalDischarget</td>\n      <td>{'id': 'bjDvmb4bfuf'}</td>\n      <td>INTEGER_ZERO_OR_POSITIVE</td>\n      <td>IDS - Report: Suspected, Confirm, Death, Recov...</td>\n      <td>ZyZmZTUwctj</td>\n      <td>True</td>\n    </tr>\n    <tr>\n      <th>3</th>\n      <td>SUM</td>\n      <td>[]</td>\n      <td>AGGREGATE</td>\n      <td>PHC</td>\n      <td>PrimatyCareDischarget</td>\n      <td>{'id': 'bjDvmb4bfuf'}</td>\n      <td>INTEGER_ZERO_OR_POSITIVE</td>\n      <td>IDS - Report: Suspected, Confirm, Death, Recov...</td>\n      <td>ZyZmZTUwctj</td>\n      <td>True</td>\n    </tr>\n    <tr>\n      <th>4</th>\n      <td>SUM</td>\n      <td>[]</td>\n      <td>AGGREGATE</td>\n      <td>Bt</td>\n      <td>HospitalBedOccupancyt</td>\n      <td>{'id': 'bjDvmb4bfuf'}</td>\n      <td>INTEGER_ZERO_OR_POSITIVE</td>\n      <td>IDS - Report: Suspected, Confirm, Death, Recov...</td>\n      <td>ZyZmZTUwctj</td>\n      <td>True</td>\n    </tr>\n    <tr>\n      <th>5</th>\n      <td>SUM</td>\n      <td>[]</td>\n      <td>AGGREGATE</td>\n      <td>It</td>\n      <td>ICUBedOccupancyt</td>\n      <td>{'id': 'bjDvmb4bfuf'}</td>\n      <td>INTEGER_ZERO_OR_POSITIVE</td>\n      <td>IDS - Report: Suspected, Confirm, Death, Recov...</td>\n      <td>ZyZmZTUwctj</td>\n      <td>True</td>\n    </tr>\n    <tr>\n      <th>6</th>\n      <td>SUM</td>\n      <td>[]</td>\n      <td>AGGREGATE</td>\n      <td>At</td>\n      <td>HospitalDischarget</td>\n      <td>{'id': 'bjDvmb4bfuf'}</td>\n      <td>INTEGER_ZERO_OR_POSITIVE</td>\n      <td>IDS - Report: Suspected, Confirm, Death, Recov...</td>\n      <td>ZyZmZTUwctj</td>\n      <td>True</td>\n    </tr>\n    <tr>\n      <th>7</th>\n      <td>SUM</td>\n      <td>[]</td>\n      <td>AGGREGATE</td>\n      <td>PHCt</td>\n      <td>PrimatyCareDischarget</td>\n      <td>{'id': 'bjDvmb4bfuf'}</td>\n      <td>INTEGER_ZERO_OR_POSITIVE</td>\n      <td>IDS - Report: Suspected, Confirm, Death, Recov...</td>\n      <td>ZyZmZTUwctj</td>\n      <td>True</td>\n    </tr>\n    <tr>\n      <th>8</th>\n      <td>SUM</td>\n      <td>[]</td>\n      <td>AGGREGATE</td>\n      <td>Solvedt</td>\n      <td>Solvedt</td>\n      <td>{'id': 'bjDvmb4bfuf'}</td>\n      <td>INTEGER_ZERO_OR_POSITIVE</td>\n      <td>IDS - Report: Suspected, Confirm, Death, Recov...</td>\n      <td>ZyZmZTUwctj</td>\n      <td>True</td>\n    </tr>\n    <tr>\n      <th>9</th>\n      <td>SUM</td>\n      <td>[]</td>\n      <td>AGGREGATE</td>\n      <td>DailyConfirmedt</td>\n      <td>DailyConfirmedt</td>\n      <td>{'id': 'bjDvmb4bfuf'}</td>\n      <td>INTEGER_ZERO_OR_POSITIVE</td>\n      <td>IDS daily - Report: Suspected, Confirm, Death,...</td>\n      <td>NaN</td>\n      <td>True</td>\n    </tr>\n    <tr>\n      <th>10</th>\n      <td>SUM</td>\n      <td>[]</td>\n      <td>AGGREGATE</td>\n      <td>DailyDeatht</td>\n      <td>DailyDeatht</td>\n      <td>{'id': 'bjDvmb4bfuf'}</td>\n      <td>INTEGER_ZERO_OR_POSITIVE</td>\n      <td>IDS daily - Report: Suspected, Confirm, Death,...</td>\n      <td>NaN</td>\n      <td>True</td>\n    </tr>\n    <tr>\n      <th>11</th>\n      <td>SUM</td>\n      <td>[]</td>\n      <td>AGGREGATE</td>\n      <td>DailyRecoveredt</td>\n      <td>DailyRecoveredt</td>\n      <td>{'id': 'bjDvmb4bfuf'}</td>\n      <td>INTEGER_ZERO_OR_POSITIVE</td>\n      <td>IDS daily - Report: Suspected, Confirm, Death,...</td>\n      <td>NaN</td>\n      <td>True</td>\n    </tr>\n    <tr>\n      <th>12</th>\n      <td>SUM</td>\n      <td>[]</td>\n      <td>AGGREGATE</td>\n      <td>DailySolvedt</td>\n      <td>DailySolvedt</td>\n      <td>{'id': 'bjDvmb4bfuf'}</td>\n      <td>INTEGER_ZERO_OR_POSITIVE</td>\n      <td>IDS daily - Report: Suspected, Confirm, Death,...</td>\n      <td>NaN</td>\n      <td>True</td>\n    </tr>\n    <tr>\n      <th>13</th>\n      <td>SUM</td>\n      <td>[]</td>\n      <td>AGGREGATE</td>\n      <td>ActiveCasest</td>\n      <td>ActiveCasest</td>\n      <td>{'id': 'bjDvmb4bfuf'}</td>\n      <td>INTEGER_ZERO_OR_POSITIVE</td>\n      <td>IDS - Report: Suspected, Confirm, Death, Recov...</td>\n      <td>ZyZmZTUwctj</td>\n      <td>True</td>\n    </tr>\n    <tr>\n      <th>14</th>\n      <td>SUM</td>\n      <td>[]</td>\n      <td>AGGREGATE</td>\n      <td>PreActiveCasest</td>\n      <td>PreActiveCasest</td>\n      <td>{'id': 'bjDvmb4bfuf'}</td>\n      <td>INTEGER_ZERO_OR_POSITIVE</td>\n      <td>IDS - Report: Suspected, Confirm, Death, Recov...</td>\n      <td>ZyZmZTUwctj</td>\n      <td>True</td>\n    </tr>\n    <tr>\n      <th>15</th>\n      <td>AVERAGE_SUM_ORG_UNIT</td>\n      <td>[]</td>\n      <td>AGGREGATE</td>\n      <td>DeathsPercentaget</td>\n      <td>DeathsPercentaget</td>\n      <td>{'id': 'bjDvmb4bfuf'}</td>\n      <td>INTEGER_ZERO_OR_POSITIVE</td>\n      <td>IDS - Report: Suspected, Confirm, Death, Recov...</td>\n      <td>ZyZmZTUwctj</td>\n      <td>True</td>\n    </tr>\n    <tr>\n      <th>16</th>\n      <td>AVERAGE_SUM_ORG_UNIT</td>\n      <td>[]</td>\n      <td>AGGREGATE</td>\n      <td>RecoveredPercentaget</td>\n      <td>RecoveredPercentaget</td>\n      <td>{'id': 'bjDvmb4bfuf'}</td>\n      <td>INTEGER_ZERO_OR_POSITIVE</td>\n      <td>IDS - Report: Suspected, Confirm, Death, Recov...</td>\n      <td>ZyZmZTUwctj</td>\n      <td>True</td>\n    </tr>\n    <tr>\n      <th>17</th>\n      <td>AVERAGE_SUM_ORG_UNIT</td>\n      <td>[]</td>\n      <td>AGGREGATE</td>\n      <td>aHSIt</td>\n      <td>Accumulated Health Sufficiency Index</td>\n      <td>{'id': 'bjDvmb4bfuf'}</td>\n      <td>INTEGER_ZERO_OR_POSITIVE</td>\n      <td>IDS - Report: Suspected, Confirm, Death, Recov...</td>\n      <td>ZyZmZTUwctj</td>\n      <td>True</td>\n    </tr>\n    <tr>\n      <th>18</th>\n      <td>AVERAGE_SUM_ORG_UNIT</td>\n      <td>[]</td>\n      <td>AGGREGATE</td>\n      <td>dHSIt</td>\n      <td>Daily Health Sufficiency Index</td>\n      <td>{'id': 'bjDvmb4bfuf'}</td>\n      <td>INTEGER_ZERO_OR_POSITIVE</td>\n      <td>IDS - Report: Suspected, Confirm, Death, Recov...</td>\n      <td>ZyZmZTUwctj</td>\n      <td>True</td>\n    </tr>\n    <tr>\n      <th>19</th>\n      <td>AVERAGE_SUM_ORG_UNIT</td>\n      <td>[]</td>\n      <td>AGGREGATE</td>\n      <td>hPORt</td>\n      <td>Potential Occupancy Ratio</td>\n      <td>{'id': 'bjDvmb4bfuf'}</td>\n      <td>INTEGER_ZERO_OR_POSITIVE</td>\n      <td>IDS - Report: Suspected, Confirm, Death, Recov...</td>\n      <td>ZyZmZTUwctj</td>\n      <td>True</td>\n    </tr>\n    <tr>\n      <th>20</th>\n      <td>AVERAGE_SUM_ORG_UNIT</td>\n      <td>[]</td>\n      <td>AGGREGATE</td>\n      <td>icuPORr</td>\n      <td>ICU Potential Occupancy Ratio</td>\n      <td>{'id': 'bjDvmb4bfuf'}</td>\n      <td>INTEGER_ZERO_OR_POSITIVE</td>\n      <td>IDS - Report: Suspected, Confirm, Death, Recov...</td>\n      <td>ZyZmZTUwctj</td>\n      <td>True</td>\n    </tr>\n    <tr>\n      <th>21</th>\n      <td>SUM</td>\n      <td>[]</td>\n      <td>AGGREGATE</td>\n      <td>TB</td>\n      <td>HospitalBedCapacity</td>\n      <td>{'id': 'bjDvmb4bfuf'}</td>\n      <td>INTEGER_ZERO_OR_POSITIVE</td>\n      <td>IDS - Report: Suspected, Confirm, Death, Recov...</td>\n      <td>ZyZmZTUwctj</td>\n      <td>False</td>\n    </tr>\n    <tr>\n      <th>22</th>\n      <td>SUM</td>\n      <td>[]</td>\n      <td>AGGREGATE</td>\n      <td>TI</td>\n      <td>ICUBedCapacityt</td>\n      <td>{'id': 'bjDvmb4bfuf'}</td>\n      <td>INTEGER_ZERO_OR_POSITIVE</td>\n      <td>IDS - Report: Suspected, Confirm, Death, Recov...</td>\n      <td>ZyZmZTUwctj</td>\n      <td>False</td>\n    </tr>\n    <tr>\n      <th>23</th>\n      <td>AVERAGE_SUM_ORG_UNIT</td>\n      <td>[]</td>\n      <td>AGGREGATE</td>\n      <td>Occupation index</td>\n      <td>Occupation index</td>\n      <td>{'id': 'bjDvmb4bfuf'}</td>\n      <td>INTEGER_ZERO_OR_POSITIVE</td>\n      <td>Economy Index</td>\n      <td>NaN</td>\n      <td>False</td>\n    </tr>\n    <tr>\n      <th>24</th>\n      <td>AVERAGE_SUM_ORG_UNIT</td>\n      <td>[]</td>\n      <td>AGGREGATE</td>\n      <td>Turnover index</td>\n      <td>Turnover index</td>\n      <td>{'id': 'bjDvmb4bfuf'}</td>\n      <td>INTEGER_ZERO_OR_POSITIVE</td>\n      <td>Economy Index</td>\n      <td>NaN</td>\n      <td>False</td>\n    </tr>\n    <tr>\n      <th>25</th>\n      <td>AVERAGE_SUM_ORG_UNIT</td>\n      <td>[]</td>\n      <td>AGGREGATE</td>\n      <td>Average stay</td>\n      <td>Average stay</td>\n      <td>{'id': 'bjDvmb4bfuf'}</td>\n      <td>INTEGER_ZERO_OR_POSITIVE</td>\n      <td>Economy Index</td>\n      <td>NaN</td>\n      <td>False</td>\n    </tr>\n    <tr>\n      <th>26</th>\n      <td>AVERAGE_SUM_ORG_UNIT</td>\n      <td>[]</td>\n      <td>AGGREGATE</td>\n      <td>Gross mortality rate</td>\n      <td>Gross mortality rate</td>\n      <td>{'id': 'bjDvmb4bfuf'}</td>\n      <td>INTEGER_ZERO_OR_POSITIVE</td>\n      <td>Economy Index</td>\n      <td>NaN</td>\n      <td>False</td>\n    </tr>\n    <tr>\n      <th>27</th>\n      <td>AVERAGE_SUM_ORG_UNIT</td>\n      <td>[]</td>\n      <td>AGGREGATE</td>\n      <td>Autopsy rate</td>\n      <td>Autopsy rate</td>\n      <td>{'id': 'bjDvmb4bfuf'}</td>\n      <td>INTEGER_ZERO_OR_POSITIVE</td>\n      <td>Economy Index</td>\n      <td>NaN</td>\n      <td>False</td>\n    </tr>\n    <tr>\n      <th>28</th>\n      <td>AVERAGE_SUM_ORG_UNIT</td>\n      <td>[]</td>\n      <td>AGGREGATE</td>\n      <td>Emergency pressure</td>\n      <td>Emergency pressure</td>\n      <td>{'id': 'bjDvmb4bfuf'}</td>\n      <td>INTEGER_ZERO_OR_POSITIVE</td>\n      <td>Economy Index</td>\n      <td>NaN</td>\n      <td>False</td>\n    </tr>\n    <tr>\n      <th>29</th>\n      <td>AVERAGE_SUM_ORG_UNIT</td>\n      <td>[]</td>\n      <td>AGGREGATE</td>\n      <td>Cesarean section delivery rate</td>\n      <td>Cesarean section delivery rate</td>\n      <td>{'id': 'bjDvmb4bfuf'}</td>\n      <td>INTEGER_ZERO_OR_POSITIVE</td>\n      <td>Economy Index</td>\n      <td>NaN</td>\n      <td>False</td>\n    </tr>\n    <tr>\n      <th>30</th>\n      <td>AVERAGE_SUM_ORG_UNIT</td>\n      <td>[]</td>\n      <td>AGGREGATE</td>\n      <td>Vaginal delivery rate</td>\n      <td>Vaginal delivery rate</td>\n      <td>{'id': 'bjDvmb4bfuf'}</td>\n      <td>INTEGER_ZERO_OR_POSITIVE</td>\n      <td>Economy Index</td>\n      <td>NaN</td>\n      <td>False</td>\n    </tr>\n    <tr>\n      <th>31</th>\n      <td>AVERAGE_SUM_ORG_UNIT</td>\n      <td>[]</td>\n      <td>AGGREGATE</td>\n      <td>Newborn rate</td>\n      <td>Newborn rate</td>\n      <td>{'id': 'bjDvmb4bfuf'}</td>\n      <td>INTEGER_ZERO_OR_POSITIVE</td>\n      <td>Economy Index</td>\n      <td>NaN</td>\n      <td>False</td>\n    </tr>\n    <tr>\n      <th>32</th>\n      <td>AVERAGE_SUM_ORG_UNIT</td>\n      <td>[]</td>\n      <td>AGGREGATE</td>\n      <td>Inpatient surgery index</td>\n      <td>Inpatient surgery index</td>\n      <td>{'id': 'bjDvmb4bfuf'}</td>\n      <td>INTEGER_ZERO_OR_POSITIVE</td>\n      <td>Economy Index</td>\n      <td>NaN</td>\n      <td>False</td>\n    </tr>\n    <tr>\n      <th>33</th>\n      <td>AVERAGE_SUM_ORG_UNIT</td>\n      <td>[]</td>\n      <td>AGGREGATE</td>\n      <td>Outpatient surgery index</td>\n      <td>Outpatient surgery index</td>\n      <td>{'id': 'bjDvmb4bfuf'}</td>\n      <td>INTEGER_ZERO_OR_POSITIVE</td>\n      <td>Economy Index</td>\n      <td>NaN</td>\n      <td>False</td>\n    </tr>\n    <tr>\n      <th>34</th>\n      <td>AVERAGE_SUM_ORG_UNIT</td>\n      <td>[]</td>\n      <td>AGGREGATE</td>\n      <td>Scheduled surgery index</td>\n      <td>Scheduled surgery index</td>\n      <td>{'id': 'bjDvmb4bfuf'}</td>\n      <td>INTEGER_ZERO_OR_POSITIVE</td>\n      <td>Economy Index</td>\n      <td>NaN</td>\n      <td>False</td>\n    </tr>\n    <tr>\n      <th>35</th>\n      <td>AVERAGE_SUM_ORG_UNIT</td>\n      <td>[]</td>\n      <td>AGGREGATE</td>\n      <td>Emergency surgery index</td>\n      <td>Emergency surgery index</td>\n      <td>{'id': 'bjDvmb4bfuf'}</td>\n      <td>INTEGER_ZERO_OR_POSITIVE</td>\n      <td>Economy Index</td>\n      <td>NaN</td>\n      <td>False</td>\n    </tr>\n    <tr>\n      <th>36</th>\n      <td>SUM</td>\n      <td>[]</td>\n      <td>AGGREGATE</td>\n      <td>Mortality during weekend surgical intervention</td>\n      <td>Mortality during weekend surgical intervention</td>\n      <td>{'id': 'bjDvmb4bfuf'}</td>\n      <td>INTEGER_ZERO_OR_POSITIVE</td>\n      <td>Economy Index</td>\n      <td>NaN</td>\n      <td>False</td>\n    </tr>\n    <tr>\n      <th>37</th>\n      <td>SUM</td>\n      <td>[]</td>\n      <td>AGGREGATE</td>\n      <td>Episodes with surgery</td>\n      <td>Episodes with surgery</td>\n      <td>{'id': 'bjDvmb4bfuf'}</td>\n      <td>INTEGER_ZERO_OR_POSITIVE</td>\n      <td>Economy Index</td>\n      <td>NaN</td>\n      <td>False</td>\n    </tr>\n    <tr>\n      <th>38</th>\n      <td>SUM</td>\n      <td>[]</td>\n      <td>AGGREGATE</td>\n      <td>Mortality in surgical episode</td>\n      <td>Mortality in surgical episode</td>\n      <td>{'id': 'bjDvmb4bfuf'}</td>\n      <td>INTEGER_ZERO_OR_POSITIVE</td>\n      <td>Economy Index</td>\n      <td>NaN</td>\n      <td>False</td>\n    </tr>\n    <tr>\n      <th>39</th>\n      <td>SUM</td>\n      <td>[]</td>\n      <td>AGGREGATE</td>\n      <td>Re-surgery rate</td>\n      <td>Re-surgery rate</td>\n      <td>{'id': 'bjDvmb4bfuf'}</td>\n      <td>INTEGER_ZERO_OR_POSITIVE</td>\n      <td>Economy Index</td>\n      <td>NaN</td>\n      <td>False</td>\n    </tr>\n    <tr>\n      <th>40</th>\n      <td>SUM</td>\n      <td>[]</td>\n      <td>AGGREGATE</td>\n      <td>Average preoperative stay</td>\n      <td>Average preoperative stay</td>\n      <td>{'id': 'bjDvmb4bfuf'}</td>\n      <td>INTEGER_ZERO_OR_POSITIVE</td>\n      <td>Economy Index</td>\n      <td>NaN</td>\n      <td>False</td>\n    </tr>\n    <tr>\n      <th>41</th>\n      <td>SUM</td>\n      <td>[]</td>\n      <td>AGGREGATE</td>\n      <td>Emergency mortality rate</td>\n      <td>Emergency mortality rate</td>\n      <td>{'id': 'bjDvmb4bfuf'}</td>\n      <td>INTEGER_ZERO_OR_POSITIVE</td>\n      <td>Economy Index</td>\n      <td>NaN</td>\n      <td>False</td>\n    </tr>\n    <tr>\n      <th>42</th>\n      <td>SUM</td>\n      <td>[]</td>\n      <td>AGGREGATE</td>\n      <td>Average emergency time</td>\n      <td>Average emergency time</td>\n      <td>{'id': 'bjDvmb4bfuf'}</td>\n      <td>INTEGER_ZERO_OR_POSITIVE</td>\n      <td>Economy Index</td>\n      <td>NaN</td>\n      <td>False</td>\n    </tr>\n    <tr>\n      <th>43</th>\n      <td>SUM</td>\n      <td>[]</td>\n      <td>AGGREGATE</td>\n      <td>Rate of return to emergency within 72 hours</td>\n      <td>Rate of return to emergency within 72 hours</td>\n      <td>{'id': 'bjDvmb4bfuf'}</td>\n      <td>INTEGER_ZERO_OR_POSITIVE</td>\n      <td>Economy Index</td>\n      <td>NaN</td>\n      <td>False</td>\n    </tr>\n  </tbody>\n</table>\n</div>"
     },
     "execution_count": 24,
     "metadata": {},
     "output_type": "execute_result"
    }
   ],
   "source": [
    "df"
   ],
   "metadata": {
    "collapsed": false,
    "ExecuteTime": {
     "end_time": "2023-09-05T11:03:11.749378485Z",
     "start_time": "2023-09-05T11:03:11.691246260Z"
    }
   },
   "id": "34110410e168b071"
  },
  {
   "cell_type": "code",
   "execution_count": 30,
   "outputs": [],
   "source": [
    "payloads = df.to_dict(orient='records')"
   ],
   "metadata": {
    "collapsed": false,
    "ExecuteTime": {
     "end_time": "2023-09-05T11:05:43.684867713Z",
     "start_time": "2023-09-05T11:05:43.611021477Z"
    }
   },
   "id": "a4a52c04b7406c09"
  },
  {
   "cell_type": "code",
   "execution_count": 31,
   "outputs": [
    {
     "data": {
      "text/plain": "{'aggregationType': 'SUM',\n 'attributeValues': '[]',\n 'domainType': 'AGGREGATE',\n 'name': 'B',\n 'formName': 'HospitalBedOccupancyt',\n 'categoryCombo': \"{'id': 'bjDvmb4bfuf'}\",\n 'valueType': 'INTEGER_ZERO_OR_POSITIVE',\n 'dataset': 'IDS - Report: Suspected, Confirm, Death, Recovered',\n 'datasetCode': 'ZyZmZTUwctj',\n 'perDissease': True}"
     },
     "execution_count": 31,
     "metadata": {},
     "output_type": "execute_result"
    }
   ],
   "source": [
    "payloads[0]"
   ],
   "metadata": {
    "collapsed": false,
    "ExecuteTime": {
     "end_time": "2023-09-05T11:05:44.726283092Z",
     "start_time": "2023-09-05T11:05:44.660353342Z"
    }
   },
   "id": "1241f3eee28577e1"
  },
  {
   "cell_type": "code",
   "execution_count": null,
   "outputs": [],
   "source": [],
   "metadata": {
    "collapsed": false
   },
   "id": "d5b50ae2d20fa5ad"
  }
 ],
 "metadata": {
  "kernelspec": {
   "name": "dhis2-opendx28",
   "language": "python",
   "display_name": "dhis2-opendx28"
  },
  "language_info": {
   "codemirror_mode": {
    "name": "ipython",
    "version": 2
   },
   "file_extension": ".py",
   "mimetype": "text/x-python",
   "name": "python",
   "nbconvert_exporter": "python",
   "pygments_lexer": "ipython2",
   "version": "2.7.6"
  }
 },
 "nbformat": 4,
 "nbformat_minor": 5
}
