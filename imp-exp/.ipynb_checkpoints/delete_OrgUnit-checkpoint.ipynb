{
 "cells": [
  {
   "cell_type": "code",
   "execution_count": null,
   "id": "481de5c5",
   "metadata": {},
   "outputs": [],
   "source": [
    "import pandas as pd\n",
    "import random"
   ]
  },
  {
   "cell_type": "code",
   "execution_count": null,
   "id": "f5f0ec31",
   "metadata": {},
   "outputs": [],
   "source": [
    "import requests\n",
    "import json\n",
    "from gen import *"
   ]
  },
  {
   "cell_type": "code",
   "execution_count": 3,
   "id": "f60cf63f",
   "metadata": {},
   "outputs": [],
   "source": [
    "URL = \"http://localhost:8080\""
   ]
  },
  {
   "cell_type": "code",
   "execution_count": 4,
   "id": "9682a2c8",
   "metadata": {},
   "outputs": [],
   "source": [
    "def auth_dhis(url):\n",
    "    url = url+ \"/api/me\"\n",
    "    session = requests.Session()\n",
    "    session.auth = ('admin', 'district')\n",
    "    return session"
   ]
  },
  {
   "cell_type": "code",
   "execution_count": 5,
   "id": "35c81fba",
   "metadata": {},
   "outputs": [],
   "source": [
    "def get_data(key):\n",
    "    url = URL + \"/api/me\"\n",
    "    session = requests.Session()\n",
    "    session.auth = ('admin', 'district')\n",
    "    response = session.get(URL + \"/api/\" + key )\n",
    "    if response.status_code == 200:\n",
    "        json_response = json.loads(response.text)\n",
    "        return json_response\n",
    "    else:\n",
    "        print(\"bad response: \" + str(response.status_code))\n",
    "        return None"
   ]
  },
  {
   "cell_type": "code",
   "execution_count": null,
   "id": "b041a1f5",
   "metadata": {},
   "outputs": [],
   "source": [
    "response = get_data(\"organisationUnits\") # json\n"
   ]
  },
  {
   "cell_type": "code",
   "execution_count": 197,
   "id": "b78d5296",
   "metadata": {},
   "outputs": [
    {
     "name": "stdout",
     "output_type": "stream",
     "text": [
      "405\n"
     ]
    }
   ],
   "source": [
    "# response = session.delete(URL + \"/organisationUnits/\" + \"SRW3lubkRqd\")\n",
    "# NO FUNCIONA! \n",
    "response = session.patch(URL + \"/api/maintenance/dataPruning/organisationUnits/\" + \"SRW3lubkRqd\")\n",
    "print(response.status_code)"
   ]
  },
  {
   "cell_type": "code",
   "execution_count": 8,
   "id": "8e0ac314",
   "metadata": {},
   "outputs": [],
   "source": [
    "json_response = get_data(\"organisationUnits\")\n",
    "orgunits = json_response[\"organisationUnits\"]"
   ]
  },
  {
   "cell_type": "code",
   "execution_count": 206,
   "id": "c91568e8",
   "metadata": {},
   "outputs": [],
   "source": [
    "# atribute geometry tiene id:\"CrJdK4CsRGs\" entonces tengo que borrar ese atributo ? \n",
    "def delete_OrgUnit_by_parent(parent_name):\n",
    "    ids = []\n",
    "    response = get_data(\"organisationUnits\") # json\n",
    "    if response:\n",
    "        orgUnits_dic = response[\"organisationUnits\"] #list of dics\n",
    "    else:\n",
    "        return None\n",
    "    orgUnits_df = pd.DataFrame(orgUnits_dic)\n",
    "    parent = org_units_df[org_units_df[\"displayName\"] == parent_name ].to_dict(\"records\")\n",
    "    if parent:\n",
    "        id_parent = parent[0]['id']\n",
    "    else:\n",
    "        print(\"there is no org unit call\" + parent_name)\n",
    "    for i in orgUnits_dic:\n",
    "        org_unit = get_data(\"organisationUnits/\" + i[\"id\"])\n",
    "        try:\n",
    "            t =  org_unit[\"parent\"][\"id\"]\n",
    "            if org_unit[\"parent\"][\"id\"] == id_parent:\n",
    "                ids.append(i[\"id\"])\n",
    "                \n",
    "#                 response = session.delete(URL + \"/organisationUnits/\"+ i[\"id\"])\n",
    "#                 if response.status_code == 200:\n",
    "#                     print(\"La unidad organizativa\" + i[\"displayName\"] +  \"se eliminó con éxito.\")\n",
    "#                 else:\n",
    "#                     print(\"Hubo un error al eliminar la unidad organizativa. Código de estado HTTP:\", response.status_code)\n",
    "        except KeyError:\n",
    "            print(\"this is a root organizationUnit\")\n",
    "    d =  {\"organisationUnits\": [{\"id\": id} for id in ids]}\n",
    "    # TODO una vez hecho esto este diccionario habrá qeu pasarlo po maintanence con la opción delete\n",
    "    return json.dumps(d)\n",
    "    \n",
    "# https://docs.dhis2.org/archive/en/2.28/developer/html/webapi_metadata_import.html            \n",
    "\n",
    "\n",
    "\n",
    "        "
   ]
  },
  {
   "cell_type": "code",
   "execution_count": 209,
   "id": "686d1598",
   "metadata": {},
   "outputs": [],
   "source": [
    "import geopandas as gpd\n"
   ]
  },
  {
   "cell_type": "code",
   "execution_count": 271,
   "id": "d130afec",
   "metadata": {
    "scrolled": false
   },
   "outputs": [
    {
     "data": {
      "text/html": [
       "<div>\n",
       "<style scoped>\n",
       "    .dataframe tbody tr th:only-of-type {\n",
       "        vertical-align: middle;\n",
       "    }\n",
       "\n",
       "    .dataframe tbody tr th {\n",
       "        vertical-align: top;\n",
       "    }\n",
       "\n",
       "    .dataframe thead th {\n",
       "        text-align: right;\n",
       "    }\n",
       "</style>\n",
       "<table border=\"1\" class=\"dataframe\">\n",
       "  <thead>\n",
       "    <tr style=\"text-align: right;\">\n",
       "      <th></th>\n",
       "      <th>geocode</th>\n",
       "      <th>geopadre</th>\n",
       "      <th>etiqueta</th>\n",
       "      <th>notas</th>\n",
       "      <th>granularidad</th>\n",
       "      <th>gcd_provincia</th>\n",
       "      <th>gcd_isla</th>\n",
       "      <th>gcd_grancomarca</th>\n",
       "      <th>gcd_comarca</th>\n",
       "      <th>ign_sup</th>\n",
       "      <th>ign_perim</th>\n",
       "      <th>utm_x</th>\n",
       "      <th>utm_y</th>\n",
       "      <th>longitud</th>\n",
       "      <th>latitud</th>\n",
       "      <th>utm_x_capi</th>\n",
       "      <th>utm_y_capi</th>\n",
       "      <th>long_capi</th>\n",
       "      <th>lati_capi</th>\n",
       "      <th>geometry</th>\n",
       "    </tr>\n",
       "  </thead>\n",
       "  <tbody>\n",
       "    <tr>\n",
       "      <th>0</th>\n",
       "      <td>35001</td>\n",
       "      <td>ES705A22</td>\n",
       "      <td>Agaete</td>\n",
       "      <td>Ayuntamiento de Agaete</td>\n",
       "      <td>MUNICIPIOS</td>\n",
       "      <td>ES701</td>\n",
       "      <td>ES705</td>\n",
       "      <td>ES705A2</td>\n",
       "      <td>ES705A22</td>\n",
       "      <td>4451.16</td>\n",
       "      <td>41038.0</td>\n",
       "      <td>432237.32</td>\n",
       "      <td>3105495.86</td>\n",
       "      <td>-15.689645</td>\n",
       "      <td>28.073135</td>\n",
       "      <td>431360.28</td>\n",
       "      <td>3108387.71</td>\n",
       "      <td>-15.698739</td>\n",
       "      <td>28.099193</td>\n",
       "      <td>(POLYGON ((-15.74603672847631 28.0510585578892...</td>\n",
       "    </tr>\n",
       "    <tr>\n",
       "      <th>1</th>\n",
       "      <td>35002</td>\n",
       "      <td>ES705A32</td>\n",
       "      <td>Agüimes</td>\n",
       "      <td>Ayuntamiento de Agüimes</td>\n",
       "      <td>MUNICIPIOS</td>\n",
       "      <td>ES701</td>\n",
       "      <td>ES705</td>\n",
       "      <td>ES705A3</td>\n",
       "      <td>ES705A32</td>\n",
       "      <td>7889.72</td>\n",
       "      <td>55508.0</td>\n",
       "      <td>455417.29</td>\n",
       "      <td>3085973.99</td>\n",
       "      <td>-15.453004</td>\n",
       "      <td>27.897893</td>\n",
       "      <td>456117.58</td>\n",
       "      <td>3086639.88</td>\n",
       "      <td>-15.445914</td>\n",
       "      <td>27.903927</td>\n",
       "      <td>(POLYGON ((-15.38690327697937 27.9025099133621...</td>\n",
       "    </tr>\n",
       "    <tr>\n",
       "      <th>2</th>\n",
       "      <td>35003</td>\n",
       "      <td>ES704A01</td>\n",
       "      <td>Antigua</td>\n",
       "      <td>Ayuntamiento De Antigua</td>\n",
       "      <td>MUNICIPIOS</td>\n",
       "      <td>ES701</td>\n",
       "      <td>ES704</td>\n",
       "      <td>ES704A0</td>\n",
       "      <td>ES704A01</td>\n",
       "      <td>25024.80</td>\n",
       "      <td>79292.0</td>\n",
       "      <td>603336.94</td>\n",
       "      <td>3136732.92</td>\n",
       "      <td>-13.945579</td>\n",
       "      <td>28.352768</td>\n",
       "      <td>596564.74</td>\n",
       "      <td>3144502.79</td>\n",
       "      <td>-14.014024</td>\n",
       "      <td>28.423412</td>\n",
       "      <td>(POLYGON ((-13.91950980860212 28.2514875720348...</td>\n",
       "    </tr>\n",
       "    <tr>\n",
       "      <th>3</th>\n",
       "      <td>35004</td>\n",
       "      <td>ES708A01</td>\n",
       "      <td>Arrecife</td>\n",
       "      <td>Ayuntamiento De Arrecife</td>\n",
       "      <td>MUNICIPIOS</td>\n",
       "      <td>ES701</td>\n",
       "      <td>ES708</td>\n",
       "      <td>ES708A0</td>\n",
       "      <td>ES708A01</td>\n",
       "      <td>2427.54</td>\n",
       "      <td>36641.0</td>\n",
       "      <td>641157.78</td>\n",
       "      <td>3206510.34</td>\n",
       "      <td>-13.551117</td>\n",
       "      <td>28.978878</td>\n",
       "      <td>641613.10</td>\n",
       "      <td>3204338.91</td>\n",
       "      <td>-13.546719</td>\n",
       "      <td>28.959235</td>\n",
       "      <td>(POLYGON ((-13.58358501395838 28.9519680854640...</td>\n",
       "    </tr>\n",
       "    <tr>\n",
       "      <th>4</th>\n",
       "      <td>35005</td>\n",
       "      <td>ES705A23</td>\n",
       "      <td>Artenara</td>\n",
       "      <td>Ayuntamiento de Artenara</td>\n",
       "      <td>MUNICIPIOS</td>\n",
       "      <td>ES701</td>\n",
       "      <td>ES705</td>\n",
       "      <td>ES705A2</td>\n",
       "      <td>ES705A23</td>\n",
       "      <td>6641.90</td>\n",
       "      <td>50791.0</td>\n",
       "      <td>432859.41</td>\n",
       "      <td>3099392.63</td>\n",
       "      <td>-15.682966</td>\n",
       "      <td>28.018075</td>\n",
       "      <td>436451.97</td>\n",
       "      <td>3099620.39</td>\n",
       "      <td>-15.646436</td>\n",
       "      <td>28.020308</td>\n",
       "      <td>(POLYGON ((-15.74959185013334 27.9880062442141...</td>\n",
       "    </tr>\n",
       "  </tbody>\n",
       "</table>\n",
       "</div>"
      ],
      "text/plain": [
       "  geocode  geopadre  etiqueta                     notas granularidad  \\\n",
       "0   35001  ES705A22    Agaete    Ayuntamiento de Agaete   MUNICIPIOS   \n",
       "1   35002  ES705A32   Agüimes   Ayuntamiento de Agüimes   MUNICIPIOS   \n",
       "2   35003  ES704A01   Antigua   Ayuntamiento De Antigua   MUNICIPIOS   \n",
       "3   35004  ES708A01  Arrecife  Ayuntamiento De Arrecife   MUNICIPIOS   \n",
       "4   35005  ES705A23  Artenara  Ayuntamiento de Artenara   MUNICIPIOS   \n",
       "\n",
       "  gcd_provincia gcd_isla gcd_grancomarca gcd_comarca   ign_sup  ign_perim  \\\n",
       "0         ES701    ES705         ES705A2    ES705A22   4451.16    41038.0   \n",
       "1         ES701    ES705         ES705A3    ES705A32   7889.72    55508.0   \n",
       "2         ES701    ES704         ES704A0    ES704A01  25024.80    79292.0   \n",
       "3         ES701    ES708         ES708A0    ES708A01   2427.54    36641.0   \n",
       "4         ES701    ES705         ES705A2    ES705A23   6641.90    50791.0   \n",
       "\n",
       "       utm_x       utm_y   longitud    latitud  utm_x_capi  utm_y_capi  \\\n",
       "0  432237.32  3105495.86 -15.689645  28.073135   431360.28  3108387.71   \n",
       "1  455417.29  3085973.99 -15.453004  27.897893   456117.58  3086639.88   \n",
       "2  603336.94  3136732.92 -13.945579  28.352768   596564.74  3144502.79   \n",
       "3  641157.78  3206510.34 -13.551117  28.978878   641613.10  3204338.91   \n",
       "4  432859.41  3099392.63 -15.682966  28.018075   436451.97  3099620.39   \n",
       "\n",
       "   long_capi  lati_capi                                           geometry  \n",
       "0 -15.698739  28.099193  (POLYGON ((-15.74603672847631 28.0510585578892...  \n",
       "1 -15.445914  27.903927  (POLYGON ((-15.38690327697937 27.9025099133621...  \n",
       "2 -14.014024  28.423412  (POLYGON ((-13.91950980860212 28.2514875720348...  \n",
       "3 -13.546719  28.959235  (POLYGON ((-13.58358501395838 28.9519680854640...  \n",
       "4 -15.646436  28.020308  (POLYGON ((-15.74959185013334 27.9880062442141...  "
      ]
     },
     "execution_count": 271,
     "metadata": {},
     "output_type": "execute_result"
    }
   ],
   "source": [
    "# Load GeoJSON file\n",
    "gdf = gpd.read_file('../org_units/mapas/municipios_desde2007_20170101.json')\n",
    "\n",
    "# Convert GeoDataFrame to DataFrame\n",
    "df = pd.DataFrame(gdf)\n",
    "\n",
    "df.head()"
   ]
  },
  {
   "cell_type": "code",
   "execution_count": null,
   "id": "aacaf574",
   "metadata": {},
   "outputs": [],
   "source": []
  },
  {
   "cell_type": "code",
   "execution_count": 272,
   "id": "91308233",
   "metadata": {},
   "outputs": [],
   "source": [
    "def get_org_unit_id(name):\n",
    "    ids = []\n",
    "    response = get_data(\"organisationUnits\") # json\n",
    "    if response:\n",
    "        orgUnits_dic = response[\"organisationUnits\"] #list of dics\n",
    "    else:\n",
    "        return None\n",
    "    orgUnits_df = pd.DataFrame(orgUnits_dic)\n",
    "    orgUnit = orgUnits_df[orgUnits_df[\"displayName\"] == name ].to_dict(\"records\")\n",
    "    if orgUnit:\n",
    "        orgUnit_id = orgUnit[0]['id']\n",
    "        return orgUnit_id\n",
    "    else:\n",
    "        print(\"no org unit called \" + name)\n",
    "        return None\n",
    "    "
   ]
  },
  {
   "cell_type": "code",
   "execution_count": 273,
   "id": "77d6d902",
   "metadata": {},
   "outputs": [],
   "source": [
    "canarias_id = get_org_unit_id(\"Canarias\")\n"
   ]
  },
  {
   "cell_type": "code",
   "execution_count": 274,
   "id": "23d2c741",
   "metadata": {},
   "outputs": [],
   "source": [
    "org_unit_can = pd.DataFrame(\n",
    "    {\n",
    "        \"name\" : df[\"etiqueta\"].to_list()\n",
    "    }\n",
    ")"
   ]
  },
  {
   "cell_type": "code",
   "execution_count": 275,
   "id": "84f9f656",
   "metadata": {},
   "outputs": [
    {
     "data": {
      "text/html": [
       "<div>\n",
       "<style scoped>\n",
       "    .dataframe tbody tr th:only-of-type {\n",
       "        vertical-align: middle;\n",
       "    }\n",
       "\n",
       "    .dataframe tbody tr th {\n",
       "        vertical-align: top;\n",
       "    }\n",
       "\n",
       "    .dataframe thead th {\n",
       "        text-align: right;\n",
       "    }\n",
       "</style>\n",
       "<table border=\"1\" class=\"dataframe\">\n",
       "  <thead>\n",
       "    <tr style=\"text-align: right;\">\n",
       "      <th></th>\n",
       "      <th>name</th>\n",
       "    </tr>\n",
       "  </thead>\n",
       "  <tbody>\n",
       "    <tr>\n",
       "      <th>0</th>\n",
       "      <td>Agaete</td>\n",
       "    </tr>\n",
       "    <tr>\n",
       "      <th>1</th>\n",
       "      <td>Agüimes</td>\n",
       "    </tr>\n",
       "    <tr>\n",
       "      <th>2</th>\n",
       "      <td>Antigua</td>\n",
       "    </tr>\n",
       "    <tr>\n",
       "      <th>3</th>\n",
       "      <td>Arrecife</td>\n",
       "    </tr>\n",
       "    <tr>\n",
       "      <th>4</th>\n",
       "      <td>Artenara</td>\n",
       "    </tr>\n",
       "    <tr>\n",
       "      <th>...</th>\n",
       "      <td>...</td>\n",
       "    </tr>\n",
       "    <tr>\n",
       "      <th>83</th>\n",
       "      <td>Vallehermoso</td>\n",
       "    </tr>\n",
       "    <tr>\n",
       "      <th>84</th>\n",
       "      <td>La Victoria de Acentejo</td>\n",
       "    </tr>\n",
       "    <tr>\n",
       "      <th>85</th>\n",
       "      <td>Vilaflor de Chasna</td>\n",
       "    </tr>\n",
       "    <tr>\n",
       "      <th>86</th>\n",
       "      <td>Villa de Mazo</td>\n",
       "    </tr>\n",
       "    <tr>\n",
       "      <th>87</th>\n",
       "      <td>El Pinar de El Hierro</td>\n",
       "    </tr>\n",
       "  </tbody>\n",
       "</table>\n",
       "<p>88 rows × 1 columns</p>\n",
       "</div>"
      ],
      "text/plain": [
       "                       name\n",
       "0                    Agaete\n",
       "1                   Agüimes\n",
       "2                   Antigua\n",
       "3                  Arrecife\n",
       "4                  Artenara\n",
       "..                      ...\n",
       "83             Vallehermoso\n",
       "84  La Victoria de Acentejo\n",
       "85       Vilaflor de Chasna\n",
       "86            Villa de Mazo\n",
       "87    El Pinar de El Hierro\n",
       "\n",
       "[88 rows x 1 columns]"
      ]
     },
     "execution_count": 275,
     "metadata": {},
     "output_type": "execute_result"
    }
   ],
   "source": [
    "org_unit_can"
   ]
  },
  {
   "cell_type": "code",
   "execution_count": 276,
   "id": "50ababb7",
   "metadata": {},
   "outputs": [],
   "source": [
    "org_unit_can[\"uid\"] = \"\"\n",
    "org_unit_can[\"code\"] = \"\"\n",
    "org_unit_can[\"parent\"] = canarias_id\n",
    "org_unit_can[\"shortname\"] = df[\"etiqueta\"].to_list()\n"
   ]
  },
  {
   "cell_type": "code",
   "execution_count": 287,
   "id": "104b4b4e",
   "metadata": {},
   "outputs": [],
   "source": [
    "org_unit_can.reset_index(drop=True, inplace=True)"
   ]
  },
  {
   "cell_type": "code",
   "execution_count": 289,
   "id": "352cb570",
   "metadata": {},
   "outputs": [],
   "source": [
    "org_unit_can.to_csv(\"org_unit_can.csv\", index = \"false\") # esto no quita la columna indez "
   ]
  },
  {
   "cell_type": "code",
   "execution_count": 284,
   "id": "14c66644",
   "metadata": {},
   "outputs": [
    {
     "name": "stdout",
     "output_type": "stream",
     "text": [
      "fake-data-dhis2.ipynb\tmain.py\t\t\t  Untitled.ipynb\r\n",
      "gen\t\t\tmauritania_org_units.txt\r\n",
      "IDS_AGG_1.2.0_DHIS2.39\torg_unit_can\r\n"
     ]
    }
   ],
   "source": [
    "!ls"
   ]
  },
  {
   "cell_type": "code",
   "execution_count": 280,
   "id": "125b3bb6",
   "metadata": {},
   "outputs": [],
   "source": [
    "def import_data_csv(file, key):\n",
    "    url = URL + \"/api/me\"\n",
    "    session = requests.Session()\n",
    "    session.auth = ('admin', 'district')\n",
    "    response = session.post(URL + \"/api/\" + key )\n",
    "    params = {\n",
    "        \n",
    "    }"
   ]
  },
  {
   "cell_type": "code",
   "execution_count": null,
   "id": "86aab310",
   "metadata": {},
   "outputs": [],
   "source": []
  }
 ],
 "metadata": {
  "kernelspec": {
   "display_name": "ds",
   "language": "python",
   "name": "ds"
  },
  "language_info": {
   "codemirror_mode": {
    "name": "ipython",
    "version": 3
   },
   "file_extension": ".py",
   "mimetype": "text/x-python",
   "name": "python",
   "nbconvert_exporter": "python",
   "pygments_lexer": "ipython3",
   "version": "3.8.3"
  }
 },
 "nbformat": 4,
 "nbformat_minor": 5
}
