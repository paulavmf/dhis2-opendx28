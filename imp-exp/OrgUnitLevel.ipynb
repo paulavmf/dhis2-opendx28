{
 "cells": [
  {
   "cell_type": "code",
   "execution_count": 22,
   "id": "88f315c7",
   "metadata": {},
   "outputs": [],
   "source": [
    "from imp_ext_func import *"
   ]
  },
  {
   "cell_type": "code",
   "execution_count": 23,
   "id": "eb6d2ba0",
   "metadata": {},
   "outputs": [],
   "source": [
    "response = get_data(\"organisationUnitLevels\")"
   ]
  },
  {
   "cell_type": "code",
   "execution_count": 24,
   "id": "77ca15a6",
   "metadata": {},
   "outputs": [
    {
     "data": {
      "text/plain": [
       "[{'displayName': 'Level 1', 'id': 'ODyFlilSVN1'},\n",
       " {'displayName': 'Level 2', 'id': 'SL4m0IXoinB'},\n",
       " {'displayName': 'Level 3', 'id': 'QYihTLNJiPB'},\n",
       " {'displayName': 'Level 4', 'id': 'J8g0VmfROHS'}]"
      ]
     },
     "execution_count": 24,
     "metadata": {},
     "output_type": "execute_result"
    }
   ],
   "source": [
    "response[\"organisationUnitLevels\"]"
   ]
  },
  {
   "cell_type": "code",
   "execution_count": null,
   "id": "615f475d",
   "metadata": {},
   "outputs": [],
   "source": []
  }
 ],
 "metadata": {
  "kernelspec": {
   "display_name": "ds",
   "language": "python",
   "name": "ds"
  },
  "language_info": {
   "codemirror_mode": {
    "name": "ipython",
    "version": 3
   },
   "file_extension": ".py",
   "mimetype": "text/x-python",
   "name": "python",
   "nbconvert_exporter": "python",
   "pygments_lexer": "ipython3",
   "version": "3.8.3"
  }
 },
 "nbformat": 4,
 "nbformat_minor": 5
}
