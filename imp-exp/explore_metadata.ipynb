{
 "cells": [
  {
   "cell_type": "code",
   "execution_count": 1,
   "id": "61c8eabb",
   "metadata": {
    "ExecuteTime": {
     "end_time": "2023-09-04T13:56:01.363960960Z",
     "start_time": "2023-09-04T13:56:00.988694209Z"
    }
   },
   "outputs": [],
   "source": [
    "import pandas as pd\n",
    "from imp_ext_func import *\n",
    "import json"
   ]
  },
  {
   "cell_type": "code",
   "execution_count": 4,
   "id": "084eb2c6",
   "metadata": {
    "ExecuteTime": {
     "end_time": "2023-07-24T21:19:35.595587545Z",
     "start_time": "2023-07-24T21:19:35.023353867Z"
    }
   },
   "outputs": [],
   "source": [
    "response = get_data(\"organisationUnits\")"
   ]
  },
  {
   "cell_type": "code",
   "execution_count": 7,
   "id": "ce5a4419",
   "metadata": {
    "ExecuteTime": {
     "end_time": "2023-07-24T21:20:17.085878243Z",
     "start_time": "2023-07-24T21:20:17.079704728Z"
    }
   },
   "outputs": [],
   "source": [
    "orgUnits = pd.DataFrame(response[\"organisationUnits\"])"
   ]
  },
  {
   "cell_type": "code",
   "execution_count": 10,
   "outputs": [
    {
     "data": {
      "text/plain": "                 displayName           id\n0                      Adeje  QMw3vvM0Hc4\n1                      Adrar  n7tAJt9hHtX\n2                     Agaete  wksUKHz27kj\n3                    Agüimes  lGHoWxCXAee\n4                      Agulo  xFSKshO8IWE\n5                    Alajeró  ALrCsdgoUFd\n6                    Antigua  ce8SMdF9fAb\n7                      Arafo  iPsPhnkjFnF\n8                      Arico  GMVSwpw0J5F\n9                      Arona  DAgKPHgHJGi\n10                  Arrecife  HCuvZFUMBP9\n11                  Artenara  e2e0EB3tpOf\n12                    Arucas  grBrp2ft1Yg\n13                    Assaba  sdQb3PL8enX\n14                Barlavento  gH3lpoKfZtF\n15                Barlovento  vDw5oUYh2vQ\n16                Betancuria  lZMmWVGIG6p\n17                 Boa Vista  yFFpT8hIpP6\n18                    Brakna  oQnxG8zxPF6\n19                     Brava  LZMiBiRyVOA\n20                Breña Alta  e3j39pBYRqE\n21                Breña Baja  vEji5hE6Dq5\n22      Buenavista del Norte  W413gkd1iHK\n23                Cabo Verde  YWjndRiBMls\n24                  Canarias  BwaVAn6zKNI\n25                Candelaria  fcclXYudrFY\n26                     Dakar  HnOX8ej0mnk\n27        Dakhlet Nouadhibou  f6nGTjVH3rf\n28                  Diourbel  RrBtNG0oKDB\n29                   El Paso  w0RYd5IJi1J\n30     El Pinar de El Hierro  IaXn7nE6nTf\n31                El Rosario  BacPWahZTAe\n32                 El Sauzal  UETDnpGqUW7\n33                 El Tanque  NQMNGgb8lv6\n34                    Fasnia  US0RK0Hh3ZM\n35                    Fatick  lgyO2C2E18f\n36                    Firgas  eO9a6lKv5tc\n37                  Frontera  kagAb9ZbN1c\n38  Fuencaliente de La Palma  nqGlNCK6SfV\n39                    Gáldar  HLCIIDB4wVg\n40                 Garachico  nxvFvS2K9kp\n41                   Garafía  ZdENRXepMgp\n42                    Gorgol  pNjwLGqxcT5\n43       Granadilla de Abona  iDTfzBz38UU\n44             Guía de Isora  Cj9OlONN59W\n45                 Guidimaka  OQJTI0IvLDa\n46                    Güímar  duTx4akwytW\n47                     Haría  nVoxNIbzS1n\n48                  Hermigua  u2aYrnvQMy4\n49          Hodh Ech Chargui  z1qfVvnrnHe",
      "text/html": "<div>\n<style scoped>\n    .dataframe tbody tr th:only-of-type {\n        vertical-align: middle;\n    }\n\n    .dataframe tbody tr th {\n        vertical-align: top;\n    }\n\n    .dataframe thead th {\n        text-align: right;\n    }\n</style>\n<table border=\"1\" class=\"dataframe\">\n  <thead>\n    <tr style=\"text-align: right;\">\n      <th></th>\n      <th>displayName</th>\n      <th>id</th>\n    </tr>\n  </thead>\n  <tbody>\n    <tr>\n      <th>0</th>\n      <td>Adeje</td>\n      <td>QMw3vvM0Hc4</td>\n    </tr>\n    <tr>\n      <th>1</th>\n      <td>Adrar</td>\n      <td>n7tAJt9hHtX</td>\n    </tr>\n    <tr>\n      <th>2</th>\n      <td>Agaete</td>\n      <td>wksUKHz27kj</td>\n    </tr>\n    <tr>\n      <th>3</th>\n      <td>Agüimes</td>\n      <td>lGHoWxCXAee</td>\n    </tr>\n    <tr>\n      <th>4</th>\n      <td>Agulo</td>\n      <td>xFSKshO8IWE</td>\n    </tr>\n    <tr>\n      <th>5</th>\n      <td>Alajeró</td>\n      <td>ALrCsdgoUFd</td>\n    </tr>\n    <tr>\n      <th>6</th>\n      <td>Antigua</td>\n      <td>ce8SMdF9fAb</td>\n    </tr>\n    <tr>\n      <th>7</th>\n      <td>Arafo</td>\n      <td>iPsPhnkjFnF</td>\n    </tr>\n    <tr>\n      <th>8</th>\n      <td>Arico</td>\n      <td>GMVSwpw0J5F</td>\n    </tr>\n    <tr>\n      <th>9</th>\n      <td>Arona</td>\n      <td>DAgKPHgHJGi</td>\n    </tr>\n    <tr>\n      <th>10</th>\n      <td>Arrecife</td>\n      <td>HCuvZFUMBP9</td>\n    </tr>\n    <tr>\n      <th>11</th>\n      <td>Artenara</td>\n      <td>e2e0EB3tpOf</td>\n    </tr>\n    <tr>\n      <th>12</th>\n      <td>Arucas</td>\n      <td>grBrp2ft1Yg</td>\n    </tr>\n    <tr>\n      <th>13</th>\n      <td>Assaba</td>\n      <td>sdQb3PL8enX</td>\n    </tr>\n    <tr>\n      <th>14</th>\n      <td>Barlavento</td>\n      <td>gH3lpoKfZtF</td>\n    </tr>\n    <tr>\n      <th>15</th>\n      <td>Barlovento</td>\n      <td>vDw5oUYh2vQ</td>\n    </tr>\n    <tr>\n      <th>16</th>\n      <td>Betancuria</td>\n      <td>lZMmWVGIG6p</td>\n    </tr>\n    <tr>\n      <th>17</th>\n      <td>Boa Vista</td>\n      <td>yFFpT8hIpP6</td>\n    </tr>\n    <tr>\n      <th>18</th>\n      <td>Brakna</td>\n      <td>oQnxG8zxPF6</td>\n    </tr>\n    <tr>\n      <th>19</th>\n      <td>Brava</td>\n      <td>LZMiBiRyVOA</td>\n    </tr>\n    <tr>\n      <th>20</th>\n      <td>Breña Alta</td>\n      <td>e3j39pBYRqE</td>\n    </tr>\n    <tr>\n      <th>21</th>\n      <td>Breña Baja</td>\n      <td>vEji5hE6Dq5</td>\n    </tr>\n    <tr>\n      <th>22</th>\n      <td>Buenavista del Norte</td>\n      <td>W413gkd1iHK</td>\n    </tr>\n    <tr>\n      <th>23</th>\n      <td>Cabo Verde</td>\n      <td>YWjndRiBMls</td>\n    </tr>\n    <tr>\n      <th>24</th>\n      <td>Canarias</td>\n      <td>BwaVAn6zKNI</td>\n    </tr>\n    <tr>\n      <th>25</th>\n      <td>Candelaria</td>\n      <td>fcclXYudrFY</td>\n    </tr>\n    <tr>\n      <th>26</th>\n      <td>Dakar</td>\n      <td>HnOX8ej0mnk</td>\n    </tr>\n    <tr>\n      <th>27</th>\n      <td>Dakhlet Nouadhibou</td>\n      <td>f6nGTjVH3rf</td>\n    </tr>\n    <tr>\n      <th>28</th>\n      <td>Diourbel</td>\n      <td>RrBtNG0oKDB</td>\n    </tr>\n    <tr>\n      <th>29</th>\n      <td>El Paso</td>\n      <td>w0RYd5IJi1J</td>\n    </tr>\n    <tr>\n      <th>30</th>\n      <td>El Pinar de El Hierro</td>\n      <td>IaXn7nE6nTf</td>\n    </tr>\n    <tr>\n      <th>31</th>\n      <td>El Rosario</td>\n      <td>BacPWahZTAe</td>\n    </tr>\n    <tr>\n      <th>32</th>\n      <td>El Sauzal</td>\n      <td>UETDnpGqUW7</td>\n    </tr>\n    <tr>\n      <th>33</th>\n      <td>El Tanque</td>\n      <td>NQMNGgb8lv6</td>\n    </tr>\n    <tr>\n      <th>34</th>\n      <td>Fasnia</td>\n      <td>US0RK0Hh3ZM</td>\n    </tr>\n    <tr>\n      <th>35</th>\n      <td>Fatick</td>\n      <td>lgyO2C2E18f</td>\n    </tr>\n    <tr>\n      <th>36</th>\n      <td>Firgas</td>\n      <td>eO9a6lKv5tc</td>\n    </tr>\n    <tr>\n      <th>37</th>\n      <td>Frontera</td>\n      <td>kagAb9ZbN1c</td>\n    </tr>\n    <tr>\n      <th>38</th>\n      <td>Fuencaliente de La Palma</td>\n      <td>nqGlNCK6SfV</td>\n    </tr>\n    <tr>\n      <th>39</th>\n      <td>Gáldar</td>\n      <td>HLCIIDB4wVg</td>\n    </tr>\n    <tr>\n      <th>40</th>\n      <td>Garachico</td>\n      <td>nxvFvS2K9kp</td>\n    </tr>\n    <tr>\n      <th>41</th>\n      <td>Garafía</td>\n      <td>ZdENRXepMgp</td>\n    </tr>\n    <tr>\n      <th>42</th>\n      <td>Gorgol</td>\n      <td>pNjwLGqxcT5</td>\n    </tr>\n    <tr>\n      <th>43</th>\n      <td>Granadilla de Abona</td>\n      <td>iDTfzBz38UU</td>\n    </tr>\n    <tr>\n      <th>44</th>\n      <td>Guía de Isora</td>\n      <td>Cj9OlONN59W</td>\n    </tr>\n    <tr>\n      <th>45</th>\n      <td>Guidimaka</td>\n      <td>OQJTI0IvLDa</td>\n    </tr>\n    <tr>\n      <th>46</th>\n      <td>Güímar</td>\n      <td>duTx4akwytW</td>\n    </tr>\n    <tr>\n      <th>47</th>\n      <td>Haría</td>\n      <td>nVoxNIbzS1n</td>\n    </tr>\n    <tr>\n      <th>48</th>\n      <td>Hermigua</td>\n      <td>u2aYrnvQMy4</td>\n    </tr>\n    <tr>\n      <th>49</th>\n      <td>Hodh Ech Chargui</td>\n      <td>z1qfVvnrnHe</td>\n    </tr>\n  </tbody>\n</table>\n</div>"
     },
     "execution_count": 10,
     "metadata": {},
     "output_type": "execute_result"
    }
   ],
   "source": [
    "    orgUnits"
   ],
   "metadata": {
    "collapsed": false,
    "ExecuteTime": {
     "end_time": "2023-07-24T21:20:55.610173456Z",
     "start_time": "2023-07-24T21:20:55.582282685Z"
    }
   },
   "id": "ad7b565744c4abc5"
  },
  {
   "cell_type": "code",
   "execution_count": 22,
   "outputs": [],
   "source": [
    "same_level = list()\n",
    "for i in orgUnits[\"id\"]:\n",
    "    tmp = get_data(f\"organisationUnits/{i}\")\n",
    "    if tmp['level'] == 3:\n",
    "        tmp['name']\n",
    "        same_level.append(tmp['name'])\n",
    "\n"
   ],
   "metadata": {
    "collapsed": false,
    "ExecuteTime": {
     "end_time": "2023-07-24T21:28:31.098355564Z",
     "start_time": "2023-07-24T21:28:25.529898752Z"
    }
   },
   "id": "e76d2f25a4e224b4"
  },
  {
   "cell_type": "code",
   "execution_count": 24,
   "outputs": [
    {
     "data": {
      "text/plain": "['Adeje',\n 'Adrar',\n 'Agaete',\n 'Agüimes',\n 'Agulo',\n 'Alajeró',\n 'Antigua',\n 'Arafo',\n 'Arico',\n 'Arona',\n 'Arrecife',\n 'Artenara',\n 'Arucas',\n 'Assaba',\n 'Barlavento',\n 'Barlovento',\n 'Betancuria',\n 'Boa Vista',\n 'Brakna',\n 'Brava',\n 'Breña Alta',\n 'Breña Baja',\n 'Buenavista del Norte',\n 'Candelaria',\n 'Dakar',\n 'Dakhlet Nouadhibou',\n 'Diourbel',\n 'El Paso',\n 'El Pinar de El Hierro',\n 'El Rosario',\n 'El Sauzal',\n 'El Tanque',\n 'Fasnia',\n 'Fatick',\n 'Firgas',\n 'Frontera',\n 'Fuencaliente de La Palma',\n 'Gáldar',\n 'Garachico',\n 'Garafía',\n 'Gorgol',\n 'Granadilla de Abona',\n 'Guía de Isora',\n 'Guidimaka',\n 'Güímar',\n 'Haría',\n 'Hermigua',\n 'Hodh Ech Chargui']"
     },
     "execution_count": 24,
     "metadata": {},
     "output_type": "execute_result"
    }
   ],
   "source": [
    "same_level"
   ],
   "metadata": {
    "collapsed": false,
    "ExecuteTime": {
     "end_time": "2023-07-24T21:28:43.747086543Z",
     "start_time": "2023-07-24T21:28:43.735032097Z"
    }
   },
   "id": "22afcb89cf4f516a"
  },
  {
   "cell_type": "code",
   "execution_count": 11,
   "outputs": [],
   "source": [
    "response = get_data(\"organisationUnits/QMw3vvM0Hc4\")"
   ],
   "metadata": {
    "collapsed": false,
    "ExecuteTime": {
     "end_time": "2023-07-24T21:22:04.178909166Z",
     "start_time": "2023-07-24T21:22:03.919046629Z"
    }
   },
   "id": "fc5bf9e53b6b3ce"
  },
  {
   "cell_type": "code",
   "execution_count": 16,
   "outputs": [
    {
     "data": {
      "text/plain": "'Adeje'"
     },
     "execution_count": 16,
     "metadata": {},
     "output_type": "execute_result"
    }
   ],
   "source": [
    "response['name']"
   ],
   "metadata": {
    "collapsed": false,
    "ExecuteTime": {
     "end_time": "2023-07-24T21:26:08.746127730Z",
     "start_time": "2023-07-24T21:26:08.737489890Z"
    }
   },
   "id": "af21199affaa2a8f"
  },
  {
   "cell_type": "code",
   "execution_count": null,
   "outputs": [],
   "source": [],
   "metadata": {
    "collapsed": false
   },
   "id": "444b967757c28277"
  },
  {
   "cell_type": "code",
   "execution_count": null,
   "outputs": [],
   "source": [],
   "metadata": {
    "collapsed": false
   },
   "id": "1c0137bf7e835902"
  },
  {
   "cell_type": "code",
   "execution_count": 3,
   "id": "897ae6cd",
   "metadata": {
    "ExecuteTime": {
     "end_time": "2023-09-04T13:57:45.594378438Z",
     "start_time": "2023-09-04T13:57:45.574059289Z"
    }
   },
   "outputs": [],
   "source": [
    "# metadata = \"../metadatas/IDS_AGG_1.2.0_DHIS2.39/IDS_AGG_COMPLETE_1.2.0_DHIS2.39/IDS_AGG_COMPLETE_1.2.0_DHIS2.39.json\"\n",
    "metadata = \"/home/paula/Documentos/opendx28/opendx_course/dhis2/resources/metadata/full_orgUnits_groups_geometries_Users_copy.json\""
   ]
  },
  {
   "cell_type": "code",
   "execution_count": 4,
   "id": "b750b1c0",
   "metadata": {
    "ExecuteTime": {
     "end_time": "2023-09-04T13:57:46.022729398Z",
     "start_time": "2023-09-04T13:57:45.981915411Z"
    }
   },
   "outputs": [],
   "source": [
    "# Open the JSON file\n",
    "\n",
    "\n",
    "with open(metadata) as f:\n",
    "    # Load JSON data from file\n",
    "    data = json.load(f)"
   ]
  },
  {
   "cell_type": "code",
   "execution_count": 5,
   "id": "3d9e0888",
   "metadata": {
    "scrolled": true,
    "ExecuteTime": {
     "end_time": "2023-09-04T13:57:48.985167550Z",
     "start_time": "2023-09-04T13:57:48.968257431Z"
    }
   },
   "outputs": [
    {
     "data": {
      "text/plain": "40"
     },
     "execution_count": 5,
     "metadata": {},
     "output_type": "execute_result"
    }
   ],
   "source": [
    "len(data.keys())"
   ]
  },
  {
   "cell_type": "code",
   "execution_count": 8,
   "id": "3ab16385",
   "metadata": {
    "scrolled": false,
    "ExecuteTime": {
     "end_time": "2023-07-20T15:44:03.748440966Z",
     "start_time": "2023-07-20T15:44:03.732830890Z"
    }
   },
   "outputs": [
    {
     "data": {
      "text/plain": "dict_keys(['userRoles', 'attributes', 'organisationUnitGroups', 'organisationUnits', 'users', 'organisationUnitLevels'])"
     },
     "execution_count": 8,
     "metadata": {},
     "output_type": "execute_result"
    }
   ],
   "source": [
    "data.keys()"
   ]
  },
  {
   "cell_type": "code",
   "execution_count": 9,
   "outputs": [],
   "source": [
    "df = pd.DataFrame(data)"
   ],
   "metadata": {
    "collapsed": false,
    "ExecuteTime": {
     "end_time": "2023-07-20T15:44:20.130689874Z",
     "start_time": "2023-07-20T15:44:20.086671819Z"
    }
   },
   "id": "4b03ec5f88c4bf93"
  },
  {
   "cell_type": "code",
   "execution_count": 10,
   "outputs": [
    {
     "data": {
      "text/plain": "      name                  created              lastUpdated translations  \\\n0    Adeje  2023-07-20T08:54:33.358  2023-07-20T08:54:33.437           []   \n1    Adrar  2023-07-20T08:54:33.362  2023-07-20T08:54:33.438           []   \n2   Agaete  2023-07-20T08:54:33.356  2023-07-20T08:54:33.437           []   \n3  Agüimes  2023-07-20T08:54:33.356  2023-07-20T08:54:33.437           []   \n4    Agulo  2023-07-20T08:54:33.358  2023-07-20T08:54:33.437           []   \n\n                                           createdBy  \\\n0  {'id': 'M5zQapPyTZI', 'code': 'admin', 'name':...   \n1  {'id': 'M5zQapPyTZI', 'code': 'admin', 'name':...   \n2  {'id': 'M5zQapPyTZI', 'code': 'admin', 'name':...   \n3  {'id': 'M5zQapPyTZI', 'code': 'admin', 'name':...   \n4  {'id': 'M5zQapPyTZI', 'code': 'admin', 'name':...   \n\n                                       lastUpdatedBy shortName  \\\n0  {'id': 'M5zQapPyTZI', 'code': 'admin', 'name':...     Adeje   \n1  {'id': 'M5zQapPyTZI', 'code': 'admin', 'name':...     Adrar   \n2  {'id': 'M5zQapPyTZI', 'code': 'admin', 'name':...    Agaete   \n3  {'id': 'M5zQapPyTZI', 'code': 'admin', 'name':...   Agüimes   \n4  {'id': 'M5zQapPyTZI', 'code': 'admin', 'name':...     Agulo   \n\n                  parent                                  path  \\\n0  {'id': 'BwaVAn6zKNI'}  /Fu370tZTKYz/BwaVAn6zKNI/QMw3vvM0Hc4   \n1  {'id': 'mBfWAWEnyeQ'}  /Fu370tZTKYz/mBfWAWEnyeQ/n7tAJt9hHtX   \n2  {'id': 'BwaVAn6zKNI'}  /Fu370tZTKYz/BwaVAn6zKNI/wksUKHz27kj   \n3  {'id': 'BwaVAn6zKNI'}  /Fu370tZTKYz/BwaVAn6zKNI/lGHoWxCXAee   \n4  {'id': 'BwaVAn6zKNI'}  /Fu370tZTKYz/BwaVAn6zKNI/xFSKshO8IWE   \n\n               openingDate           id  \\\n0  1970-01-01T00:00:00.000  QMw3vvM0Hc4   \n1  1970-01-01T00:00:00.000  n7tAJt9hHtX   \n2  1970-01-01T00:00:00.000  wksUKHz27kj   \n3  1970-01-01T00:00:00.000  lGHoWxCXAee   \n4  1970-01-01T00:00:00.000  xFSKshO8IWE   \n\n                                     attributeValues  level code  \n0  [{'attribute': {'id': 'zQygzuT9Clm'}, 'value':...      3  NaN  \n1  [{'attribute': {'id': 'zQygzuT9Clm'}, 'value':...      3  NaN  \n2  [{'attribute': {'id': 'zQygzuT9Clm'}, 'value':...      3  NaN  \n3  [{'attribute': {'id': 'zQygzuT9Clm'}, 'value':...      3  NaN  \n4  [{'attribute': {'id': 'zQygzuT9Clm'}, 'value':...      3  NaN  ",
      "text/html": "<div>\n<style scoped>\n    .dataframe tbody tr th:only-of-type {\n        vertical-align: middle;\n    }\n\n    .dataframe tbody tr th {\n        vertical-align: top;\n    }\n\n    .dataframe thead th {\n        text-align: right;\n    }\n</style>\n<table border=\"1\" class=\"dataframe\">\n  <thead>\n    <tr style=\"text-align: right;\">\n      <th></th>\n      <th>name</th>\n      <th>created</th>\n      <th>lastUpdated</th>\n      <th>translations</th>\n      <th>createdBy</th>\n      <th>lastUpdatedBy</th>\n      <th>shortName</th>\n      <th>parent</th>\n      <th>path</th>\n      <th>openingDate</th>\n      <th>id</th>\n      <th>attributeValues</th>\n      <th>level</th>\n      <th>code</th>\n    </tr>\n  </thead>\n  <tbody>\n    <tr>\n      <th>0</th>\n      <td>Adeje</td>\n      <td>2023-07-20T08:54:33.358</td>\n      <td>2023-07-20T08:54:33.437</td>\n      <td>[]</td>\n      <td>{'id': 'M5zQapPyTZI', 'code': 'admin', 'name':...</td>\n      <td>{'id': 'M5zQapPyTZI', 'code': 'admin', 'name':...</td>\n      <td>Adeje</td>\n      <td>{'id': 'BwaVAn6zKNI'}</td>\n      <td>/Fu370tZTKYz/BwaVAn6zKNI/QMw3vvM0Hc4</td>\n      <td>1970-01-01T00:00:00.000</td>\n      <td>QMw3vvM0Hc4</td>\n      <td>[{'attribute': {'id': 'zQygzuT9Clm'}, 'value':...</td>\n      <td>3</td>\n      <td>NaN</td>\n    </tr>\n    <tr>\n      <th>1</th>\n      <td>Adrar</td>\n      <td>2023-07-20T08:54:33.362</td>\n      <td>2023-07-20T08:54:33.438</td>\n      <td>[]</td>\n      <td>{'id': 'M5zQapPyTZI', 'code': 'admin', 'name':...</td>\n      <td>{'id': 'M5zQapPyTZI', 'code': 'admin', 'name':...</td>\n      <td>Adrar</td>\n      <td>{'id': 'mBfWAWEnyeQ'}</td>\n      <td>/Fu370tZTKYz/mBfWAWEnyeQ/n7tAJt9hHtX</td>\n      <td>1970-01-01T00:00:00.000</td>\n      <td>n7tAJt9hHtX</td>\n      <td>[{'attribute': {'id': 'zQygzuT9Clm'}, 'value':...</td>\n      <td>3</td>\n      <td>NaN</td>\n    </tr>\n    <tr>\n      <th>2</th>\n      <td>Agaete</td>\n      <td>2023-07-20T08:54:33.356</td>\n      <td>2023-07-20T08:54:33.437</td>\n      <td>[]</td>\n      <td>{'id': 'M5zQapPyTZI', 'code': 'admin', 'name':...</td>\n      <td>{'id': 'M5zQapPyTZI', 'code': 'admin', 'name':...</td>\n      <td>Agaete</td>\n      <td>{'id': 'BwaVAn6zKNI'}</td>\n      <td>/Fu370tZTKYz/BwaVAn6zKNI/wksUKHz27kj</td>\n      <td>1970-01-01T00:00:00.000</td>\n      <td>wksUKHz27kj</td>\n      <td>[{'attribute': {'id': 'zQygzuT9Clm'}, 'value':...</td>\n      <td>3</td>\n      <td>NaN</td>\n    </tr>\n    <tr>\n      <th>3</th>\n      <td>Agüimes</td>\n      <td>2023-07-20T08:54:33.356</td>\n      <td>2023-07-20T08:54:33.437</td>\n      <td>[]</td>\n      <td>{'id': 'M5zQapPyTZI', 'code': 'admin', 'name':...</td>\n      <td>{'id': 'M5zQapPyTZI', 'code': 'admin', 'name':...</td>\n      <td>Agüimes</td>\n      <td>{'id': 'BwaVAn6zKNI'}</td>\n      <td>/Fu370tZTKYz/BwaVAn6zKNI/lGHoWxCXAee</td>\n      <td>1970-01-01T00:00:00.000</td>\n      <td>lGHoWxCXAee</td>\n      <td>[{'attribute': {'id': 'zQygzuT9Clm'}, 'value':...</td>\n      <td>3</td>\n      <td>NaN</td>\n    </tr>\n    <tr>\n      <th>4</th>\n      <td>Agulo</td>\n      <td>2023-07-20T08:54:33.358</td>\n      <td>2023-07-20T08:54:33.437</td>\n      <td>[]</td>\n      <td>{'id': 'M5zQapPyTZI', 'code': 'admin', 'name':...</td>\n      <td>{'id': 'M5zQapPyTZI', 'code': 'admin', 'name':...</td>\n      <td>Agulo</td>\n      <td>{'id': 'BwaVAn6zKNI'}</td>\n      <td>/Fu370tZTKYz/BwaVAn6zKNI/xFSKshO8IWE</td>\n      <td>1970-01-01T00:00:00.000</td>\n      <td>xFSKshO8IWE</td>\n      <td>[{'attribute': {'id': 'zQygzuT9Clm'}, 'value':...</td>\n      <td>3</td>\n      <td>NaN</td>\n    </tr>\n  </tbody>\n</table>\n</div>"
     },
     "execution_count": 10,
     "metadata": {},
     "output_type": "execute_result"
    }
   ],
   "source": [
    "usersrolesid = [\"uFcl80EyQD4\", \"tRLf1JIMOKN\"]\n",
    "newuserRoles = userRoles[userRoles[\"id\"].isin(usersrolesid)]"
   ],
   "metadata": {
    "collapsed": false,
    "ExecuteTime": {
     "end_time": "2023-07-20T15:44:49.854738206Z",
     "start_time": "2023-07-20T15:44:49.813023589Z"
    }
   },
   "id": "6c5a98089197f508"
  },
  {
   "cell_type": "code",
   "execution_count": 11,
   "outputs": [],
   "source": [
    "newuserRoles"
   ],
   "metadata": {
    "collapsed": false,
    "ExecuteTime": {
     "end_time": "2023-07-20T15:45:27.830532189Z",
     "start_time": "2023-07-20T15:45:27.789104449Z"
    }
   },
   "id": "ab93c19c0c197bea"
  },
  {
   "cell_type": "code",
   "execution_count": 13,
   "outputs": [],
   "source": [
    "newuserRoles.drop([\"created\", \"lastUpdatedby\",\"createdBy\",\"sharing\",], axis = 1, inplace = True)"
   ],
   "metadata": {
    "collapsed": false,
    "ExecuteTime": {
     "end_time": "2023-07-20T15:45:55.863739239Z",
     "start_time": "2023-07-20T15:45:55.819906296Z"
    }
   },
   "id": "ae187d39e819821b"
  },
  {
   "cell_type": "code",
   "execution_count": 14,
   "outputs": [
    {
     "data": {
      "text/plain": "['Hospital_Adeje',\n 'Hospital_Adrar',\n 'Hospital_Agaete',\n 'Hospital_Agüimes',\n 'Hospital_Agulo',\n 'Hospital_Alajeró',\n 'Hospital_Antigua',\n 'Hospital_Arafo',\n 'Hospital_Arico',\n 'Hospital_Arona',\n 'Hospital_Arrecife',\n 'Hospital_Artenara',\n 'Hospital_Arucas',\n 'Hospital_Assaba',\n 'Hospital_Barlavento',\n 'Hospital_Barlovento',\n 'Hospital_Betancuria',\n 'Hospital_Boa Vista',\n 'Hospital_Brakna',\n 'Hospital_Brava',\n 'Hospital_Breña Alta',\n 'Hospital_Breña Baja',\n 'Hospital_Buenavista del Norte',\n 'Hospital_Candelaria',\n 'Hospital_Dakar',\n 'Hospital_Dakhlet Nouadhibou',\n 'Hospital_Diourbel',\n 'Hospital_El Paso',\n 'Hospital_El Pinar de El Hierro',\n 'Hospital_El Rosario',\n 'Hospital_El Sauzal',\n 'Hospital_El Tanque',\n 'Hospital_Fasnia',\n 'Hospital_Fatick',\n 'Hospital_Firgas',\n 'Hospital_Frontera',\n 'Hospital_Fuencaliente de La Palma',\n 'Hospital_Gáldar',\n 'Hospital_Garachico',\n 'Hospital_Garafía',\n 'Hospital_Gorgol',\n 'Hospital_Granadilla de Abona',\n 'Hospital_Guía de Isora',\n 'Hospital_Guidimaka',\n 'Hospital_Güímar',\n 'Hospital_Haría',\n 'Hospital_Hermigua',\n 'Hospital_Hodh Ech Chargui',\n 'Hospital_Hodh El Gharbi',\n 'Hospital_Icod de los Vinos',\n 'sanitary_center_Adeje',\n 'sanitary_center_Adrar',\n 'sanitary_center_Agaete',\n 'sanitary_center_Agüimes',\n 'sanitary_center_Agulo',\n 'sanitary_center_Alajeró',\n 'sanitary_center_Antigua',\n 'sanitary_center_Arafo',\n 'sanitary_center_Arico',\n 'sanitary_center_Arona',\n 'sanitary_center_Arrecife',\n 'sanitary_center_Artenara',\n 'sanitary_center_Arucas',\n 'sanitary_center_Assaba',\n 'sanitary_center_Barlavento',\n 'sanitary_center_Barlovento',\n 'sanitary_center_Betancuria',\n 'sanitary_center_Boa Vista',\n 'sanitary_center_Brakna',\n 'sanitary_center_Brava',\n 'sanitary_center_Breña Alta',\n 'sanitary_center_Breña Baja',\n 'sanitary_center_Buenavista del Norte',\n 'sanitary_center_Candelaria',\n 'sanitary_center_Dakar',\n 'sanitary_center_Dakhlet Nouadhibou',\n 'sanitary_center_Diourbel',\n 'sanitary_center_El Paso',\n 'sanitary_center_El Pinar de El Hierro',\n 'sanitary_center_El Rosario',\n 'sanitary_center_El Sauzal',\n 'sanitary_center_El Tanque',\n 'sanitary_center_Fasnia',\n 'sanitary_center_Fatick',\n 'sanitary_center_Firgas',\n 'sanitary_center_Frontera',\n 'sanitary_center_Fuencaliente de La Palma',\n 'sanitary_center_Gáldar',\n 'sanitary_center_Garachico',\n 'sanitary_center_Garafía',\n 'sanitary_center_Gorgol',\n 'sanitary_center_Granadilla de Abona',\n 'sanitary_center_Guía de Isora',\n 'sanitary_center_Guidimaka',\n 'sanitary_center_Güímar',\n 'sanitary_center_Haría',\n 'sanitary_center_Hermigua',\n 'sanitary_center_Hodh Ech Chargui',\n 'sanitary_center_Hodh El Gharbi',\n 'sanitary_center_Icod de los Vinos']"
     },
     "execution_count": 14,
     "metadata": {},
     "output_type": "execute_result"
    }
   ],
   "source": [
    "newuserRoles.drop([\"lastUpdatedBy\"], axis = 1, inplace= True)"
   ],
   "metadata": {
    "collapsed": false,
    "ExecuteTime": {
     "end_time": "2023-07-20T15:45:59.006725135Z",
     "start_time": "2023-07-20T15:45:58.895311640Z"
    }
   },
   "id": "f59f10f29bb437ec"
  },
  {
   "cell_type": "code",
   "execution_count": 32,
   "outputs": [
    {
     "data": {
      "text/plain": "                                                name translations  \\\n0  National/Province/Facility Health record and i...           []   \n1                   National/province Health Manager           []   \n\n                                         description  \\\n0  Enter Data and Monitor, evaluate and analyse data   \n1                           Monitor and analyse data   \n\n                                         authorities           id code  \n0  [M_dhis-web-interpretation, M_dhis-web-data-qu...  uFcl80EyQD4  NaN  \n1  [M_dhis-web-interpretation, F_EXPORT_EVENTS, M...  tRLf1JIMOKN  NaN  ",
      "text/html": "<div>\n<style scoped>\n    .dataframe tbody tr th:only-of-type {\n        vertical-align: middle;\n    }\n\n    .dataframe tbody tr th {\n        vertical-align: top;\n    }\n\n    .dataframe thead th {\n        text-align: right;\n    }\n</style>\n<table border=\"1\" class=\"dataframe\">\n  <thead>\n    <tr style=\"text-align: right;\">\n      <th></th>\n      <th>name</th>\n      <th>translations</th>\n      <th>description</th>\n      <th>authorities</th>\n      <th>id</th>\n      <th>code</th>\n    </tr>\n  </thead>\n  <tbody>\n    <tr>\n      <th>0</th>\n      <td>National/Province/Facility Health record and i...</td>\n      <td>[]</td>\n      <td>Enter Data and Monitor, evaluate and analyse data</td>\n      <td>[M_dhis-web-interpretation, M_dhis-web-data-qu...</td>\n      <td>uFcl80EyQD4</td>\n      <td>NaN</td>\n    </tr>\n    <tr>\n      <th>1</th>\n      <td>National/province Health Manager</td>\n      <td>[]</td>\n      <td>Monitor and analyse data</td>\n      <td>[M_dhis-web-interpretation, F_EXPORT_EVENTS, M...</td>\n      <td>tRLf1JIMOKN</td>\n      <td>NaN</td>\n    </tr>\n  </tbody>\n</table>\n</div>"
     },
     "execution_count": 32,
     "metadata": {},
     "output_type": "execute_result"
    }
   ],
   "source": [
    "newuserRoles"
   ],
   "metadata": {
    "collapsed": false,
    "ExecuteTime": {
     "end_time": "2023-07-20T10:28:19.066939318Z",
     "start_time": "2023-07-20T10:28:19.061485397Z"
    }
   },
   "id": "457d1c3e9dc0f9f"
  },
  {
   "cell_type": "code",
   "execution_count": 33,
   "outputs": [],
   "source": [
    "newuserRoles_json = newuserRoles.to_json(orient=\"records\")"
   ],
   "metadata": {
    "collapsed": false,
    "ExecuteTime": {
     "end_time": "2023-07-20T10:28:22.512493747Z",
     "start_time": "2023-07-20T10:28:22.481454136Z"
    }
   },
   "id": "98fb4738ece86c6c"
  },
  {
   "cell_type": "code",
   "execution_count": 34,
   "outputs": [
    {
     "name": "stdout",
     "output_type": "stream",
     "text": [
      "[{\"name\":\"National\\/Province\\/Facility Health record and information offices\",\"translations\":[],\"description\":\"Enter Data and Monitor, evaluate and analyse data\",\"authorities\":[\"M_dhis-web-interpretation\",\"M_dhis-web-data-quality\",\"M_dhis-web-dataentry\",\"F_PREDICTOR_RUN\",\"M_dhis-web-usage-analytics\",\"F_RUN_VALIDATION\",\"M_dhis-web-tracker-capture\",\"M_dhis-web-translations\",\"F_SEND_EMAIL\",\"M_dhis-web-maps\",\"M_dhis-web-aggregate-data-entry\",\"M_dhis-web-event-reports\",\"M_dhis-web-approval\",\"M_dhis-web-data-visualizer\",\"M_dhis-web-dashboard\",\"M_dhis-web-data-administration\",\"F_EXPORT_DATA\",\"F_ACCEPT_DATA_LOWER_LEVELS\",\"F_APPROVE_DATA\",\"M_dhis-web-cache-cleaner\",\"M_dhis-web-scheduler\",\"M_dhis-web-capture\",\"M_dhis-web-event-visualizer\",\"M_dhis-web-app-management\",\"M_dhis-web-messaging\",\"F_MOBILE_SENDSMS\",\"M_dhis-web-datastore\",\"M_dhis-web-reports\",\"M_dhis-web-sms-configuration\"],\"id\":\"uFcl80EyQD4\",\"code\":null},{\"name\":\"National\\/province Health Manager\",\"translations\":[],\"description\":\"Monitor and analyse data\",\"authorities\":[\"M_dhis-web-interpretation\",\"F_EXPORT_EVENTS\",\"M_dhis-web-data-quality\",\"M_dhis-web-event-reports\",\"M_dhis-web-approval\",\"M_dhis-web-data-visualizer\",\"M_dhis-web-dashboard\",\"M_dhis-web-data-administration\",\"F_METADATA_EXPORT\",\"F_EXPORT_DATA\",\"F_APPROVE_DATA\",\"M_dhis-web-event-visualizer\",\"M_dhis-web-messaging\",\"F_PERFORM_ANALYTICS_EXPLAIN\",\"F_MOBILE_SENDSMS\",\"F_PROGRAM_DASHBOARD_CONFIG_ADMIN\",\"M_dhis-web-reports\",\"F_APPROVE_DATA_LOWER_LEVELS\",\"F_SEND_EMAIL\",\"M_dhis-web-maps\"],\"id\":\"tRLf1JIMOKN\",\"code\":null}]\n"
     ]
    }
   ],
   "source": [
    "print(newuserRoles_json)"
   ],
   "metadata": {
    "collapsed": false,
    "ExecuteTime": {
     "end_time": "2023-07-20T10:28:22.953907987Z",
     "start_time": "2023-07-20T10:28:22.944271336Z"
    }
   },
   "id": "afa4efc7846630cf"
  },
  {
   "cell_type": "code",
   "execution_count": 35,
   "outputs": [
    {
     "name": "stdout",
     "output_type": "stream",
     "text": [
      "[\n",
      "    {\n",
      "        \"name\": \"National/Province/Facility Health record and information offices\",\n",
      "        \"translations\": [],\n",
      "        \"description\": \"Enter Data and Monitor, evaluate and analyse data\",\n",
      "        \"authorities\": [\n",
      "            \"M_dhis-web-interpretation\",\n",
      "            \"M_dhis-web-data-quality\",\n",
      "            \"M_dhis-web-dataentry\",\n",
      "            \"F_PREDICTOR_RUN\",\n",
      "            \"M_dhis-web-usage-analytics\",\n",
      "            \"F_RUN_VALIDATION\",\n",
      "            \"M_dhis-web-tracker-capture\",\n",
      "            \"M_dhis-web-translations\",\n",
      "            \"F_SEND_EMAIL\",\n",
      "            \"M_dhis-web-maps\",\n",
      "            \"M_dhis-web-aggregate-data-entry\",\n",
      "            \"M_dhis-web-event-reports\",\n",
      "            \"M_dhis-web-approval\",\n",
      "            \"M_dhis-web-data-visualizer\",\n",
      "            \"M_dhis-web-dashboard\",\n",
      "            \"M_dhis-web-data-administration\",\n",
      "            \"F_EXPORT_DATA\",\n",
      "            \"F_ACCEPT_DATA_LOWER_LEVELS\",\n",
      "            \"F_APPROVE_DATA\",\n",
      "            \"M_dhis-web-cache-cleaner\",\n",
      "            \"M_dhis-web-scheduler\",\n",
      "            \"M_dhis-web-capture\",\n",
      "            \"M_dhis-web-event-visualizer\",\n",
      "            \"M_dhis-web-app-management\",\n",
      "            \"M_dhis-web-messaging\",\n",
      "            \"F_MOBILE_SENDSMS\",\n",
      "            \"M_dhis-web-datastore\",\n",
      "            \"M_dhis-web-reports\",\n",
      "            \"M_dhis-web-sms-configuration\"\n",
      "        ],\n",
      "        \"id\": \"uFcl80EyQD4\",\n",
      "        \"code\": null\n",
      "    },\n",
      "    {\n",
      "        \"name\": \"National/province Health Manager\",\n",
      "        \"translations\": [],\n",
      "        \"description\": \"Monitor and analyse data\",\n",
      "        \"authorities\": [\n",
      "            \"M_dhis-web-interpretation\",\n",
      "            \"F_EXPORT_EVENTS\",\n",
      "            \"M_dhis-web-data-quality\",\n",
      "            \"M_dhis-web-event-reports\",\n",
      "            \"M_dhis-web-approval\",\n",
      "            \"M_dhis-web-data-visualizer\",\n",
      "            \"M_dhis-web-dashboard\",\n",
      "            \"M_dhis-web-data-administration\",\n",
      "            \"F_METADATA_EXPORT\",\n",
      "            \"F_EXPORT_DATA\",\n",
      "            \"F_APPROVE_DATA\",\n",
      "            \"M_dhis-web-event-visualizer\",\n",
      "            \"M_dhis-web-messaging\",\n",
      "            \"F_PERFORM_ANALYTICS_EXPLAIN\",\n",
      "            \"F_MOBILE_SENDSMS\",\n",
      "            \"F_PROGRAM_DASHBOARD_CONFIG_ADMIN\",\n",
      "            \"M_dhis-web-reports\",\n",
      "            \"F_APPROVE_DATA_LOWER_LEVELS\",\n",
      "            \"F_SEND_EMAIL\",\n",
      "            \"M_dhis-web-maps\"\n",
      "        ],\n",
      "        \"id\": \"tRLf1JIMOKN\",\n",
      "        \"code\": null\n",
      "    }\n",
      "]\n"
     ]
    }
   ],
   "source": [
    "json_obj = json.loads(newuserRoles_json)\n",
    "print(json.dumps(json_obj, indent=4))"
   ],
   "metadata": {
    "collapsed": false,
    "ExecuteTime": {
     "end_time": "2023-07-20T10:34:48.231593811Z",
     "start_time": "2023-07-20T10:34:48.183257281Z"
    }
   },
   "id": "34888ea3c0056cf"
  },
  {
   "cell_type": "code",
   "execution_count": 6,
   "id": "7339bcbc",
   "metadata": {
    "ExecuteTime": {
     "end_time": "2023-09-04T13:58:07.041406446Z",
     "start_time": "2023-09-04T13:58:07.033558169Z"
    }
   },
   "outputs": [],
   "source": [
    "dataSets = pd.DataFrame(data[\"dataSets\"])"
   ]
  },
  {
   "cell_type": "code",
   "execution_count": 7,
   "id": "ea16f63a",
   "metadata": {
    "ExecuteTime": {
     "end_time": "2023-09-04T13:58:08.405991883Z",
     "start_time": "2023-09-04T13:58:08.391618543Z"
    }
   },
   "outputs": [
    {
     "data": {
      "text/plain": "['OTvkNTijYQY', 'ZyZmZTUwctj', 'm9yPuQEqxmS', 'zTU6UZXtgwR']"
     },
     "execution_count": 7,
     "metadata": {},
     "output_type": "execute_result"
    }
   ],
   "source": [
    "dataSets['id'].to_list()"
   ]
  },
  {
   "cell_type": "code",
   "execution_count": 8,
   "id": "7210b082",
   "metadata": {
    "ExecuteTime": {
     "end_time": "2023-09-04T13:58:09.003979869Z",
     "start_time": "2023-09-04T13:58:08.990975765Z"
    }
   },
   "outputs": [],
   "source": [
    "dataElements = pd.DataFrame(data[\"dataElements\"])"
   ]
  },
  {
   "cell_type": "code",
   "execution_count": 9,
   "id": "7c118998",
   "metadata": {
    "scrolled": true,
    "ExecuteTime": {
     "end_time": "2023-09-04T13:58:10.636376173Z",
     "start_time": "2023-09-04T13:58:10.568564051Z"
    }
   },
   "outputs": [
    {
     "data": {
      "text/plain": "   aggregationLevels       aggregationType attributeValues  \\\n0                 []  AVERAGE_SUM_ORG_UNIT              []   \n1                 []  AVERAGE_SUM_ORG_UNIT              []   \n2                 []                  LAST              []   \n3                 []                   SUM              []   \n4                 []                   SUM              []   \n..               ...                   ...             ...   \n84                []                   SUM              []   \n85                []                   SUM              []   \n86                []                   SUM              []   \n87                []                   SUM              []   \n88                []                   SUM              []   \n\n            categoryCombo             code domainType  \\\n0   {'id': 'bjDvmb4bfuf'}      GEN_POP_NUM  AGGREGATE   \n1   {'id': 'bjDvmb4bfuf'}  GEN_POP_NUM_15Y  AGGREGATE   \n2   {'id': 'bjDvmb4bfuf'}    GEN_POP_NUM_W  AGGREGATE   \n3   {'id': 'bjDvmb4bfuf'}              NaN  AGGREGATE   \n4   {'id': 'bjDvmb4bfuf'}          IDS_002  AGGREGATE   \n..                    ...              ...        ...   \n84  {'id': 'bjDvmb4bfuf'}          IDS_042  AGGREGATE   \n85  {'id': 'bjDvmb4bfuf'}          IDS_047  AGGREGATE   \n86  {'id': 'bjDvmb4bfuf'}              NaN  AGGREGATE   \n87  {'id': 'eg8enaFY861'}          IDS_057  AGGREGATE   \n88  {'id': 'bjDvmb4bfuf'}              NaN  AGGREGATE   \n\n                                             formName           id legendSets  \\\n0                                          Population  DkmMEcubiPv         []   \n1                                          Population  cPLAnOTldta         []   \n2                                   Population Weekly  iLEkjJcYTJd         []   \n3   Total number of reports received/transmitted o...  WpKu7cyd7Zo         []   \n4     AFP confirmed cases due to VDPV during the week  KY2gR9npnfP         []   \n..                                                ...          ...        ...   \n84  Meningitis - NmB confirmed cases for the epi w...  LszjUZCLWP2         []   \n85  Meningitis - Other Nm ind. confirmed cases for...  BYXzAABOEbr         []   \n86                                                NaN  I3570OWVcKN         []   \n87  Pertussis new suspected cases reported during ...  ClUDerxOIWR         []   \n88                                 Yellow fever alert  jUaZniVe1Uq         []   \n\n                                                 name  \\\n0                                    GEN - Population   \n1                          GEN - Population < 15years   \n2                             GEN - Population weekly   \n3                        IDS - Actual_Reports_on_time   \n4   IDS - Acute Flacid Paralysis (confirmed cases ...   \n..                                                ...   \n84                             IDS - Meningitis (NmB)   \n85                   IDS - Meningitis (Other Nm ind.)   \n86                         IDS - Meningitis outbreak2   \n87                  IDS - Pertussis (Suspected cases)   \n88                           IDS - Yellow fever alert   \n\n                                              sharing  \\\n0   {'external': False, 'owner': 'vUeLeQMSwhN', 'p...   \n1   {'external': False, 'owner': 'vUeLeQMSwhN', 'p...   \n2   {'external': False, 'owner': 'vUeLeQMSwhN', 'p...   \n3   {'external': False, 'owner': 'vUeLeQMSwhN', 'p...   \n4   {'external': False, 'owner': 'vUeLeQMSwhN', 'p...   \n..                                                ...   \n84  {'external': False, 'owner': 'vUeLeQMSwhN', 'p...   \n85  {'external': False, 'owner': 'vUeLeQMSwhN', 'p...   \n86  {'external': False, 'owner': 'vUeLeQMSwhN', 'p...   \n87  {'external': False, 'owner': 'vUeLeQMSwhN', 'p...   \n88  {'external': False, 'owner': 'vUeLeQMSwhN', 'p...   \n\n                                        shortName  \\\n0                                GEN - Population   \n1                      GEN - Population < 15years   \n2                         GEN - Population weekly   \n3                          Actual_Reports_on_time   \n4   Acute Flacid Paralysis (confirmed cases VDPV)   \n..                                            ...   \n84                               Meningitis (NmB)   \n85                     Meningitis (Other Nm ind.)   \n86                           Meningitis outbreak2   \n87                    Pertussis (Suspected cases)   \n88                             Yellow fever alert   \n\n                                         translations  \\\n0                                                  []   \n1   [{'locale': 'uz_UZ', 'property': 'DESCRIPTION'...   \n2   [{'locale': 'ar_IQ', 'property': 'DESCRIPTION'...   \n3   [{'locale': 'fr', 'property': 'NAME', 'value':...   \n4   [{'locale': 'fr', 'property': 'FORM_NAME', 'va...   \n..                                                ...   \n84  [{'locale': 'cs', 'property': 'SHORT_NAME', 'v...   \n85  [{'locale': 'fr', 'property': 'DESCRIPTION', '...   \n86  [{'locale': 'cs', 'property': 'NAME', 'value':...   \n87  [{'locale': 'fr', 'property': 'DESCRIPTION', '...   \n88  [{'locale': 'fr', 'property': 'SHORT_NAME', 'v...   \n\n                   valueType  zeroIsSignificant  \\\n0   INTEGER_ZERO_OR_POSITIVE              False   \n1   INTEGER_ZERO_OR_POSITIVE               True   \n2   INTEGER_ZERO_OR_POSITIVE               True   \n3   INTEGER_ZERO_OR_POSITIVE              False   \n4   INTEGER_ZERO_OR_POSITIVE               True   \n..                       ...                ...   \n84  INTEGER_ZERO_OR_POSITIVE               True   \n85  INTEGER_ZERO_OR_POSITIVE               True   \n86  INTEGER_ZERO_OR_POSITIVE               True   \n87  INTEGER_ZERO_OR_POSITIVE               True   \n88          INTEGER_POSITIVE               True   \n\n                                          description optionSet  \n0                                                 NaN       NaN  \n1                                    Total population       NaN  \n2                                    Total population       NaN  \n3   Total number of reports received/transmitted time       NaN  \n4                                          Laboratory       NaN  \n..                                                ...       ...  \n84                                         Laboratory       NaN  \n85                                         Laboratory       NaN  \n86                                                NaN       NaN  \n87                                       Surveillance       NaN  \n88                                                NaN       NaN  \n\n[89 rows x 17 columns]",
      "text/html": "<div>\n<style scoped>\n    .dataframe tbody tr th:only-of-type {\n        vertical-align: middle;\n    }\n\n    .dataframe tbody tr th {\n        vertical-align: top;\n    }\n\n    .dataframe thead th {\n        text-align: right;\n    }\n</style>\n<table border=\"1\" class=\"dataframe\">\n  <thead>\n    <tr style=\"text-align: right;\">\n      <th></th>\n      <th>aggregationLevels</th>\n      <th>aggregationType</th>\n      <th>attributeValues</th>\n      <th>categoryCombo</th>\n      <th>code</th>\n      <th>domainType</th>\n      <th>formName</th>\n      <th>id</th>\n      <th>legendSets</th>\n      <th>name</th>\n      <th>sharing</th>\n      <th>shortName</th>\n      <th>translations</th>\n      <th>valueType</th>\n      <th>zeroIsSignificant</th>\n      <th>description</th>\n      <th>optionSet</th>\n    </tr>\n  </thead>\n  <tbody>\n    <tr>\n      <th>0</th>\n      <td>[]</td>\n      <td>AVERAGE_SUM_ORG_UNIT</td>\n      <td>[]</td>\n      <td>{'id': 'bjDvmb4bfuf'}</td>\n      <td>GEN_POP_NUM</td>\n      <td>AGGREGATE</td>\n      <td>Population</td>\n      <td>DkmMEcubiPv</td>\n      <td>[]</td>\n      <td>GEN - Population</td>\n      <td>{'external': False, 'owner': 'vUeLeQMSwhN', 'p...</td>\n      <td>GEN - Population</td>\n      <td>[]</td>\n      <td>INTEGER_ZERO_OR_POSITIVE</td>\n      <td>False</td>\n      <td>NaN</td>\n      <td>NaN</td>\n    </tr>\n    <tr>\n      <th>1</th>\n      <td>[]</td>\n      <td>AVERAGE_SUM_ORG_UNIT</td>\n      <td>[]</td>\n      <td>{'id': 'bjDvmb4bfuf'}</td>\n      <td>GEN_POP_NUM_15Y</td>\n      <td>AGGREGATE</td>\n      <td>Population</td>\n      <td>cPLAnOTldta</td>\n      <td>[]</td>\n      <td>GEN - Population &lt; 15years</td>\n      <td>{'external': False, 'owner': 'vUeLeQMSwhN', 'p...</td>\n      <td>GEN - Population &lt; 15years</td>\n      <td>[{'locale': 'uz_UZ', 'property': 'DESCRIPTION'...</td>\n      <td>INTEGER_ZERO_OR_POSITIVE</td>\n      <td>True</td>\n      <td>Total population</td>\n      <td>NaN</td>\n    </tr>\n    <tr>\n      <th>2</th>\n      <td>[]</td>\n      <td>LAST</td>\n      <td>[]</td>\n      <td>{'id': 'bjDvmb4bfuf'}</td>\n      <td>GEN_POP_NUM_W</td>\n      <td>AGGREGATE</td>\n      <td>Population Weekly</td>\n      <td>iLEkjJcYTJd</td>\n      <td>[]</td>\n      <td>GEN - Population weekly</td>\n      <td>{'external': False, 'owner': 'vUeLeQMSwhN', 'p...</td>\n      <td>GEN - Population weekly</td>\n      <td>[{'locale': 'ar_IQ', 'property': 'DESCRIPTION'...</td>\n      <td>INTEGER_ZERO_OR_POSITIVE</td>\n      <td>True</td>\n      <td>Total population</td>\n      <td>NaN</td>\n    </tr>\n    <tr>\n      <th>3</th>\n      <td>[]</td>\n      <td>SUM</td>\n      <td>[]</td>\n      <td>{'id': 'bjDvmb4bfuf'}</td>\n      <td>NaN</td>\n      <td>AGGREGATE</td>\n      <td>Total number of reports received/transmitted o...</td>\n      <td>WpKu7cyd7Zo</td>\n      <td>[]</td>\n      <td>IDS - Actual_Reports_on_time</td>\n      <td>{'external': False, 'owner': 'vUeLeQMSwhN', 'p...</td>\n      <td>Actual_Reports_on_time</td>\n      <td>[{'locale': 'fr', 'property': 'NAME', 'value':...</td>\n      <td>INTEGER_ZERO_OR_POSITIVE</td>\n      <td>False</td>\n      <td>Total number of reports received/transmitted time</td>\n      <td>NaN</td>\n    </tr>\n    <tr>\n      <th>4</th>\n      <td>[]</td>\n      <td>SUM</td>\n      <td>[]</td>\n      <td>{'id': 'bjDvmb4bfuf'}</td>\n      <td>IDS_002</td>\n      <td>AGGREGATE</td>\n      <td>AFP confirmed cases due to VDPV during the week</td>\n      <td>KY2gR9npnfP</td>\n      <td>[]</td>\n      <td>IDS - Acute Flacid Paralysis (confirmed cases ...</td>\n      <td>{'external': False, 'owner': 'vUeLeQMSwhN', 'p...</td>\n      <td>Acute Flacid Paralysis (confirmed cases VDPV)</td>\n      <td>[{'locale': 'fr', 'property': 'FORM_NAME', 'va...</td>\n      <td>INTEGER_ZERO_OR_POSITIVE</td>\n      <td>True</td>\n      <td>Laboratory</td>\n      <td>NaN</td>\n    </tr>\n    <tr>\n      <th>...</th>\n      <td>...</td>\n      <td>...</td>\n      <td>...</td>\n      <td>...</td>\n      <td>...</td>\n      <td>...</td>\n      <td>...</td>\n      <td>...</td>\n      <td>...</td>\n      <td>...</td>\n      <td>...</td>\n      <td>...</td>\n      <td>...</td>\n      <td>...</td>\n      <td>...</td>\n      <td>...</td>\n      <td>...</td>\n    </tr>\n    <tr>\n      <th>84</th>\n      <td>[]</td>\n      <td>SUM</td>\n      <td>[]</td>\n      <td>{'id': 'bjDvmb4bfuf'}</td>\n      <td>IDS_042</td>\n      <td>AGGREGATE</td>\n      <td>Meningitis - NmB confirmed cases for the epi w...</td>\n      <td>LszjUZCLWP2</td>\n      <td>[]</td>\n      <td>IDS - Meningitis (NmB)</td>\n      <td>{'external': False, 'owner': 'vUeLeQMSwhN', 'p...</td>\n      <td>Meningitis (NmB)</td>\n      <td>[{'locale': 'cs', 'property': 'SHORT_NAME', 'v...</td>\n      <td>INTEGER_ZERO_OR_POSITIVE</td>\n      <td>True</td>\n      <td>Laboratory</td>\n      <td>NaN</td>\n    </tr>\n    <tr>\n      <th>85</th>\n      <td>[]</td>\n      <td>SUM</td>\n      <td>[]</td>\n      <td>{'id': 'bjDvmb4bfuf'}</td>\n      <td>IDS_047</td>\n      <td>AGGREGATE</td>\n      <td>Meningitis - Other Nm ind. confirmed cases for...</td>\n      <td>BYXzAABOEbr</td>\n      <td>[]</td>\n      <td>IDS - Meningitis (Other Nm ind.)</td>\n      <td>{'external': False, 'owner': 'vUeLeQMSwhN', 'p...</td>\n      <td>Meningitis (Other Nm ind.)</td>\n      <td>[{'locale': 'fr', 'property': 'DESCRIPTION', '...</td>\n      <td>INTEGER_ZERO_OR_POSITIVE</td>\n      <td>True</td>\n      <td>Laboratory</td>\n      <td>NaN</td>\n    </tr>\n    <tr>\n      <th>86</th>\n      <td>[]</td>\n      <td>SUM</td>\n      <td>[]</td>\n      <td>{'id': 'bjDvmb4bfuf'}</td>\n      <td>NaN</td>\n      <td>AGGREGATE</td>\n      <td>NaN</td>\n      <td>I3570OWVcKN</td>\n      <td>[]</td>\n      <td>IDS - Meningitis outbreak2</td>\n      <td>{'external': False, 'owner': 'vUeLeQMSwhN', 'p...</td>\n      <td>Meningitis outbreak2</td>\n      <td>[{'locale': 'cs', 'property': 'NAME', 'value':...</td>\n      <td>INTEGER_ZERO_OR_POSITIVE</td>\n      <td>True</td>\n      <td>NaN</td>\n      <td>NaN</td>\n    </tr>\n    <tr>\n      <th>87</th>\n      <td>[]</td>\n      <td>SUM</td>\n      <td>[]</td>\n      <td>{'id': 'eg8enaFY861'}</td>\n      <td>IDS_057</td>\n      <td>AGGREGATE</td>\n      <td>Pertussis new suspected cases reported during ...</td>\n      <td>ClUDerxOIWR</td>\n      <td>[]</td>\n      <td>IDS - Pertussis (Suspected cases)</td>\n      <td>{'external': False, 'owner': 'vUeLeQMSwhN', 'p...</td>\n      <td>Pertussis (Suspected cases)</td>\n      <td>[{'locale': 'fr', 'property': 'DESCRIPTION', '...</td>\n      <td>INTEGER_ZERO_OR_POSITIVE</td>\n      <td>True</td>\n      <td>Surveillance</td>\n      <td>NaN</td>\n    </tr>\n    <tr>\n      <th>88</th>\n      <td>[]</td>\n      <td>SUM</td>\n      <td>[]</td>\n      <td>{'id': 'bjDvmb4bfuf'}</td>\n      <td>NaN</td>\n      <td>AGGREGATE</td>\n      <td>Yellow fever alert</td>\n      <td>jUaZniVe1Uq</td>\n      <td>[]</td>\n      <td>IDS - Yellow fever alert</td>\n      <td>{'external': False, 'owner': 'vUeLeQMSwhN', 'p...</td>\n      <td>Yellow fever alert</td>\n      <td>[{'locale': 'fr', 'property': 'SHORT_NAME', 'v...</td>\n      <td>INTEGER_POSITIVE</td>\n      <td>True</td>\n      <td>NaN</td>\n      <td>NaN</td>\n    </tr>\n  </tbody>\n</table>\n<p>89 rows × 17 columns</p>\n</div>"
     },
     "execution_count": 9,
     "metadata": {},
     "output_type": "execute_result"
    }
   ],
   "source": [
    "dataElements"
   ]
  },
  {
   "cell_type": "code",
   "execution_count": 10,
   "id": "2994246d",
   "metadata": {
    "scrolled": true,
    "ExecuteTime": {
     "end_time": "2023-09-04T14:01:00.904169222Z",
     "start_time": "2023-09-04T14:01:00.890727049Z"
    }
   },
   "outputs": [],
   "source": [
    "dataElements.columns"
   ]
  },
  {
   "cell_type": "code",
   "execution_count": 15,
   "id": "43b80f70",
   "metadata": {},
   "outputs": [
    {
     "data": {
      "text/plain": [
       "Index(['attributeValues', 'categoryCombo', 'code',\n",
       "       'compulsoryDataElementOperands', 'compulsoryFieldsCompleteOnly',\n",
       "       'dataElementDecoration', 'dataEntryForm', 'dataInputPeriods',\n",
       "       'dataSetElements', 'expiryDays', 'fieldCombinationRequired', 'id',\n",
       "       'indicators', 'legendSets', 'mobile', 'name', 'noValueRequiresComment',\n",
       "       'notifyCompletingUser', 'openFuturePeriods',\n",
       "       'openPeriodsAfterCoEndDate', 'periodType', 'renderAsTabs',\n",
       "       'renderHorizontally', 'sharing', 'shortName', 'skipOffline',\n",
       "       'timelyDays', 'translations', 'validCompleteOnly', 'version',\n",
       "       'description'],\n",
       "      dtype='object')"
      ]
     },
     "execution_count": 15,
     "metadata": {},
     "output_type": "execute_result"
    }
   ],
   "source": [
    "dataSets.columns"
   ]
  },
  {
   "cell_type": "code",
   "execution_count": null,
   "id": "86ae544d",
   "metadata": {},
   "outputs": [],
   "source": []
  },
  {
   "cell_type": "code",
   "execution_count": 22,
   "id": "a525346c",
   "metadata": {
    "ExecuteTime": {
     "end_time": "2023-09-04T14:21:49.154683987Z",
     "start_time": "2023-09-04T14:21:49.090124814Z"
    }
   },
   "outputs": [
    {
     "ename": "SyntaxError",
     "evalue": "closing parenthesis ']' does not match opening parenthesis '(' (<ipython-input-22-cc0ce462f2ca>, line 1)",
     "output_type": "error",
     "traceback": [
      "\u001B[0;36m  File \u001B[0;32m\"<ipython-input-22-cc0ce462f2ca>\"\u001B[0;36m, line \u001B[0;32m1\u001B[0m\n\u001B[0;31m    confirmed_cases = dataElements[dataElements[\"name\"].str.contains(f'r\"(?i)\\b.*?{i}.*?\")']\u001B[0m\n\u001B[0m                                                                                           ^\u001B[0m\n\u001B[0;31mSyntaxError\u001B[0m\u001B[0;31m:\u001B[0m closing parenthesis ']' does not match opening parenthesis '('\n"
     ]
    }
   ],
   "source": [
    "confirmed_cases = dataElements[dataElements[\"shortName\"].str.contains(r\"(?i)\\b.*?Confirmed cases.*?\")]"
   ]
  },
  {
   "cell_type": "code",
   "execution_count": 12,
   "id": "829f0ef8",
   "metadata": {
    "ExecuteTime": {
     "end_time": "2023-09-04T14:09:39.150492255Z",
     "start_time": "2023-09-04T14:09:39.132395456Z"
    }
   },
   "outputs": [
    {
     "data": {
      "text/plain": "['Acute Flacid Paralysis (confirmed cases VDPV)',\n 'Cholera (Confirmed cases)',\n 'Dengue Fever (Confirmed cases)',\n 'Diarrhoea with blood (Shigella)  (Confirmed cases)',\n 'Diptheria (Confirmed cases)',\n 'Measles (Confirmed cases)',\n 'Pertussis (Confirmed cases)',\n 'Plague (Confirmed cases)',\n 'Rabies  (Confirmed cases)',\n 'Rubella (Confirmed cases)',\n 'Viral hemorrhagic fever (confirmed cases)',\n 'Yellow Fever (Confirmed cases)',\n 'Acute Flacid Paralysis (confirmed cases WPV)']"
     },
     "execution_count": 12,
     "metadata": {},
     "output_type": "execute_result"
    }
   ],
   "source": [
    "# lista de enfermedades en las que se habla en el paquete \n",
    "# suponiendo que que para todas las enfermedades hay que contar con los casos confirmados\n",
    "\n",
    "confirmed_cases[\"shortName\"].to_list()"
   ]
  },
  {
   "cell_type": "code",
   "execution_count": 36,
   "id": "a396d8d8",
   "metadata": {
    "ExecuteTime": {
     "end_time": "2023-09-04T14:24:35.696638820Z",
     "start_time": "2023-09-04T14:24:35.653342306Z"
    }
   },
   "outputs": [],
   "source": [
    "mis_indicadores = [\"suspected\" ,\"confirmed\",\"Deaths\",\"Recovered\"]"
   ]
  },
  {
   "cell_type": "code",
   "execution_count": 43,
   "id": "6396c23a",
   "metadata": {
    "ExecuteTime": {
     "end_time": "2023-09-04T14:30:06.092881191Z",
     "start_time": "2023-09-04T14:30:06.045995250Z"
    }
   },
   "outputs": [
    {
     "name": "stdout",
     "output_type": "stream",
     "text": [
      "4     IDS - Acute Flacid Paralysis (confirmed cases ...\n",
      "12                      IDS - Cholera (Confirmed cases)\n",
      "18                 IDS - Dengue Fever (Confirmed cases)\n",
      "22    IDS - Diarrhoea with blood (Shigella)  (Confir...\n",
      "26                    IDS - Diptheria (Confirmed cases)\n",
      "28                      IDS - Measles (Confirmed cases)\n",
      "56                    IDS - Pertussis (Confirmed cases)\n",
      "58                       IDS - Plague (Confirmed cases)\n",
      "62                      IDS - Rabies  (Confirmed cases)\n",
      "65                      IDS - Rubella (Confirmed cases)\n",
      "68      IDS - Viral hemorrhagic fever (confirmed cases)\n",
      "71                 IDS - Yellow Fever (Confirmed cases)\n",
      "77    IDS - Acute Flacid Paralysis (confirmed cases ...\n",
      "Name: name, dtype: object\n",
      "7        IDS - Acute Flacid Paralysis (Suspected cases)\n",
      "10       IDS - Acute watery diarrhoea (Suspected cases)\n",
      "16                      IDS - Cholera (Suspected cases)\n",
      "20                 IDS - Dengue Fever (Suspected cases)\n",
      "24    IDS - Diarrhoea with blood (Shigella)  (Suspec...\n",
      "27                    IDS - Diptheria (Suspected cases)\n",
      "47                   IDS - Meningitis (Suspected cases)\n",
      "50             IDS - Neonatal Tetanus (Suspected cases)\n",
      "53         IDS - Non Neonatal tetanus (Suspected cases)\n",
      "60                       IDS - Plague (Suspected cases)\n",
      "64                      IDS - Rabies  (Suspected cases)\n",
      "70      IDS - Viral hemorrhagic fever (Suspected cases)\n",
      "74                 IDS - Yellow Fever (Suspected cases)\n",
      "82              IDS - Measles/rubella (Suspected cases)\n",
      "87                    IDS - Pertussis (Suspected cases)\n",
      "Name: name, dtype: object\n",
      "5               IDS - Acute Flacid Paralysis (Deaths)\n",
      "8               IDS - Acute watery diarrhoea (Deaths)\n",
      "13                             IDS - Cholera (Deaths)\n",
      "19                        IDS - Dengue Fever (Deaths)\n",
      "23    IDS - Diarrhoea with blood (Shigella)  (Deaths)\n",
      "30                     IDS - Measles/rubella (Deaths)\n",
      "34                          IDS - Meningitis (Deaths)\n",
      "49                    IDS - Neonatal Tetanus (Deaths)\n",
      "52                IDS - Non Neonatal tetanus (Deaths)\n",
      "57                           IDS - Pertussis (Deaths)\n",
      "59                              IDS - Plague (Deaths)\n",
      "63                             IDS - Rabies  (Deaths)\n",
      "69            IDS - Viral hemorrhagic fever  (Deaths)\n",
      "72                        IDS - Yellow Fever (Deaths)\n",
      "81                           IDS - Diptheria (Deaths)\n",
      "Name: name, dtype: object\n",
      "4     IDS - Acute Flacid Paralysis (confirmed cases ...\n",
      "12                      IDS - Cholera (Confirmed cases)\n",
      "18                 IDS - Dengue Fever (Confirmed cases)\n",
      "22    IDS - Diarrhoea with blood (Shigella)  (Confir...\n",
      "26                    IDS - Diptheria (Confirmed cases)\n",
      "28                      IDS - Measles (Confirmed cases)\n",
      "56                    IDS - Pertussis (Confirmed cases)\n",
      "58                       IDS - Plague (Confirmed cases)\n",
      "62                      IDS - Rabies  (Confirmed cases)\n",
      "65                      IDS - Rubella (Confirmed cases)\n",
      "68      IDS - Viral hemorrhagic fever (confirmed cases)\n",
      "71                 IDS - Yellow Fever (Confirmed cases)\n",
      "77    IDS - Acute Flacid Paralysis (confirmed cases ...\n",
      "Name: name, dtype: object\n"
     ]
    }
   ],
   "source": [
    "\n",
    "yellow_fever = dataElements[dataElements[\"shortName\"].str.contains(r\"(?i)\\b.*?Yellow fever.*?\")]"
   ]
  },
  {
   "cell_type": "code",
   "execution_count": 46,
   "id": "fa91ed62",
   "metadata": {
    "scrolled": true,
    "ExecuteTime": {
     "end_time": "2023-09-04T14:31:54.841518437Z",
     "start_time": "2023-09-04T14:31:54.827727301Z"
    }
   },
   "outputs": [],
   "source": [
    "yellow_fever"
   ]
  },
  {
   "cell_type": "code",
   "execution_count": 21,
   "id": "0393e04f",
   "metadata": {},
   "outputs": [
    {
     "data": {
      "text/plain": [
       "['Yellow Fever (Confirmed cases)',\n",
       " 'Yellow Fever (Deaths)',\n",
       " 'Yellow Fever (IgM positive)',\n",
       " 'Yellow Fever (Suspected cases)',\n",
       " 'Yellow fever alert']"
      ]
     },
     "execution_count": 21,
     "metadata": {},
     "output_type": "execute_result"
    }
   ],
   "source": [
    "\n",
    "\n",
    "yellow_fever[\"shortName\"].to_list()"
   ]
  },
  {
   "cell_type": "markdown",
   "id": "e40308d0",
   "metadata": {},
   "source": [
    "parece que solo me falta de todos el recovered"
   ]
  },
  {
   "cell_type": "code",
   "execution_count": 22,
   "id": "92fb6de9",
   "metadata": {},
   "outputs": [],
   "source": [
    "enfermedad = dataElements[dataElements[\"shortName\"].str.contains(r\"(?i)\\b.*?Acute Flacid Paralysis.*?\")]"
   ]
  },
  {
   "cell_type": "code",
   "execution_count": 23,
   "id": "290aa7c4",
   "metadata": {},
   "outputs": [
    {
     "data": {
      "text/plain": [
       "['Acute Flacid Paralysis (confirmed cases VDPV)',\n",
       " 'Acute Flacid Paralysis  (Deaths)',\n",
       " 'Acute Flacid Paralysis outbreak',\n",
       " 'Acute Flacid Paralysis (Suspected cases)',\n",
       " 'Acute Flacid Paralysis (confirmed cases WPV)']"
      ]
     },
     "execution_count": 23,
     "metadata": {},
     "output_type": "execute_result"
    }
   ],
   "source": [
    "enfermedad[\"shortName\"].to_list()"
   ]
  },
  {
   "cell_type": "markdown",
   "id": "8b089c27",
   "metadata": {},
   "source": [
    "### Data Elements y Datasets para el sistema de alerta temprana.\n",
    "\n",
    "tenemos ya reflejados los data Elements de Confirmados, Muertos y Sospechosos\n",
    "Faltaría añadir un data element para Recovered y o meterlo en uno de estos dos datasets:\n",
    " 'IDS - Report: Suspected, Confirm, Death',\n",
    " 'IDS - Report: Suspected, Death',\n",
    " \n",
    " o crear uno nuevo\n",
    " \n",
    " \n",
    " \n",
    " Cada Data Element pertenece a un form (tiene sentido) se espera que sean datos semanales\n",
    " \n",
    " \n",
    " \n"
   ]
  },
  {
   "cell_type": "code",
   "execution_count": 24,
   "id": "6b33d475",
   "metadata": {
    "scrolled": false
   },
   "outputs": [
    {
     "data": {
      "text/html": [
       "<div>\n",
       "<style scoped>\n",
       "    .dataframe tbody tr th:only-of-type {\n",
       "        vertical-align: middle;\n",
       "    }\n",
       "\n",
       "    .dataframe tbody tr th {\n",
       "        vertical-align: top;\n",
       "    }\n",
       "\n",
       "    .dataframe thead th {\n",
       "        text-align: right;\n",
       "    }\n",
       "</style>\n",
       "<table border=\"1\" class=\"dataframe\">\n",
       "  <thead>\n",
       "    <tr style=\"text-align: right;\">\n",
       "      <th></th>\n",
       "      <th>annualized</th>\n",
       "      <th>attributeValues</th>\n",
       "      <th>code</th>\n",
       "      <th>denominator</th>\n",
       "      <th>denominatorDescription</th>\n",
       "      <th>description</th>\n",
       "      <th>id</th>\n",
       "      <th>indicatorType</th>\n",
       "      <th>legendSets</th>\n",
       "      <th>name</th>\n",
       "      <th>numerator</th>\n",
       "      <th>numeratorDescription</th>\n",
       "      <th>sharing</th>\n",
       "      <th>shortName</th>\n",
       "      <th>translations</th>\n",
       "      <th>decimals</th>\n",
       "    </tr>\n",
       "  </thead>\n",
       "  <tbody>\n",
       "    <tr>\n",
       "      <th>0</th>\n",
       "      <td>False</td>\n",
       "      <td>[]</td>\n",
       "      <td>IDS_AFP_ATTACK_RATE</td>\n",
       "      <td>#{DkmMEcubiPv}</td>\n",
       "      <td>Population exposed to AFP</td>\n",
       "      <td>Attack rate:An expression of incidence, define...</td>\n",
       "      <td>Pct5ZPMzYYU</td>\n",
       "      <td>{'id': 'BY11PjGMCg2'}</td>\n",
       "      <td>[]</td>\n",
       "      <td>IDS - Acute Flacid Paralysis (AFP) - Attack ra...</td>\n",
       "      <td>#{qYJ3YYLADtz}</td>\n",
       "      <td>Number of new cases of AFP</td>\n",
       "      <td>{'external': False, 'owner': 'vUeLeQMSwhN', 'p...</td>\n",
       "      <td>AFP - Attack rate(/100000)</td>\n",
       "      <td>[{'locale': 'fr', 'property': 'SHORT_NAME', 'v...</td>\n",
       "      <td>NaN</td>\n",
       "    </tr>\n",
       "    <tr>\n",
       "      <th>1</th>\n",
       "      <td>False</td>\n",
       "      <td>[]</td>\n",
       "      <td>IDS_AFP_CONF_CASE_WPV</td>\n",
       "      <td>1</td>\n",
       "      <td>1</td>\n",
       "      <td>NaN</td>\n",
       "      <td>hdZoVVTIqAB</td>\n",
       "      <td>{'id': 'kHy61PbChXr'}</td>\n",
       "      <td>[]</td>\n",
       "      <td>IDS - Acute Flacid Paralysis (Confirmed cases ...</td>\n",
       "      <td>#{b0IzLHcVdm0}</td>\n",
       "      <td>Acute Flacid Paralysis (confirmed case WPV)</td>\n",
       "      <td>{'external': False, 'owner': 'vUeLeQMSwhN', 'p...</td>\n",
       "      <td>Acute Flacid Paralysis (confirmed case WPV)</td>\n",
       "      <td>[{'locale': 'fr', 'property': 'DENOMINATOR_DES...</td>\n",
       "      <td>NaN</td>\n",
       "    </tr>\n",
       "    <tr>\n",
       "      <th>2</th>\n",
       "      <td>False</td>\n",
       "      <td>[]</td>\n",
       "      <td>IDS_AWD_ATTACK_RATE</td>\n",
       "      <td>#{DkmMEcubiPv}</td>\n",
       "      <td>Population exposed to AWD</td>\n",
       "      <td>Attack rate:An expression of incidence, define...</td>\n",
       "      <td>lMRuY8KHVKP</td>\n",
       "      <td>{'id': 'BY11PjGMCg2'}</td>\n",
       "      <td>[]</td>\n",
       "      <td>IDS - Acute watery diarrhoea(AWD) - Attack rat...</td>\n",
       "      <td>#{flD9dHHw3Wl}</td>\n",
       "      <td>Number of new cases of AWD</td>\n",
       "      <td>{'external': False, 'owner': 'vUeLeQMSwhN', 'p...</td>\n",
       "      <td>Acute watery diarrhoea(AWD) - Attack rate(/100...</td>\n",
       "      <td>[{'locale': 'fr', 'property': 'DENOMINATOR_DES...</td>\n",
       "      <td>NaN</td>\n",
       "    </tr>\n",
       "    <tr>\n",
       "      <th>3</th>\n",
       "      <td>False</td>\n",
       "      <td>[]</td>\n",
       "      <td>IDS_AWD_CONF_CASE</td>\n",
       "      <td>1</td>\n",
       "      <td>1</td>\n",
       "      <td>NaN</td>\n",
       "      <td>w2iZCr1yuyW</td>\n",
       "      <td>{'id': 'kHy61PbChXr'}</td>\n",
       "      <td>[]</td>\n",
       "      <td>IDS - Acute watery diarrhoea (Confirmed cases)</td>\n",
       "      <td>-1</td>\n",
       "      <td>Acute watery diarrhoea (Confirmed case)</td>\n",
       "      <td>{'external': False, 'owner': 'vUeLeQMSwhN', 'p...</td>\n",
       "      <td>Acute watery diarrhea (confirmed case)</td>\n",
       "      <td>[{'locale': 'fr', 'property': 'DENOMINATOR_DES...</td>\n",
       "      <td>NaN</td>\n",
       "    </tr>\n",
       "    <tr>\n",
       "      <th>4</th>\n",
       "      <td>False</td>\n",
       "      <td>[]</td>\n",
       "      <td>IDS_AWD_DTHS</td>\n",
       "      <td>1</td>\n",
       "      <td>1</td>\n",
       "      <td>NaN</td>\n",
       "      <td>eX8kVT3oRoc</td>\n",
       "      <td>{'id': 'kHy61PbChXr'}</td>\n",
       "      <td>[]</td>\n",
       "      <td>IDS - Acute watery diarrhoea (Deaths)</td>\n",
       "      <td>#{bXn9Kmxnd3r}</td>\n",
       "      <td>Acute watery diarrhoea (Deaths)</td>\n",
       "      <td>{'external': False, 'owner': 'vUeLeQMSwhN', 'p...</td>\n",
       "      <td>Acute watery diarrhoea (Deaths)</td>\n",
       "      <td>[{'locale': 'fr', 'property': 'DENOMINATOR_DES...</td>\n",
       "      <td>NaN</td>\n",
       "    </tr>\n",
       "    <tr>\n",
       "      <th>...</th>\n",
       "      <td>...</td>\n",
       "      <td>...</td>\n",
       "      <td>...</td>\n",
       "      <td>...</td>\n",
       "      <td>...</td>\n",
       "      <td>...</td>\n",
       "      <td>...</td>\n",
       "      <td>...</td>\n",
       "      <td>...</td>\n",
       "      <td>...</td>\n",
       "      <td>...</td>\n",
       "      <td>...</td>\n",
       "      <td>...</td>\n",
       "      <td>...</td>\n",
       "      <td>...</td>\n",
       "      <td>...</td>\n",
       "    </tr>\n",
       "    <tr>\n",
       "      <th>126</th>\n",
       "      <td>False</td>\n",
       "      <td>[]</td>\n",
       "      <td>IDS_RUBELLA_CONF_CASES</td>\n",
       "      <td>1</td>\n",
       "      <td>1</td>\n",
       "      <td>NaN</td>\n",
       "      <td>fxF64ipVSq8</td>\n",
       "      <td>{'id': 'kHy61PbChXr'}</td>\n",
       "      <td>[]</td>\n",
       "      <td>IDS - Rubella (Confirmed cases)</td>\n",
       "      <td>#{rVi7C4a14jp}</td>\n",
       "      <td>Rubella (Confirmed cases)</td>\n",
       "      <td>{'external': False, 'owner': 'vUeLeQMSwhN', 'p...</td>\n",
       "      <td>Rubella (Confirmed cases)</td>\n",
       "      <td>[{'locale': 'fr', 'property': 'DENOMINATOR_DES...</td>\n",
       "      <td>NaN</td>\n",
       "    </tr>\n",
       "    <tr>\n",
       "      <th>127</th>\n",
       "      <td>False</td>\n",
       "      <td>[]</td>\n",
       "      <td>VIRAL_HEMORRHAGIC_FEVER_CFR_%</td>\n",
       "      <td>#{FMM88mSULsl}</td>\n",
       "      <td>Number of suspected cases of Viral hemorrhagic...</td>\n",
       "      <td>NaN</td>\n",
       "      <td>aH6fYtpH2sA</td>\n",
       "      <td>{'id': 'hmSnCXmLYwt'}</td>\n",
       "      <td>[]</td>\n",
       "      <td>IDS - Viral hemorrhagic fever case fatality ra...</td>\n",
       "      <td>#{hi5J0vMBrbE}</td>\n",
       "      <td>Number of deaths due to viral hemorrhagic fever</td>\n",
       "      <td>{'external': False, 'owner': 'vUeLeQMSwhN', 'p...</td>\n",
       "      <td>Viral hemorrhagic fever CFR (%)</td>\n",
       "      <td>[{'locale': 'fr', 'property': 'NAME', 'value':...</td>\n",
       "      <td>NaN</td>\n",
       "    </tr>\n",
       "    <tr>\n",
       "      <th>128</th>\n",
       "      <td>False</td>\n",
       "      <td>[]</td>\n",
       "      <td>IDS_YF_CONF_CASES</td>\n",
       "      <td>1</td>\n",
       "      <td>1</td>\n",
       "      <td>NaN</td>\n",
       "      <td>ffNQctZ9uxd</td>\n",
       "      <td>{'id': 'kHy61PbChXr'}</td>\n",
       "      <td>[]</td>\n",
       "      <td>IDS - Yellow Fever (Confirmed cases)</td>\n",
       "      <td>#{I11IpNMGxaR}</td>\n",
       "      <td>Yellow Fever (Confirmed case)</td>\n",
       "      <td>{'external': False, 'owner': 'vUeLeQMSwhN', 'p...</td>\n",
       "      <td>Yellow Fever (Confirmed cases)</td>\n",
       "      <td>[{'locale': 'fr', 'property': 'DENOMINATOR_DES...</td>\n",
       "      <td>NaN</td>\n",
       "    </tr>\n",
       "    <tr>\n",
       "      <th>129</th>\n",
       "      <td>False</td>\n",
       "      <td>[]</td>\n",
       "      <td>IDS_YF_DTHS</td>\n",
       "      <td>1</td>\n",
       "      <td>1</td>\n",
       "      <td>NaN</td>\n",
       "      <td>VT7WZlgGtx0</td>\n",
       "      <td>{'id': 'kHy61PbChXr'}</td>\n",
       "      <td>[]</td>\n",
       "      <td>IDS - Yellow Fever (Deaths)</td>\n",
       "      <td>#{sjd8VtIZxmz}</td>\n",
       "      <td>Yellow Fever (Deaths)</td>\n",
       "      <td>{'external': False, 'owner': 'vUeLeQMSwhN', 'p...</td>\n",
       "      <td>Yellow Fever (Deaths)</td>\n",
       "      <td>[{'locale': 'fr', 'property': 'DENOMINATOR_DES...</td>\n",
       "      <td>NaN</td>\n",
       "    </tr>\n",
       "    <tr>\n",
       "      <th>130</th>\n",
       "      <td>False</td>\n",
       "      <td>[]</td>\n",
       "      <td>IDS_YF_SUSP_CASES</td>\n",
       "      <td>1</td>\n",
       "      <td>1</td>\n",
       "      <td>NaN</td>\n",
       "      <td>WND2T40z1d1</td>\n",
       "      <td>{'id': 'kHy61PbChXr'}</td>\n",
       "      <td>[]</td>\n",
       "      <td>IDS - Yellow Fever (Suspected cases)</td>\n",
       "      <td>#{Q1xDDDusLwl}</td>\n",
       "      <td>Yellow Fever (Suspected case)</td>\n",
       "      <td>{'external': False, 'owner': 'vUeLeQMSwhN', 'p...</td>\n",
       "      <td>Yellow Fever (Suspected cases)</td>\n",
       "      <td>[{'locale': 'fr', 'property': 'DENOMINATOR_DES...</td>\n",
       "      <td>NaN</td>\n",
       "    </tr>\n",
       "  </tbody>\n",
       "</table>\n",
       "<p>131 rows × 16 columns</p>\n",
       "</div>"
      ],
      "text/plain": [
       "     annualized attributeValues                           code  \\\n",
       "0         False              []            IDS_AFP_ATTACK_RATE   \n",
       "1         False              []          IDS_AFP_CONF_CASE_WPV   \n",
       "2         False              []            IDS_AWD_ATTACK_RATE   \n",
       "3         False              []              IDS_AWD_CONF_CASE   \n",
       "4         False              []                   IDS_AWD_DTHS   \n",
       "..          ...             ...                            ...   \n",
       "126       False              []         IDS_RUBELLA_CONF_CASES   \n",
       "127       False              []  VIRAL_HEMORRHAGIC_FEVER_CFR_%   \n",
       "128       False              []              IDS_YF_CONF_CASES   \n",
       "129       False              []                    IDS_YF_DTHS   \n",
       "130       False              []              IDS_YF_SUSP_CASES   \n",
       "\n",
       "        denominator                             denominatorDescription  \\\n",
       "0    #{DkmMEcubiPv}                          Population exposed to AFP   \n",
       "1                 1                                                  1   \n",
       "2    #{DkmMEcubiPv}                          Population exposed to AWD   \n",
       "3                 1                                                  1   \n",
       "4                 1                                                  1   \n",
       "..              ...                                                ...   \n",
       "126               1                                                  1   \n",
       "127  #{FMM88mSULsl}  Number of suspected cases of Viral hemorrhagic...   \n",
       "128               1                                                  1   \n",
       "129               1                                                  1   \n",
       "130               1                                                  1   \n",
       "\n",
       "                                           description           id  \\\n",
       "0    Attack rate:An expression of incidence, define...  Pct5ZPMzYYU   \n",
       "1                                                  NaN  hdZoVVTIqAB   \n",
       "2    Attack rate:An expression of incidence, define...  lMRuY8KHVKP   \n",
       "3                                                  NaN  w2iZCr1yuyW   \n",
       "4                                                  NaN  eX8kVT3oRoc   \n",
       "..                                                 ...          ...   \n",
       "126                                                NaN  fxF64ipVSq8   \n",
       "127                                                NaN  aH6fYtpH2sA   \n",
       "128                                                NaN  ffNQctZ9uxd   \n",
       "129                                                NaN  VT7WZlgGtx0   \n",
       "130                                                NaN  WND2T40z1d1   \n",
       "\n",
       "             indicatorType legendSets  \\\n",
       "0    {'id': 'BY11PjGMCg2'}         []   \n",
       "1    {'id': 'kHy61PbChXr'}         []   \n",
       "2    {'id': 'BY11PjGMCg2'}         []   \n",
       "3    {'id': 'kHy61PbChXr'}         []   \n",
       "4    {'id': 'kHy61PbChXr'}         []   \n",
       "..                     ...        ...   \n",
       "126  {'id': 'kHy61PbChXr'}         []   \n",
       "127  {'id': 'hmSnCXmLYwt'}         []   \n",
       "128  {'id': 'kHy61PbChXr'}         []   \n",
       "129  {'id': 'kHy61PbChXr'}         []   \n",
       "130  {'id': 'kHy61PbChXr'}         []   \n",
       "\n",
       "                                                  name       numerator  \\\n",
       "0    IDS - Acute Flacid Paralysis (AFP) - Attack ra...  #{qYJ3YYLADtz}   \n",
       "1    IDS - Acute Flacid Paralysis (Confirmed cases ...  #{b0IzLHcVdm0}   \n",
       "2    IDS - Acute watery diarrhoea(AWD) - Attack rat...  #{flD9dHHw3Wl}   \n",
       "3       IDS - Acute watery diarrhoea (Confirmed cases)              -1   \n",
       "4                IDS - Acute watery diarrhoea (Deaths)  #{bXn9Kmxnd3r}   \n",
       "..                                                 ...             ...   \n",
       "126                    IDS - Rubella (Confirmed cases)  #{rVi7C4a14jp}   \n",
       "127  IDS - Viral hemorrhagic fever case fatality ra...  #{hi5J0vMBrbE}   \n",
       "128               IDS - Yellow Fever (Confirmed cases)  #{I11IpNMGxaR}   \n",
       "129                        IDS - Yellow Fever (Deaths)  #{sjd8VtIZxmz}   \n",
       "130               IDS - Yellow Fever (Suspected cases)  #{Q1xDDDusLwl}   \n",
       "\n",
       "                                numeratorDescription  \\\n",
       "0                         Number of new cases of AFP   \n",
       "1        Acute Flacid Paralysis (confirmed case WPV)   \n",
       "2                         Number of new cases of AWD   \n",
       "3            Acute watery diarrhoea (Confirmed case)   \n",
       "4                    Acute watery diarrhoea (Deaths)   \n",
       "..                                               ...   \n",
       "126                        Rubella (Confirmed cases)   \n",
       "127  Number of deaths due to viral hemorrhagic fever   \n",
       "128                    Yellow Fever (Confirmed case)   \n",
       "129                            Yellow Fever (Deaths)   \n",
       "130                    Yellow Fever (Suspected case)   \n",
       "\n",
       "                                               sharing  \\\n",
       "0    {'external': False, 'owner': 'vUeLeQMSwhN', 'p...   \n",
       "1    {'external': False, 'owner': 'vUeLeQMSwhN', 'p...   \n",
       "2    {'external': False, 'owner': 'vUeLeQMSwhN', 'p...   \n",
       "3    {'external': False, 'owner': 'vUeLeQMSwhN', 'p...   \n",
       "4    {'external': False, 'owner': 'vUeLeQMSwhN', 'p...   \n",
       "..                                                 ...   \n",
       "126  {'external': False, 'owner': 'vUeLeQMSwhN', 'p...   \n",
       "127  {'external': False, 'owner': 'vUeLeQMSwhN', 'p...   \n",
       "128  {'external': False, 'owner': 'vUeLeQMSwhN', 'p...   \n",
       "129  {'external': False, 'owner': 'vUeLeQMSwhN', 'p...   \n",
       "130  {'external': False, 'owner': 'vUeLeQMSwhN', 'p...   \n",
       "\n",
       "                                             shortName  \\\n",
       "0                           AFP - Attack rate(/100000)   \n",
       "1          Acute Flacid Paralysis (confirmed case WPV)   \n",
       "2    Acute watery diarrhoea(AWD) - Attack rate(/100...   \n",
       "3               Acute watery diarrhea (confirmed case)   \n",
       "4                      Acute watery diarrhoea (Deaths)   \n",
       "..                                                 ...   \n",
       "126                          Rubella (Confirmed cases)   \n",
       "127                    Viral hemorrhagic fever CFR (%)   \n",
       "128                     Yellow Fever (Confirmed cases)   \n",
       "129                              Yellow Fever (Deaths)   \n",
       "130                     Yellow Fever (Suspected cases)   \n",
       "\n",
       "                                          translations  decimals  \n",
       "0    [{'locale': 'fr', 'property': 'SHORT_NAME', 'v...       NaN  \n",
       "1    [{'locale': 'fr', 'property': 'DENOMINATOR_DES...       NaN  \n",
       "2    [{'locale': 'fr', 'property': 'DENOMINATOR_DES...       NaN  \n",
       "3    [{'locale': 'fr', 'property': 'DENOMINATOR_DES...       NaN  \n",
       "4    [{'locale': 'fr', 'property': 'DENOMINATOR_DES...       NaN  \n",
       "..                                                 ...       ...  \n",
       "126  [{'locale': 'fr', 'property': 'DENOMINATOR_DES...       NaN  \n",
       "127  [{'locale': 'fr', 'property': 'NAME', 'value':...       NaN  \n",
       "128  [{'locale': 'fr', 'property': 'DENOMINATOR_DES...       NaN  \n",
       "129  [{'locale': 'fr', 'property': 'DENOMINATOR_DES...       NaN  \n",
       "130  [{'locale': 'fr', 'property': 'DENOMINATOR_DES...       NaN  \n",
       "\n",
       "[131 rows x 16 columns]"
      ]
     },
     "execution_count": 24,
     "metadata": {},
     "output_type": "execute_result"
    }
   ],
   "source": [
    "pd.DataFrame(data[\"indicators\"])"
   ]
  },
  {
   "cell_type": "markdown",
   "id": "5f2e62a2",
   "metadata": {},
   "source": [
    "### Problema Dataset-entryforms al reimportar paquete IDS + OrgUnits"
   ]
  },
  {
   "cell_type": "code",
   "execution_count": 25,
   "id": "c8aff4ef",
   "metadata": {},
   "outputs": [],
   "source": [
    "dataEntryForms_prob = [\"qFWy9fXRVeA\", \"gvNufHfsp0M\" , \"zErZIzV6Zzo\"]\n",
    "datasets_prob = [\"OTvkNTijYQY\", \"ZyZmZTUwctj\",\"m9yPuQEqxmS\" ]"
   ]
  },
  {
   "cell_type": "code",
   "execution_count": 26,
   "id": "1a062c6b",
   "metadata": {},
   "outputs": [],
   "source": [
    "dataEntryForms = pd.DataFrame(data[\"dataEntryForms\"])"
   ]
  },
  {
   "cell_type": "code",
   "execution_count": 27,
   "id": "be3560ce",
   "metadata": {},
   "outputs": [
    {
     "data": {
      "text/html": [
       "<div>\n",
       "<style scoped>\n",
       "    .dataframe tbody tr th:only-of-type {\n",
       "        vertical-align: middle;\n",
       "    }\n",
       "\n",
       "    .dataframe tbody tr th {\n",
       "        vertical-align: top;\n",
       "    }\n",
       "\n",
       "    .dataframe thead th {\n",
       "        text-align: right;\n",
       "    }\n",
       "</style>\n",
       "<table border=\"1\" class=\"dataframe\">\n",
       "  <thead>\n",
       "    <tr style=\"text-align: right;\">\n",
       "      <th></th>\n",
       "      <th>format</th>\n",
       "      <th>htmlCode</th>\n",
       "      <th>id</th>\n",
       "      <th>name</th>\n",
       "      <th>style</th>\n",
       "      <th>translations</th>\n",
       "    </tr>\n",
       "  </thead>\n",
       "  <tbody>\n",
       "    <tr>\n",
       "      <th>0</th>\n",
       "      <td>2</td>\n",
       "      <td>&lt;h4 style=\"font-style:italic; margin-bottom: 0...</td>\n",
       "      <td>qFWy9fXRVeA</td>\n",
       "      <td>IDS - Aggregate  Lab Weekly Report</td>\n",
       "      <td>COMPACT</td>\n",
       "      <td>[{'locale': 'fr', 'property': 'NAME', 'value':...</td>\n",
       "    </tr>\n",
       "    <tr>\n",
       "      <th>1</th>\n",
       "      <td>2</td>\n",
       "      <td>&lt;h4 style=\"font-style:italic; margin-bottom: 0...</td>\n",
       "      <td>gvNufHfsp0M</td>\n",
       "      <td>IDS - Aggregate Weekly Report</td>\n",
       "      <td>COMPACT</td>\n",
       "      <td>[{'locale': 'fr', 'property': 'NAME', 'value':...</td>\n",
       "    </tr>\n",
       "    <tr>\n",
       "      <th>2</th>\n",
       "      <td>2</td>\n",
       "      <td>&lt;h4 style=\"font-style:italic; margin-bottom: 0...</td>\n",
       "      <td>zErZIzV6Zzo</td>\n",
       "      <td>IDS - Aggregate Weekly Report (Suspected - Death)</td>\n",
       "      <td>COMPACT</td>\n",
       "      <td>[{'locale': 'fr', 'property': 'NAME', 'value':...</td>\n",
       "    </tr>\n",
       "  </tbody>\n",
       "</table>\n",
       "</div>"
      ],
      "text/plain": [
       "   format                                           htmlCode           id  \\\n",
       "0       2  <h4 style=\"font-style:italic; margin-bottom: 0...  qFWy9fXRVeA   \n",
       "1       2  <h4 style=\"font-style:italic; margin-bottom: 0...  gvNufHfsp0M   \n",
       "2       2  <h4 style=\"font-style:italic; margin-bottom: 0...  zErZIzV6Zzo   \n",
       "\n",
       "                                                name    style  \\\n",
       "0                 IDS - Aggregate  Lab Weekly Report  COMPACT   \n",
       "1                      IDS - Aggregate Weekly Report  COMPACT   \n",
       "2  IDS - Aggregate Weekly Report (Suspected - Death)  COMPACT   \n",
       "\n",
       "                                        translations  \n",
       "0  [{'locale': 'fr', 'property': 'NAME', 'value':...  \n",
       "1  [{'locale': 'fr', 'property': 'NAME', 'value':...  \n",
       "2  [{'locale': 'fr', 'property': 'NAME', 'value':...  "
      ]
     },
     "execution_count": 27,
     "metadata": {},
     "output_type": "execute_result"
    }
   ],
   "source": [
    "dataEntryForms"
   ]
  },
  {
   "cell_type": "code",
   "execution_count": 28,
   "id": "0f585085",
   "metadata": {},
   "outputs": [
    {
     "data": {
      "text/plain": [
       "['IDS - Aggregate Lab Weekly Report',\n",
       " 'IDS - Report: Suspected, Confirm, Death',\n",
       " 'IDS - Report: Suspected, Death',\n",
       " 'Population (weekly)']"
      ]
     },
     "execution_count": 28,
     "metadata": {},
     "output_type": "execute_result"
    }
   ],
   "source": [
    "dataSets[\"name\"].to_list()"
   ]
  },
  {
   "cell_type": "markdown",
   "id": "5d46e954",
   "metadata": {},
   "source": [
    "no entiendo muy bien en verdad....."
   ]
  },
  {
   "cell_type": "code",
   "execution_count": 29,
   "id": "24ce74e2",
   "metadata": {},
   "outputs": [
    {
     "name": "stdout",
     "output_type": "stream",
     "text": [
      "<!doctype html><html lang=\"en\"><head><title>HTTP Status 404 – Not Found</title><style type=\"text/css\">body {font-family:Tahoma,Arial,sans-serif;} h1, h2, h3, b {color:white;background-color:#525D76;} h1 {font-size:22px;} h2 {font-size:16px;} h3 {font-size:14px;} p {font-size:12px;} a {color:black;} .line {height:1px;background-color:#525D76;border:none;}</style></head><body><h1>HTTP Status 404 – Not Found</h1><hr class=\"line\" /><p><b>Type</b> Status Report</p><p><b>Description</b> The origin server did not find a current representation for the target resource or is not willing to disclose that one exists.</p><hr class=\"line\" /><h3>Apache Tomcat/9.0.71</h3></body></html>"
     ]
    }
   ],
   "source": [
    "!curl -u admin:district http://localhost:8080/api/26/metadata"
   ]
  },
  {
   "cell_type": "code",
   "execution_count": 30,
   "id": "f379346d",
   "metadata": {},
   "outputs": [
    {
     "name": "stdout",
     "output_type": "stream",
     "text": [
      "delete_OrgUnit.ipynb\t\t OrgUnitLevel.ipynb\r\n",
      "explore_metadata.ipynb\t\t org_units\r\n",
      "get-org-units-to-reimport.ipynb  sierra-leona-org-units.ipynb\r\n",
      "imp_ext_func\t\t\t Untitled1.ipynb\r\n"
     ]
    }
   ],
   "source": [
    "!ls"
   ]
  },
  {
   "cell_type": "code",
   "execution_count": 31,
   "id": "25ff6e23",
   "metadata": {},
   "outputs": [],
   "source": [
    "response = get_data(\"dataSets/zTU6UZXtgwR/dataValueSet\")"
   ]
  },
  {
   "cell_type": "code",
   "execution_count": 37,
   "id": "8be6453e",
   "metadata": {},
   "outputs": [
    {
     "name": "stdout",
     "output_type": "stream",
     "text": [
      "{'dataValues': [{'dataElement': 'ezlLC4UCA2g', 'categoryOptionCombo': 'HllvX50cXC0', 'period': '', 'value': ''}, {'dataElement': 'McxtlIwrSYl', 'categoryOptionCombo': 'HllvX50cXC0', 'period': '', 'value': ''}, {'dataElement': 'D5nYQAs4YYN', 'categoryOptionCombo': 'HllvX50cXC0', 'period': '', 'value': ''}, {'dataElement': 'Nj943YZm5J0', 'categoryOptionCombo': 'HllvX50cXC0', 'period': '', 'value': ''}, {'dataElement': 'RGmtcR1mcfn', 'categoryOptionCombo': 'HllvX50cXC0', 'period': '', 'value': ''}, {'dataElement': 'IwElS2y8uzq', 'categoryOptionCombo': 'HllvX50cXC0', 'period': '', 'value': ''}, {'dataElement': 'J0s9X6GHsOi', 'categoryOptionCombo': 'HllvX50cXC0', 'period': '', 'value': ''}, {'dataElement': 'unXcJLrNYNe', 'categoryOptionCombo': 'HllvX50cXC0', 'period': '', 'value': ''}, {'dataElement': 'my2vljFIgT3', 'categoryOptionCombo': 'HllvX50cXC0', 'period': '', 'value': ''}, {'dataElement': 'KY2gR9npnfP', 'categoryOptionCombo': 'HllvX50cXC0', 'period': '', 'value': ''}, {'dataElement': 'yMlASPYVU2v', 'categoryOptionCombo': 'HllvX50cXC0', 'period': '', 'value': ''}, {'dataElement': 'I11IpNMGxaR', 'categoryOptionCombo': 'HllvX50cXC0', 'period': '', 'value': ''}, {'dataElement': 'I0hSJHycgzT', 'categoryOptionCombo': 'HllvX50cXC0', 'period': '', 'value': ''}, {'dataElement': 'rVi7C4a14jp', 'categoryOptionCombo': 'HllvX50cXC0', 'period': '', 'value': ''}, {'dataElement': 'paABbIxQ6fI', 'categoryOptionCombo': 'HllvX50cXC0', 'period': '', 'value': ''}, {'dataElement': 'LNOSbgZiqaJ', 'categoryOptionCombo': 'HllvX50cXC0', 'period': '', 'value': ''}, {'dataElement': 'X4gFcPKQ8Cw', 'categoryOptionCombo': 'HllvX50cXC0', 'period': '', 'value': ''}, {'dataElement': 'MbAkHOTlcyp', 'categoryOptionCombo': 'HllvX50cXC0', 'period': '', 'value': ''}, {'dataElement': 'm2afIjMnymV', 'categoryOptionCombo': 'HllvX50cXC0', 'period': '', 'value': ''}, {'dataElement': 'RAQCr5DpCzC', 'categoryOptionCombo': 'HllvX50cXC0', 'period': '', 'value': ''}, {'dataElement': 'e27MJXqMPAW', 'categoryOptionCombo': 'HllvX50cXC0', 'period': '', 'value': ''}, {'dataElement': 'KGWccjjpSdP', 'categoryOptionCombo': 'HllvX50cXC0', 'period': '', 'value': ''}, {'dataElement': 'iuh5hm4RVBR', 'categoryOptionCombo': 'HllvX50cXC0', 'period': '', 'value': ''}, {'dataElement': 'FTWXeWdPdVH', 'categoryOptionCombo': 'HllvX50cXC0', 'period': '', 'value': ''}, {'dataElement': 'BYXzAABOEbr', 'categoryOptionCombo': 'HllvX50cXC0', 'period': '', 'value': ''}, {'dataElement': 'Gn5FOQygSJM', 'categoryOptionCombo': 'HllvX50cXC0', 'period': '', 'value': ''}, {'dataElement': 'jxvt8LFSx8e', 'categoryOptionCombo': 'HllvX50cXC0', 'period': '', 'value': ''}, {'dataElement': 'UXtfpFrG53k', 'categoryOptionCombo': 'HllvX50cXC0', 'period': '', 'value': ''}, {'dataElement': 'LszjUZCLWP2', 'categoryOptionCombo': 'HllvX50cXC0', 'period': '', 'value': ''}, {'dataElement': 'b0IzLHcVdm0', 'categoryOptionCombo': 'HllvX50cXC0', 'period': '', 'value': ''}, {'dataElement': 'ZcuZSS8QHOg', 'categoryOptionCombo': 'HllvX50cXC0', 'period': '', 'value': ''}]}\n",
      "{'dataValues': [{'dataElement': 'ezlLC4UCA2g', 'categoryOptionCombo': 'HllvX50cXC0', 'period': '', 'value': ''}, {'dataElement': 'flD9dHHw3Wl', 'categoryOptionCombo': 'YgSzuXIfed6', 'period': '', 'value': ''}, {'dataElement': 'flD9dHHw3Wl', 'categoryOptionCombo': 'EW1nknsma47', 'period': '', 'value': ''}, {'dataElement': 'D5nYQAs4YYN', 'categoryOptionCombo': 'HllvX50cXC0', 'period': '', 'value': ''}, {'dataElement': 'Nj943YZm5J0', 'categoryOptionCombo': 'HllvX50cXC0', 'period': '', 'value': ''}, {'dataElement': 'unXcJLrNYNe', 'categoryOptionCombo': 'HllvX50cXC0', 'period': '', 'value': ''}, {'dataElement': 'my2vljFIgT3', 'categoryOptionCombo': 'HllvX50cXC0', 'period': '', 'value': ''}, {'dataElement': 'v2FeCwrKNt5', 'categoryOptionCombo': 'HllvX50cXC0', 'period': '', 'value': ''}, {'dataElement': 'KY2gR9npnfP', 'categoryOptionCombo': 'HllvX50cXC0', 'period': '', 'value': ''}, {'dataElement': 'Hrsq0RqGFKO', 'categoryOptionCombo': 'YgSzuXIfed6', 'period': '', 'value': ''}, {'dataElement': 'Hrsq0RqGFKO', 'categoryOptionCombo': 'EW1nknsma47', 'period': '', 'value': ''}, {'dataElement': 'P666FBECG0N', 'categoryOptionCombo': 'YgSzuXIfed6', 'period': '', 'value': ''}, {'dataElement': 'P666FBECG0N', 'categoryOptionCombo': 'EW1nknsma47', 'period': '', 'value': ''}, {'dataElement': 'rl1SLaRmaZ4', 'categoryOptionCombo': 'YgSzuXIfed6', 'period': '', 'value': ''}, {'dataElement': 'rl1SLaRmaZ4', 'categoryOptionCombo': 'EW1nknsma47', 'period': '', 'value': ''}, {'dataElement': 'ddGAKVfTvlQ', 'categoryOptionCombo': 'YgSzuXIfed6', 'period': '', 'value': ''}, {'dataElement': 'ddGAKVfTvlQ', 'categoryOptionCombo': 'EW1nknsma47', 'period': '', 'value': ''}, {'dataElement': 'wryMP8p8k1C', 'categoryOptionCombo': 'YgSzuXIfed6', 'period': '', 'value': ''}, {'dataElement': 'wryMP8p8k1C', 'categoryOptionCombo': 'EW1nknsma47', 'period': '', 'value': ''}, {'dataElement': 'qAM23M0qOId', 'categoryOptionCombo': 'HllvX50cXC0', 'period': '', 'value': ''}, {'dataElement': 'I11IpNMGxaR', 'categoryOptionCombo': 'HllvX50cXC0', 'period': '', 'value': ''}, {'dataElement': 'bXn9Kmxnd3r', 'categoryOptionCombo': 'YgSzuXIfed6', 'period': '', 'value': ''}, {'dataElement': 'bXn9Kmxnd3r', 'categoryOptionCombo': 'EW1nknsma47', 'period': '', 'value': ''}, {'dataElement': 'bHSkKIwVBay', 'categoryOptionCombo': 'YgSzuXIfed6', 'period': '', 'value': ''}, {'dataElement': 'bHSkKIwVBay', 'categoryOptionCombo': 'EW1nknsma47', 'period': '', 'value': ''}, {'dataElement': 'n1iUA7kb0wj', 'categoryOptionCombo': 'YgSzuXIfed6', 'period': '', 'value': ''}, {'dataElement': 'n1iUA7kb0wj', 'categoryOptionCombo': 'EW1nknsma47', 'period': '', 'value': ''}, {'dataElement': 'X4gFcPKQ8Cw', 'categoryOptionCombo': 'HllvX50cXC0', 'period': '', 'value': ''}, {'dataElement': 'hi5J0vMBrbE', 'categoryOptionCombo': 'YgSzuXIfed6', 'period': '', 'value': ''}, {'dataElement': 'hi5J0vMBrbE', 'categoryOptionCombo': 'EW1nknsma47', 'period': '', 'value': ''}, {'dataElement': 'KGWccjjpSdP', 'categoryOptionCombo': 'HllvX50cXC0', 'period': '', 'value': ''}, {'dataElement': 'e27MJXqMPAW', 'categoryOptionCombo': 'HllvX50cXC0', 'period': '', 'value': ''}, {'dataElement': 'RAQCr5DpCzC', 'categoryOptionCombo': 'HllvX50cXC0', 'period': '', 'value': ''}, {'dataElement': 'Q1xDDDusLwl', 'categoryOptionCombo': 'YgSzuXIfed6', 'period': '', 'value': ''}, {'dataElement': 'Q1xDDDusLwl', 'categoryOptionCombo': 'EW1nknsma47', 'period': '', 'value': ''}, {'dataElement': 'PIeQekpD664', 'categoryOptionCombo': 'HllvX50cXC0', 'period': '', 'value': ''}, {'dataElement': 'K2Ky3gBe2sB', 'categoryOptionCombo': 'HllvX50cXC0', 'period': '', 'value': ''}, {'dataElement': 'juTM5EM0Jo0', 'categoryOptionCombo': 'YgSzuXIfed6', 'period': '', 'value': ''}, {'dataElement': 'juTM5EM0Jo0', 'categoryOptionCombo': 'EW1nknsma47', 'period': '', 'value': ''}, {'dataElement': 'Gn5FOQygSJM', 'categoryOptionCombo': 'HllvX50cXC0', 'period': '', 'value': ''}, {'dataElement': 'lTiuuQij9HP', 'categoryOptionCombo': 'HllvX50cXC0', 'period': '', 'value': ''}, {'dataElement': 'jxvt8LFSx8e', 'categoryOptionCombo': 'HllvX50cXC0', 'period': '', 'value': ''}, {'dataElement': 'KUuKOtxzBJ1', 'categoryOptionCombo': 'HllvX50cXC0', 'period': '', 'value': ''}, {'dataElement': 'vd4GxqtKkRC', 'categoryOptionCombo': 'YgSzuXIfed6', 'period': '', 'value': ''}, {'dataElement': 'vd4GxqtKkRC', 'categoryOptionCombo': 'EW1nknsma47', 'period': '', 'value': ''}, {'dataElement': 'miZ7nLeBp1w', 'categoryOptionCombo': 'YgSzuXIfed6', 'period': '', 'value': ''}, {'dataElement': 'miZ7nLeBp1w', 'categoryOptionCombo': 'EW1nknsma47', 'period': '', 'value': ''}, {'dataElement': 'qYJ3YYLADtz', 'categoryOptionCombo': 'YgSzuXIfed6', 'period': '', 'value': ''}, {'dataElement': 'qYJ3YYLADtz', 'categoryOptionCombo': 'EW1nknsma47', 'period': '', 'value': ''}, {'dataElement': 'McxtlIwrSYl', 'categoryOptionCombo': 'HllvX50cXC0', 'period': '', 'value': ''}, {'dataElement': 'RGmtcR1mcfn', 'categoryOptionCombo': 'HllvX50cXC0', 'period': '', 'value': ''}, {'dataElement': 'FMM88mSULsl', 'categoryOptionCombo': 'YgSzuXIfed6', 'period': '', 'value': ''}, {'dataElement': 'FMM88mSULsl', 'categoryOptionCombo': 'EW1nknsma47', 'period': '', 'value': ''}, {'dataElement': 'IwElS2y8uzq', 'categoryOptionCombo': 'HllvX50cXC0', 'period': '', 'value': ''}, {'dataElement': 'J0s9X6GHsOi', 'categoryOptionCombo': 'HllvX50cXC0', 'period': '', 'value': ''}, {'dataElement': 'Sc5efRwnOA9', 'categoryOptionCombo': 'YgSzuXIfed6', 'period': '', 'value': ''}, {'dataElement': 'Sc5efRwnOA9', 'categoryOptionCombo': 'EW1nknsma47', 'period': '', 'value': ''}, {'dataElement': 'yMlASPYVU2v', 'categoryOptionCombo': 'HllvX50cXC0', 'period': '', 'value': ''}, {'dataElement': 'lo0rfBSWDbf', 'categoryOptionCombo': 'YgSzuXIfed6', 'period': '', 'value': ''}, {'dataElement': 'lo0rfBSWDbf', 'categoryOptionCombo': 'EW1nknsma47', 'period': '', 'value': ''}, {'dataElement': 'I0hSJHycgzT', 'categoryOptionCombo': 'HllvX50cXC0', 'period': '', 'value': ''}, {'dataElement': 'rVi7C4a14jp', 'categoryOptionCombo': 'HllvX50cXC0', 'period': '', 'value': ''}, {'dataElement': 'qqqAULiKFu2', 'categoryOptionCombo': 'YgSzuXIfed6', 'period': '', 'value': ''}, {'dataElement': 'qqqAULiKFu2', 'categoryOptionCombo': 'EW1nknsma47', 'period': '', 'value': ''}, {'dataElement': 'ZOVJGcrCdCH', 'categoryOptionCombo': 'HllvX50cXC0', 'period': '', 'value': ''}, {'dataElement': 'LNOSbgZiqaJ', 'categoryOptionCombo': 'HllvX50cXC0', 'period': '', 'value': ''}, {'dataElement': 'paABbIxQ6fI', 'categoryOptionCombo': 'HllvX50cXC0', 'period': '', 'value': ''}, {'dataElement': 'MbAkHOTlcyp', 'categoryOptionCombo': 'HllvX50cXC0', 'period': '', 'value': ''}, {'dataElement': 'm2afIjMnymV', 'categoryOptionCombo': 'HllvX50cXC0', 'period': '', 'value': ''}, {'dataElement': 'iuh5hm4RVBR', 'categoryOptionCombo': 'HllvX50cXC0', 'period': '', 'value': ''}, {'dataElement': 'FTWXeWdPdVH', 'categoryOptionCombo': 'HllvX50cXC0', 'period': '', 'value': ''}, {'dataElement': 'qNsd9cPWNVo', 'categoryOptionCombo': 'YgSzuXIfed6', 'period': '', 'value': ''}, {'dataElement': 'qNsd9cPWNVo', 'categoryOptionCombo': 'EW1nknsma47', 'period': '', 'value': ''}, {'dataElement': 'dKzr3MsO9kG', 'categoryOptionCombo': 'HllvX50cXC0', 'period': '', 'value': ''}, {'dataElement': 'BYXzAABOEbr', 'categoryOptionCombo': 'HllvX50cXC0', 'period': '', 'value': ''}, {'dataElement': 'xfkxDz03AFK', 'categoryOptionCombo': 'YgSzuXIfed6', 'period': '', 'value': ''}, {'dataElement': 'xfkxDz03AFK', 'categoryOptionCombo': 'EW1nknsma47', 'period': '', 'value': ''}, {'dataElement': 'PR3HRX1IEBj', 'categoryOptionCombo': 'YgSzuXIfed6', 'period': '', 'value': ''}, {'dataElement': 'PR3HRX1IEBj', 'categoryOptionCombo': 'EW1nknsma47', 'period': '', 'value': ''}, {'dataElement': 'ClUDerxOIWR', 'categoryOptionCombo': 'YgSzuXIfed6', 'period': '', 'value': ''}, {'dataElement': 'ClUDerxOIWR', 'categoryOptionCombo': 'EW1nknsma47', 'period': '', 'value': ''}, {'dataElement': 'sjd8VtIZxmz', 'categoryOptionCombo': 'YgSzuXIfed6', 'period': '', 'value': ''}, {'dataElement': 'sjd8VtIZxmz', 'categoryOptionCombo': 'EW1nknsma47', 'period': '', 'value': ''}, {'dataElement': 'UXtfpFrG53k', 'categoryOptionCombo': 'HllvX50cXC0', 'period': '', 'value': ''}, {'dataElement': 'LszjUZCLWP2', 'categoryOptionCombo': 'HllvX50cXC0', 'period': '', 'value': ''}, {'dataElement': 'b0IzLHcVdm0', 'categoryOptionCombo': 'HllvX50cXC0', 'period': '', 'value': ''}, {'dataElement': 'ZcuZSS8QHOg', 'categoryOptionCombo': 'HllvX50cXC0', 'period': '', 'value': ''}]}\n"
     ]
    },
    {
     "name": "stdout",
     "output_type": "stream",
     "text": [
      "{'dataValues': [{'dataElement': 'flD9dHHw3Wl', 'categoryOptionCombo': 'YgSzuXIfed6', 'period': '', 'value': ''}, {'dataElement': 'flD9dHHw3Wl', 'categoryOptionCombo': 'EW1nknsma47', 'period': '', 'value': ''}, {'dataElement': 'qYJ3YYLADtz', 'categoryOptionCombo': 'YgSzuXIfed6', 'period': '', 'value': ''}, {'dataElement': 'qYJ3YYLADtz', 'categoryOptionCombo': 'EW1nknsma47', 'period': '', 'value': ''}, {'dataElement': 'FMM88mSULsl', 'categoryOptionCombo': 'YgSzuXIfed6', 'period': '', 'value': ''}, {'dataElement': 'FMM88mSULsl', 'categoryOptionCombo': 'EW1nknsma47', 'period': '', 'value': ''}, {'dataElement': 'Sc5efRwnOA9', 'categoryOptionCombo': 'YgSzuXIfed6', 'period': '', 'value': ''}, {'dataElement': 'Sc5efRwnOA9', 'categoryOptionCombo': 'EW1nknsma47', 'period': '', 'value': ''}, {'dataElement': 'my2vljFIgT3', 'categoryOptionCombo': 'HllvX50cXC0', 'period': '', 'value': ''}, {'dataElement': 'Hrsq0RqGFKO', 'categoryOptionCombo': 'YgSzuXIfed6', 'period': '', 'value': ''}, {'dataElement': 'Hrsq0RqGFKO', 'categoryOptionCombo': 'EW1nknsma47', 'period': '', 'value': ''}, {'dataElement': 'P666FBECG0N', 'categoryOptionCombo': 'YgSzuXIfed6', 'period': '', 'value': ''}, {'dataElement': 'P666FBECG0N', 'categoryOptionCombo': 'EW1nknsma47', 'period': '', 'value': ''}, {'dataElement': 'v2FeCwrKNt5', 'categoryOptionCombo': 'HllvX50cXC0', 'period': '', 'value': ''}, {'dataElement': 'rl1SLaRmaZ4', 'categoryOptionCombo': 'YgSzuXIfed6', 'period': '', 'value': ''}, {'dataElement': 'rl1SLaRmaZ4', 'categoryOptionCombo': 'EW1nknsma47', 'period': '', 'value': ''}, {'dataElement': 'ddGAKVfTvlQ', 'categoryOptionCombo': 'YgSzuXIfed6', 'period': '', 'value': ''}, {'dataElement': 'ddGAKVfTvlQ', 'categoryOptionCombo': 'EW1nknsma47', 'period': '', 'value': ''}, {'dataElement': 'wryMP8p8k1C', 'categoryOptionCombo': 'YgSzuXIfed6', 'period': '', 'value': ''}, {'dataElement': 'wryMP8p8k1C', 'categoryOptionCombo': 'EW1nknsma47', 'period': '', 'value': ''}, {'dataElement': 'lo0rfBSWDbf', 'categoryOptionCombo': 'YgSzuXIfed6', 'period': '', 'value': ''}, {'dataElement': 'lo0rfBSWDbf', 'categoryOptionCombo': 'EW1nknsma47', 'period': '', 'value': ''}, {'dataElement': 'qAM23M0qOId', 'categoryOptionCombo': 'HllvX50cXC0', 'period': '', 'value': ''}, {'dataElement': 'qqqAULiKFu2', 'categoryOptionCombo': 'YgSzuXIfed6', 'period': '', 'value': ''}, {'dataElement': 'qqqAULiKFu2', 'categoryOptionCombo': 'EW1nknsma47', 'period': '', 'value': ''}, {'dataElement': 'bXn9Kmxnd3r', 'categoryOptionCombo': 'YgSzuXIfed6', 'period': '', 'value': ''}, {'dataElement': 'bXn9Kmxnd3r', 'categoryOptionCombo': 'EW1nknsma47', 'period': '', 'value': ''}, {'dataElement': 'bHSkKIwVBay', 'categoryOptionCombo': 'YgSzuXIfed6', 'period': '', 'value': ''}, {'dataElement': 'bHSkKIwVBay', 'categoryOptionCombo': 'EW1nknsma47', 'period': '', 'value': ''}, {'dataElement': 'ZOVJGcrCdCH', 'categoryOptionCombo': 'HllvX50cXC0', 'period': '', 'value': ''}, {'dataElement': 'n1iUA7kb0wj', 'categoryOptionCombo': 'YgSzuXIfed6', 'period': '', 'value': ''}, {'dataElement': 'n1iUA7kb0wj', 'categoryOptionCombo': 'EW1nknsma47', 'period': '', 'value': ''}, {'dataElement': 'hi5J0vMBrbE', 'categoryOptionCombo': 'YgSzuXIfed6', 'period': '', 'value': ''}, {'dataElement': 'hi5J0vMBrbE', 'categoryOptionCombo': 'EW1nknsma47', 'period': '', 'value': ''}, {'dataElement': 'qNsd9cPWNVo', 'categoryOptionCombo': 'YgSzuXIfed6', 'period': '', 'value': ''}, {'dataElement': 'qNsd9cPWNVo', 'categoryOptionCombo': 'EW1nknsma47', 'period': '', 'value': ''}, {'dataElement': 'dKzr3MsO9kG', 'categoryOptionCombo': 'HllvX50cXC0', 'period': '', 'value': ''}, {'dataElement': 'Q1xDDDusLwl', 'categoryOptionCombo': 'YgSzuXIfed6', 'period': '', 'value': ''}, {'dataElement': 'Q1xDDDusLwl', 'categoryOptionCombo': 'EW1nknsma47', 'period': '', 'value': ''}, {'dataElement': 'juTM5EM0Jo0', 'categoryOptionCombo': 'YgSzuXIfed6', 'period': '', 'value': ''}, {'dataElement': 'juTM5EM0Jo0', 'categoryOptionCombo': 'EW1nknsma47', 'period': '', 'value': ''}, {'dataElement': 'PIeQekpD664', 'categoryOptionCombo': 'HllvX50cXC0', 'period': '', 'value': ''}, {'dataElement': 'K2Ky3gBe2sB', 'categoryOptionCombo': 'HllvX50cXC0', 'period': '', 'value': ''}, {'dataElement': 'xfkxDz03AFK', 'categoryOptionCombo': 'YgSzuXIfed6', 'period': '', 'value': ''}, {'dataElement': 'xfkxDz03AFK', 'categoryOptionCombo': 'EW1nknsma47', 'period': '', 'value': ''}, {'dataElement': 'PR3HRX1IEBj', 'categoryOptionCombo': 'YgSzuXIfed6', 'period': '', 'value': ''}, {'dataElement': 'PR3HRX1IEBj', 'categoryOptionCombo': 'EW1nknsma47', 'period': '', 'value': ''}, {'dataElement': 'lTiuuQij9HP', 'categoryOptionCombo': 'HllvX50cXC0', 'period': '', 'value': ''}, {'dataElement': 'ClUDerxOIWR', 'categoryOptionCombo': 'YgSzuXIfed6', 'period': '', 'value': ''}, {'dataElement': 'ClUDerxOIWR', 'categoryOptionCombo': 'EW1nknsma47', 'period': '', 'value': ''}, {'dataElement': 'sjd8VtIZxmz', 'categoryOptionCombo': 'YgSzuXIfed6', 'period': '', 'value': ''}, {'dataElement': 'sjd8VtIZxmz', 'categoryOptionCombo': 'EW1nknsma47', 'period': '', 'value': ''}, {'dataElement': 'KUuKOtxzBJ1', 'categoryOptionCombo': 'HllvX50cXC0', 'period': '', 'value': ''}, {'dataElement': 'miZ7nLeBp1w', 'categoryOptionCombo': 'YgSzuXIfed6', 'period': '', 'value': ''}, {'dataElement': 'miZ7nLeBp1w', 'categoryOptionCombo': 'EW1nknsma47', 'period': '', 'value': ''}, {'dataElement': 'vd4GxqtKkRC', 'categoryOptionCombo': 'YgSzuXIfed6', 'period': '', 'value': ''}, {'dataElement': 'vd4GxqtKkRC', 'categoryOptionCombo': 'EW1nknsma47', 'period': '', 'value': ''}]}\n",
      "{'dataValues': [{'dataElement': 'iLEkjJcYTJd', 'categoryOptionCombo': 'HllvX50cXC0', 'period': '', 'value': ''}]}\n"
     ]
    }
   ],
   "source": [
    "for i in ['OTvkNTijYQY', 'ZyZmZTUwctj', 'm9yPuQEqxmS', 'zTU6UZXtgwR']:\n",
    "    response = get_data(f\"dataSets/{i}/dataValueSet\")\n",
    "    print(response)"
   ]
  },
  {
   "cell_type": "code",
   "execution_count": 32,
   "id": "2cc16b36",
   "metadata": {},
   "outputs": [
    {
     "data": {
      "text/plain": [
       "{'dataValues': [{'dataElement': 'iLEkjJcYTJd',\n",
       "   'categoryOptionCombo': 'HllvX50cXC0',\n",
       "   'period': '',\n",
       "   'value': ''}]}"
      ]
     },
     "execution_count": 32,
     "metadata": {},
     "output_type": "execute_result"
    }
   ],
   "source": [
    "response"
   ]
  },
  {
   "cell_type": "code",
   "execution_count": null,
   "id": "03040e5c",
   "metadata": {},
   "outputs": [],
   "source": [
    "response['dataValues']\n"
   ]
  }
 ],
 "metadata": {
  "kernelspec": {
   "display_name": "ds",
   "language": "python",
   "name": "ds"
  },
  "language_info": {
   "codemirror_mode": {
    "name": "ipython",
    "version": 3
   },
   "file_extension": ".py",
   "mimetype": "text/x-python",
   "name": "python",
   "nbconvert_exporter": "python",
   "pygments_lexer": "ipython3",
   "version": "3.8.3"
  }
 },
 "nbformat": 4,
 "nbformat_minor": 5
}
