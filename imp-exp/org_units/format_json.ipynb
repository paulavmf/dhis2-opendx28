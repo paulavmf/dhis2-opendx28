{
 "cells": [
  {
   "cell_type": "raw",
   "source": [
    "!ls /home/paula/Documentos/opendx28/opendx_course/dhis2/resources/"
   ],
   "metadata": {
    "collapsed": false
   }
  },
  {
   "cell_type": "code",
   "execution_count": 2,
   "metadata": {
    "collapsed": true,
    "ExecuteTime": {
     "end_time": "2023-07-20T13:31:48.527649975Z",
     "start_time": "2023-07-20T13:31:48.521275542Z"
    }
   },
   "outputs": [],
   "source": [
    "file = \"/home/paula/Documentos/opendx28/opendx_course/dhis2/resources/metadata/full_orgUnits_groups_geometries_Users_copy.json\"\n"
   ]
  },
  {
   "cell_type": "code",
   "execution_count": 3,
   "outputs": [
    {
     "name": "stdout",
     "output_type": "stream",
     "text": [
      "full_orgUnits_groups_geometries_Users_copy.json  org_units\r\n",
      "full_orgUnits_groups_geometries_Users.json\t user_roles.json\r\n"
     ]
    }
   ],
   "source": [
    "!ls /home/paula/Documentos/opendx28/opendx_course/dhis2/resources/metadata"
   ],
   "metadata": {
    "collapsed": false,
    "ExecuteTime": {
     "end_time": "2023-07-20T13:31:49.453027511Z",
     "start_time": "2023-07-20T13:31:49.209559439Z"
    }
   }
  },
  {
   "cell_type": "code",
   "execution_count": 4,
   "outputs": [],
   "source": [
    "import json\n"
   ],
   "metadata": {
    "collapsed": false,
    "ExecuteTime": {
     "end_time": "2023-07-20T13:31:49.883185892Z",
     "start_time": "2023-07-20T13:31:49.878015394Z"
    }
   }
  },
  {
   "cell_type": "code",
   "execution_count": 5,
   "outputs": [],
   "source": [
    "with open(file) as f:\n",
    "    data = json.load(f)\n"
   ],
   "metadata": {
    "collapsed": false,
    "ExecuteTime": {
     "end_time": "2023-07-20T13:31:50.931152791Z",
     "start_time": "2023-07-20T13:31:50.853396685Z"
    }
   }
  },
  {
   "cell_type": "code",
   "execution_count": 9,
   "outputs": [],
   "source": [
    "data.keys()\n"
   ],
   "metadata": {
    "collapsed": false,
    "ExecuteTime": {
     "end_time": "2023-07-20T13:33:23.895354238Z",
     "start_time": "2023-07-20T13:33:23.876652541Z"
    }
   }
  },
  {
   "cell_type": "code",
   "execution_count": 10,
   "outputs": [],
   "source": [
    "import pandas as pd"
   ],
   "metadata": {
    "collapsed": false,
    "ExecuteTime": {
     "end_time": "2023-07-20T13:33:31.223737341Z",
     "start_time": "2023-07-20T13:33:30.706448528Z"
    }
   }
  },
  {
   "cell_type": "code",
   "execution_count": 11,
   "outputs": [],
   "source": [
    "OrgUnits = pd.DataFrame(data[\"organisationUnits\"])\n"
   ],
   "metadata": {
    "collapsed": false,
    "ExecuteTime": {
     "end_time": "2023-07-20T13:33:31.230767949Z",
     "start_time": "2023-07-20T13:33:31.226736880Z"
    }
   }
  },
  {
   "cell_type": "code",
   "execution_count": 12,
   "outputs": [
    {
     "data": {
      "text/plain": "                   name                  created              lastUpdated  \\\n0                 Adeje  2023-07-20T08:54:33.358  2023-07-20T08:54:33.437   \n1                 Adrar  2023-07-20T08:54:33.362  2023-07-20T08:54:33.438   \n2                Agaete  2023-07-20T08:54:33.356  2023-07-20T08:54:33.437   \n3               Agüimes  2023-07-20T08:54:33.356  2023-07-20T08:54:33.437   \n4                 Agulo  2023-07-20T08:54:33.358  2023-07-20T08:54:33.437   \n..                  ...                      ...                      ...   \n235   Vega de San Mateo  2023-07-20T08:54:33.358  2023-07-20T08:54:33.437   \n236  Vilaflor de Chasna  2023-07-20T08:54:33.361  2023-07-20T08:54:33.438   \n237       Villa de Mazo  2023-07-20T08:54:33.361  2023-07-20T08:54:33.438   \n238               Yaiza  2023-07-20T08:54:33.358  2023-07-20T08:54:33.437   \n239          Ziguinchor  2023-07-20T08:54:33.363  2023-07-20T08:54:33.439   \n\n    translations                                          createdBy  \\\n0             []  {'id': 'M5zQapPyTZI', 'code': 'admin', 'name':...   \n1             []  {'id': 'M5zQapPyTZI', 'code': 'admin', 'name':...   \n2             []  {'id': 'M5zQapPyTZI', 'code': 'admin', 'name':...   \n3             []  {'id': 'M5zQapPyTZI', 'code': 'admin', 'name':...   \n4             []  {'id': 'M5zQapPyTZI', 'code': 'admin', 'name':...   \n..           ...                                                ...   \n235           []  {'id': 'M5zQapPyTZI', 'code': 'admin', 'name':...   \n236           []  {'id': 'M5zQapPyTZI', 'code': 'admin', 'name':...   \n237           []  {'id': 'M5zQapPyTZI', 'code': 'admin', 'name':...   \n238           []  {'id': 'M5zQapPyTZI', 'code': 'admin', 'name':...   \n239           []  {'id': 'M5zQapPyTZI', 'code': 'admin', 'name':...   \n\n                                         lastUpdatedBy           shortName  \\\n0    {'id': 'M5zQapPyTZI', 'code': 'admin', 'name':...               Adeje   \n1    {'id': 'M5zQapPyTZI', 'code': 'admin', 'name':...               Adrar   \n2    {'id': 'M5zQapPyTZI', 'code': 'admin', 'name':...              Agaete   \n3    {'id': 'M5zQapPyTZI', 'code': 'admin', 'name':...             Agüimes   \n4    {'id': 'M5zQapPyTZI', 'code': 'admin', 'name':...               Agulo   \n..                                                 ...                 ...   \n235  {'id': 'M5zQapPyTZI', 'code': 'admin', 'name':...   Vega de San Mateo   \n236  {'id': 'M5zQapPyTZI', 'code': 'admin', 'name':...  Vilaflor de Chasna   \n237  {'id': 'M5zQapPyTZI', 'code': 'admin', 'name':...       Villa de Mazo   \n238  {'id': 'M5zQapPyTZI', 'code': 'admin', 'name':...               Yaiza   \n239  {'id': 'M5zQapPyTZI', 'code': 'admin', 'name':...          Ziguinchor   \n\n                    parent                                  path  \\\n0    {'id': 'BwaVAn6zKNI'}  /Fu370tZTKYz/BwaVAn6zKNI/QMw3vvM0Hc4   \n1    {'id': 'mBfWAWEnyeQ'}  /Fu370tZTKYz/mBfWAWEnyeQ/n7tAJt9hHtX   \n2    {'id': 'BwaVAn6zKNI'}  /Fu370tZTKYz/BwaVAn6zKNI/wksUKHz27kj   \n3    {'id': 'BwaVAn6zKNI'}  /Fu370tZTKYz/BwaVAn6zKNI/lGHoWxCXAee   \n4    {'id': 'BwaVAn6zKNI'}  /Fu370tZTKYz/BwaVAn6zKNI/xFSKshO8IWE   \n..                     ...                                   ...   \n235  {'id': 'BwaVAn6zKNI'}  /Fu370tZTKYz/BwaVAn6zKNI/wOaxmSoUtb7   \n236  {'id': 'BwaVAn6zKNI'}  /Fu370tZTKYz/BwaVAn6zKNI/P7h6IpArqCO   \n237  {'id': 'BwaVAn6zKNI'}  /Fu370tZTKYz/BwaVAn6zKNI/Udwmx2IRbTJ   \n238  {'id': 'BwaVAn6zKNI'}  /Fu370tZTKYz/BwaVAn6zKNI/OkEkAMlm2CH   \n239  {'id': 'SQIQNlBGBRT'}  /Fu370tZTKYz/SQIQNlBGBRT/YtG11R6BAys   \n\n                 openingDate           id  \\\n0    1970-01-01T00:00:00.000  QMw3vvM0Hc4   \n1    1970-01-01T00:00:00.000  n7tAJt9hHtX   \n2    1970-01-01T00:00:00.000  wksUKHz27kj   \n3    1970-01-01T00:00:00.000  lGHoWxCXAee   \n4    1970-01-01T00:00:00.000  xFSKshO8IWE   \n..                       ...          ...   \n235  1970-01-01T00:00:00.000  wOaxmSoUtb7   \n236  1970-01-01T00:00:00.000  P7h6IpArqCO   \n237  1970-01-01T00:00:00.000  Udwmx2IRbTJ   \n238  1970-01-01T00:00:00.000  OkEkAMlm2CH   \n239  1970-01-01T00:00:00.000  YtG11R6BAys   \n\n                                       attributeValues  level code  \n0    [{'attribute': {'id': 'zQygzuT9Clm'}, 'value':...      3  NaN  \n1    [{'attribute': {'id': 'zQygzuT9Clm'}, 'value':...      3  NaN  \n2    [{'attribute': {'id': 'zQygzuT9Clm'}, 'value':...      3  NaN  \n3    [{'attribute': {'id': 'zQygzuT9Clm'}, 'value':...      3  NaN  \n4    [{'attribute': {'id': 'zQygzuT9Clm'}, 'value':...      3  NaN  \n..                                                 ...    ...  ...  \n235  [{'attribute': {'id': 'zQygzuT9Clm'}, 'value':...      3  NaN  \n236  [{'attribute': {'id': 'zQygzuT9Clm'}, 'value':...      3  NaN  \n237  [{'attribute': {'id': 'zQygzuT9Clm'}, 'value':...      3  NaN  \n238  [{'attribute': {'id': 'zQygzuT9Clm'}, 'value':...      3  NaN  \n239  [{'attribute': {'id': 'zQygzuT9Clm'}, 'value':...      3  NaN  \n\n[240 rows x 14 columns]",
      "text/html": "<div>\n<style scoped>\n    .dataframe tbody tr th:only-of-type {\n        vertical-align: middle;\n    }\n\n    .dataframe tbody tr th {\n        vertical-align: top;\n    }\n\n    .dataframe thead th {\n        text-align: right;\n    }\n</style>\n<table border=\"1\" class=\"dataframe\">\n  <thead>\n    <tr style=\"text-align: right;\">\n      <th></th>\n      <th>name</th>\n      <th>created</th>\n      <th>lastUpdated</th>\n      <th>translations</th>\n      <th>createdBy</th>\n      <th>lastUpdatedBy</th>\n      <th>shortName</th>\n      <th>parent</th>\n      <th>path</th>\n      <th>openingDate</th>\n      <th>id</th>\n      <th>attributeValues</th>\n      <th>level</th>\n      <th>code</th>\n    </tr>\n  </thead>\n  <tbody>\n    <tr>\n      <th>0</th>\n      <td>Adeje</td>\n      <td>2023-07-20T08:54:33.358</td>\n      <td>2023-07-20T08:54:33.437</td>\n      <td>[]</td>\n      <td>{'id': 'M5zQapPyTZI', 'code': 'admin', 'name':...</td>\n      <td>{'id': 'M5zQapPyTZI', 'code': 'admin', 'name':...</td>\n      <td>Adeje</td>\n      <td>{'id': 'BwaVAn6zKNI'}</td>\n      <td>/Fu370tZTKYz/BwaVAn6zKNI/QMw3vvM0Hc4</td>\n      <td>1970-01-01T00:00:00.000</td>\n      <td>QMw3vvM0Hc4</td>\n      <td>[{'attribute': {'id': 'zQygzuT9Clm'}, 'value':...</td>\n      <td>3</td>\n      <td>NaN</td>\n    </tr>\n    <tr>\n      <th>1</th>\n      <td>Adrar</td>\n      <td>2023-07-20T08:54:33.362</td>\n      <td>2023-07-20T08:54:33.438</td>\n      <td>[]</td>\n      <td>{'id': 'M5zQapPyTZI', 'code': 'admin', 'name':...</td>\n      <td>{'id': 'M5zQapPyTZI', 'code': 'admin', 'name':...</td>\n      <td>Adrar</td>\n      <td>{'id': 'mBfWAWEnyeQ'}</td>\n      <td>/Fu370tZTKYz/mBfWAWEnyeQ/n7tAJt9hHtX</td>\n      <td>1970-01-01T00:00:00.000</td>\n      <td>n7tAJt9hHtX</td>\n      <td>[{'attribute': {'id': 'zQygzuT9Clm'}, 'value':...</td>\n      <td>3</td>\n      <td>NaN</td>\n    </tr>\n    <tr>\n      <th>2</th>\n      <td>Agaete</td>\n      <td>2023-07-20T08:54:33.356</td>\n      <td>2023-07-20T08:54:33.437</td>\n      <td>[]</td>\n      <td>{'id': 'M5zQapPyTZI', 'code': 'admin', 'name':...</td>\n      <td>{'id': 'M5zQapPyTZI', 'code': 'admin', 'name':...</td>\n      <td>Agaete</td>\n      <td>{'id': 'BwaVAn6zKNI'}</td>\n      <td>/Fu370tZTKYz/BwaVAn6zKNI/wksUKHz27kj</td>\n      <td>1970-01-01T00:00:00.000</td>\n      <td>wksUKHz27kj</td>\n      <td>[{'attribute': {'id': 'zQygzuT9Clm'}, 'value':...</td>\n      <td>3</td>\n      <td>NaN</td>\n    </tr>\n    <tr>\n      <th>3</th>\n      <td>Agüimes</td>\n      <td>2023-07-20T08:54:33.356</td>\n      <td>2023-07-20T08:54:33.437</td>\n      <td>[]</td>\n      <td>{'id': 'M5zQapPyTZI', 'code': 'admin', 'name':...</td>\n      <td>{'id': 'M5zQapPyTZI', 'code': 'admin', 'name':...</td>\n      <td>Agüimes</td>\n      <td>{'id': 'BwaVAn6zKNI'}</td>\n      <td>/Fu370tZTKYz/BwaVAn6zKNI/lGHoWxCXAee</td>\n      <td>1970-01-01T00:00:00.000</td>\n      <td>lGHoWxCXAee</td>\n      <td>[{'attribute': {'id': 'zQygzuT9Clm'}, 'value':...</td>\n      <td>3</td>\n      <td>NaN</td>\n    </tr>\n    <tr>\n      <th>4</th>\n      <td>Agulo</td>\n      <td>2023-07-20T08:54:33.358</td>\n      <td>2023-07-20T08:54:33.437</td>\n      <td>[]</td>\n      <td>{'id': 'M5zQapPyTZI', 'code': 'admin', 'name':...</td>\n      <td>{'id': 'M5zQapPyTZI', 'code': 'admin', 'name':...</td>\n      <td>Agulo</td>\n      <td>{'id': 'BwaVAn6zKNI'}</td>\n      <td>/Fu370tZTKYz/BwaVAn6zKNI/xFSKshO8IWE</td>\n      <td>1970-01-01T00:00:00.000</td>\n      <td>xFSKshO8IWE</td>\n      <td>[{'attribute': {'id': 'zQygzuT9Clm'}, 'value':...</td>\n      <td>3</td>\n      <td>NaN</td>\n    </tr>\n    <tr>\n      <th>...</th>\n      <td>...</td>\n      <td>...</td>\n      <td>...</td>\n      <td>...</td>\n      <td>...</td>\n      <td>...</td>\n      <td>...</td>\n      <td>...</td>\n      <td>...</td>\n      <td>...</td>\n      <td>...</td>\n      <td>...</td>\n      <td>...</td>\n      <td>...</td>\n    </tr>\n    <tr>\n      <th>235</th>\n      <td>Vega de San Mateo</td>\n      <td>2023-07-20T08:54:33.358</td>\n      <td>2023-07-20T08:54:33.437</td>\n      <td>[]</td>\n      <td>{'id': 'M5zQapPyTZI', 'code': 'admin', 'name':...</td>\n      <td>{'id': 'M5zQapPyTZI', 'code': 'admin', 'name':...</td>\n      <td>Vega de San Mateo</td>\n      <td>{'id': 'BwaVAn6zKNI'}</td>\n      <td>/Fu370tZTKYz/BwaVAn6zKNI/wOaxmSoUtb7</td>\n      <td>1970-01-01T00:00:00.000</td>\n      <td>wOaxmSoUtb7</td>\n      <td>[{'attribute': {'id': 'zQygzuT9Clm'}, 'value':...</td>\n      <td>3</td>\n      <td>NaN</td>\n    </tr>\n    <tr>\n      <th>236</th>\n      <td>Vilaflor de Chasna</td>\n      <td>2023-07-20T08:54:33.361</td>\n      <td>2023-07-20T08:54:33.438</td>\n      <td>[]</td>\n      <td>{'id': 'M5zQapPyTZI', 'code': 'admin', 'name':...</td>\n      <td>{'id': 'M5zQapPyTZI', 'code': 'admin', 'name':...</td>\n      <td>Vilaflor de Chasna</td>\n      <td>{'id': 'BwaVAn6zKNI'}</td>\n      <td>/Fu370tZTKYz/BwaVAn6zKNI/P7h6IpArqCO</td>\n      <td>1970-01-01T00:00:00.000</td>\n      <td>P7h6IpArqCO</td>\n      <td>[{'attribute': {'id': 'zQygzuT9Clm'}, 'value':...</td>\n      <td>3</td>\n      <td>NaN</td>\n    </tr>\n    <tr>\n      <th>237</th>\n      <td>Villa de Mazo</td>\n      <td>2023-07-20T08:54:33.361</td>\n      <td>2023-07-20T08:54:33.438</td>\n      <td>[]</td>\n      <td>{'id': 'M5zQapPyTZI', 'code': 'admin', 'name':...</td>\n      <td>{'id': 'M5zQapPyTZI', 'code': 'admin', 'name':...</td>\n      <td>Villa de Mazo</td>\n      <td>{'id': 'BwaVAn6zKNI'}</td>\n      <td>/Fu370tZTKYz/BwaVAn6zKNI/Udwmx2IRbTJ</td>\n      <td>1970-01-01T00:00:00.000</td>\n      <td>Udwmx2IRbTJ</td>\n      <td>[{'attribute': {'id': 'zQygzuT9Clm'}, 'value':...</td>\n      <td>3</td>\n      <td>NaN</td>\n    </tr>\n    <tr>\n      <th>238</th>\n      <td>Yaiza</td>\n      <td>2023-07-20T08:54:33.358</td>\n      <td>2023-07-20T08:54:33.437</td>\n      <td>[]</td>\n      <td>{'id': 'M5zQapPyTZI', 'code': 'admin', 'name':...</td>\n      <td>{'id': 'M5zQapPyTZI', 'code': 'admin', 'name':...</td>\n      <td>Yaiza</td>\n      <td>{'id': 'BwaVAn6zKNI'}</td>\n      <td>/Fu370tZTKYz/BwaVAn6zKNI/OkEkAMlm2CH</td>\n      <td>1970-01-01T00:00:00.000</td>\n      <td>OkEkAMlm2CH</td>\n      <td>[{'attribute': {'id': 'zQygzuT9Clm'}, 'value':...</td>\n      <td>3</td>\n      <td>NaN</td>\n    </tr>\n    <tr>\n      <th>239</th>\n      <td>Ziguinchor</td>\n      <td>2023-07-20T08:54:33.363</td>\n      <td>2023-07-20T08:54:33.439</td>\n      <td>[]</td>\n      <td>{'id': 'M5zQapPyTZI', 'code': 'admin', 'name':...</td>\n      <td>{'id': 'M5zQapPyTZI', 'code': 'admin', 'name':...</td>\n      <td>Ziguinchor</td>\n      <td>{'id': 'SQIQNlBGBRT'}</td>\n      <td>/Fu370tZTKYz/SQIQNlBGBRT/YtG11R6BAys</td>\n      <td>1970-01-01T00:00:00.000</td>\n      <td>YtG11R6BAys</td>\n      <td>[{'attribute': {'id': 'zQygzuT9Clm'}, 'value':...</td>\n      <td>3</td>\n      <td>NaN</td>\n    </tr>\n  </tbody>\n</table>\n<p>240 rows × 14 columns</p>\n</div>"
     },
     "execution_count": 12,
     "metadata": {},
     "output_type": "execute_result"
    }
   ],
   "source": [
    "OrgUnits\n"
   ],
   "metadata": {
    "collapsed": false,
    "ExecuteTime": {
     "end_time": "2023-07-20T13:33:31.756603285Z",
     "start_time": "2023-07-20T13:33:31.729847039Z"
    }
   }
  },
  {
   "cell_type": "code",
   "execution_count": 16,
   "outputs": [
    {
     "data": {
      "text/plain": "'/home/paula/Documentos/opendx28/opendx_course/dhis2/resources/metadata/full_orgUnits_groups_geometries_Users_copy.json'"
     },
     "execution_count": 16,
     "metadata": {},
     "output_type": "execute_result"
    }
   ],
   "source": [
    "attribute = OrgUnits[OrgUnits[\"name\"] == \"Senegal\"][\"attributeValues\"]\n"
   ],
   "metadata": {
    "collapsed": false,
    "ExecuteTime": {
     "end_time": "2023-07-20T13:35:16.615056464Z",
     "start_time": "2023-07-20T13:35:16.614357050Z"
    }
   }
  },
  {
   "cell_type": "code",
   "execution_count": 19,
   "outputs": [],
   "source": [
    "attribute"
   ],
   "metadata": {
    "collapsed": false,
    "ExecuteTime": {
     "end_time": "2023-07-20T13:37:55.703441002Z",
     "start_time": "2023-07-20T13:37:55.628683072Z"
    }
   }
  },
  {
   "cell_type": "code",
   "execution_count": 26,
   "outputs": [
    {
     "data": {
      "text/plain": "              name                  created              lastUpdated  \\\n51  Hospital_Adeje  2023-07-20T09:00:47.991  2023-07-20T09:00:48.004   \n\n   translations                                          createdBy  \\\n51           []  {'id': 'M5zQapPyTZI', 'code': 'admin', 'name':...   \n\n                                        lastUpdatedBy       shortName  \\\n51  {'id': 'M5zQapPyTZI', 'code': 'admin', 'name':...  Hospital_Adeje   \n\n                   parent                                              path  \\\n51  {'id': 'QMw3vvM0Hc4'}  /Fu370tZTKYz/BwaVAn6zKNI/QMw3vvM0Hc4/K2sYFAy8NAo   \n\n                openingDate           id attributeValues  level code  \n51  2020-01-01T00:00:00.000  K2sYFAy8NAo              []      4  NaN  ",
      "text/html": "<div>\n<style scoped>\n    .dataframe tbody tr th:only-of-type {\n        vertical-align: middle;\n    }\n\n    .dataframe tbody tr th {\n        vertical-align: top;\n    }\n\n    .dataframe thead th {\n        text-align: right;\n    }\n</style>\n<table border=\"1\" class=\"dataframe\">\n  <thead>\n    <tr style=\"text-align: right;\">\n      <th></th>\n      <th>name</th>\n      <th>created</th>\n      <th>lastUpdated</th>\n      <th>translations</th>\n      <th>createdBy</th>\n      <th>lastUpdatedBy</th>\n      <th>shortName</th>\n      <th>parent</th>\n      <th>path</th>\n      <th>openingDate</th>\n      <th>id</th>\n      <th>attributeValues</th>\n      <th>level</th>\n      <th>code</th>\n    </tr>\n  </thead>\n  <tbody>\n    <tr>\n      <th>51</th>\n      <td>Hospital_Adeje</td>\n      <td>2023-07-20T09:00:47.991</td>\n      <td>2023-07-20T09:00:48.004</td>\n      <td>[]</td>\n      <td>{'id': 'M5zQapPyTZI', 'code': 'admin', 'name':...</td>\n      <td>{'id': 'M5zQapPyTZI', 'code': 'admin', 'name':...</td>\n      <td>Hospital_Adeje</td>\n      <td>{'id': 'QMw3vvM0Hc4'}</td>\n      <td>/Fu370tZTKYz/BwaVAn6zKNI/QMw3vvM0Hc4/K2sYFAy8NAo</td>\n      <td>2020-01-01T00:00:00.000</td>\n      <td>K2sYFAy8NAo</td>\n      <td>[]</td>\n      <td>4</td>\n      <td>NaN</td>\n    </tr>\n  </tbody>\n</table>\n</div>"
     },
     "execution_count": 26,
     "metadata": {},
     "output_type": "execute_result"
    }
   ],
   "source": [
    "OrgUnits[OrgUnits[\"name\"] == \"Hospital_Adeje\"]\n"
   ],
   "metadata": {
    "collapsed": false,
    "ExecuteTime": {
     "end_time": "2023-07-20T12:48:30.452886536Z",
     "start_time": "2023-07-20T12:48:30.434028477Z"
    }
   }
  },
  {
   "cell_type": "code",
   "execution_count": 42,
   "outputs": [],
   "source": [
    "OrgUnits[\"attributeValues\"] = OrgUnits[\"attributeValues\"].replace(attribute.values[0],\"\")\n"
   ],
   "metadata": {
    "collapsed": false,
    "ExecuteTime": {
     "end_time": "2023-07-20T12:56:19.550866423Z",
     "start_time": "2023-07-20T12:56:19.507036371Z"
    }
   }
  },
  {
   "cell_type": "code",
   "execution_count": 44,
   "outputs": [
    {
     "data": {
      "text/plain": "        name                  created              lastUpdated translations  \\\n211  Senegal  2023-07-20T08:54:33.356  2023-07-20T11:30:04.690           []   \n\n                                             createdBy  \\\n211  {'id': 'M5zQapPyTZI', 'code': 'admin', 'name':...   \n\n                                         lastUpdatedBy shortName  \\\n211  {'id': 'M5zQapPyTZI', 'code': 'admin', 'name':...   Senegal   \n\n                    parent                      path              openingDate  \\\n211  {'id': 'Fu370tZTKYz'}  /Fu370tZTKYz/SQIQNlBGBRT  1970-01-01T00:00:00.000   \n\n              id                                    attributeValues  level  \\\n211  SQIQNlBGBRT  [{'attribute': {'id': 'zQygzuT9Clm'}, 'value':...      2   \n\n    code  \n211   SN  ",
      "text/html": "<div>\n<style scoped>\n    .dataframe tbody tr th:only-of-type {\n        vertical-align: middle;\n    }\n\n    .dataframe tbody tr th {\n        vertical-align: top;\n    }\n\n    .dataframe thead th {\n        text-align: right;\n    }\n</style>\n<table border=\"1\" class=\"dataframe\">\n  <thead>\n    <tr style=\"text-align: right;\">\n      <th></th>\n      <th>name</th>\n      <th>created</th>\n      <th>lastUpdated</th>\n      <th>translations</th>\n      <th>createdBy</th>\n      <th>lastUpdatedBy</th>\n      <th>shortName</th>\n      <th>parent</th>\n      <th>path</th>\n      <th>openingDate</th>\n      <th>id</th>\n      <th>attributeValues</th>\n      <th>level</th>\n      <th>code</th>\n    </tr>\n  </thead>\n  <tbody>\n    <tr>\n      <th>211</th>\n      <td>Senegal</td>\n      <td>2023-07-20T08:54:33.356</td>\n      <td>2023-07-20T11:30:04.690</td>\n      <td>[]</td>\n      <td>{'id': 'M5zQapPyTZI', 'code': 'admin', 'name':...</td>\n      <td>{'id': 'M5zQapPyTZI', 'code': 'admin', 'name':...</td>\n      <td>Senegal</td>\n      <td>{'id': 'Fu370tZTKYz'}</td>\n      <td>/Fu370tZTKYz/SQIQNlBGBRT</td>\n      <td>1970-01-01T00:00:00.000</td>\n      <td>SQIQNlBGBRT</td>\n      <td>[{'attribute': {'id': 'zQygzuT9Clm'}, 'value':...</td>\n      <td>2</td>\n      <td>SN</td>\n    </tr>\n  </tbody>\n</table>\n</div>"
     },
     "execution_count": 44,
     "metadata": {},
     "output_type": "execute_result"
    }
   ],
   "source": [
    "OrgUnits[OrgUnits[\"name\"] == \"Senegal\"]"
   ],
   "metadata": {
    "collapsed": false,
    "ExecuteTime": {
     "end_time": "2023-07-20T12:57:55.970835584Z",
     "start_time": "2023-07-20T12:57:55.929572058Z"
    }
   }
  },
  {
   "cell_type": "code",
   "execution_count": 1,
   "outputs": [
    {
     "ename": "NameError",
     "evalue": "name 'attribute' is not defined",
     "output_type": "error",
     "traceback": [
      "\u001B[0;31m---------------------------------------------------------------------------\u001B[0m",
      "\u001B[0;31mNameError\u001B[0m                                 Traceback (most recent call last)",
      "Cell \u001B[0;32mIn[1], line 1\u001B[0m\n\u001B[0;32m----> 1\u001B[0m \u001B[38;5;28mtype\u001B[39m(\u001B[43mattribute\u001B[49m)\n",
      "\u001B[0;31mNameError\u001B[0m: name 'attribute' is not defined"
     ]
    }
   ],
   "source": [
    "attribute.values[0]\n"
   ],
   "metadata": {
    "collapsed": false,
    "ExecuteTime": {
     "end_time": "2023-07-20T13:31:30.702078651Z",
     "start_time": "2023-07-20T13:31:30.530403658Z"
    }
   }
  },
  {
   "cell_type": "code",
   "execution_count": null,
   "outputs": [],
   "source": [],
   "metadata": {
    "collapsed": false
   }
  }
 ],
 "metadata": {
  "kernelspec": {
   "display_name": "Python 3",
   "language": "python",
   "name": "python3"
  },
  "language_info": {
   "codemirror_mode": {
    "name": "ipython",
    "version": 2
   },
   "file_extension": ".py",
   "mimetype": "text/x-python",
   "name": "python",
   "nbconvert_exporter": "python",
   "pygments_lexer": "ipython2",
   "version": "2.7.6"
  }
 },
 "nbformat": 4,
 "nbformat_minor": 0
}
