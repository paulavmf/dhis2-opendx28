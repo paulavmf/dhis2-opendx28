{
 "cells": [
  {
   "cell_type": "code",
   "execution_count": 1,
   "id": "a9e43c47",
   "metadata": {
    "ExecuteTime": {
     "end_time": "2023-07-20T08:59:13.917754733Z",
     "start_time": "2023-07-20T08:59:13.547344406Z"
    }
   },
   "outputs": [],
   "source": [
    "import requests\n",
    "import string\n",
    "import random\n",
    "import datetime\n",
    "import os\n",
    "import json\n",
    "import re\n",
    "import pandas as pd"
   ]
  },
  {
   "cell_type": "code",
   "execution_count": 2,
   "id": "54ad444f",
   "metadata": {
    "ExecuteTime": {
     "end_time": "2023-07-20T08:59:13.920442975Z",
     "start_time": "2023-07-20T08:59:13.918537954Z"
    }
   },
   "outputs": [],
   "source": [
    "URL = \"http://localhost:8080\""
   ]
  },
  {
   "cell_type": "code",
   "execution_count": 3,
   "id": "d11bfd02",
   "metadata": {
    "ExecuteTime": {
     "end_time": "2023-07-20T08:59:13.926402700Z",
     "start_time": "2023-07-20T08:59:13.923624447Z"
    }
   },
   "outputs": [],
   "source": [
    "\n",
    "def login():\n",
    "    url = URL + \"/api/me\"\n",
    "    session = requests.Session()\n",
    "    try:\n",
    "        session.auth = ('admin', 'district')\n",
    "        return session\n",
    "    except:\n",
    "        print(\"bad response\")\n",
    "\n",
    "def get_data(key):\n",
    "    url = URL + \"/api/me\"\n",
    "    session = requests.Session()\n",
    "    session.auth = ('admin', 'district')\n",
    "    response = session.get(URL + \"/api/\" + key )\n",
    "    if response.status_code == 200:\n",
    "        json_response = json.loads(response.text)\n",
    "        return json_response\n",
    "    else:\n",
    "        print(\"bad response: \" + str(response.status_code))\n",
    "        return None"
   ]
  },
  {
   "cell_type": "code",
   "execution_count": 4,
   "id": "5c198f46",
   "metadata": {
    "ExecuteTime": {
     "end_time": "2023-07-20T08:59:13.931562433Z",
     "start_time": "2023-07-20T08:59:13.929075655Z"
    }
   },
   "outputs": [],
   "source": [
    "def getOrgUnitInfoByLevel(name):\n",
    "    \"\"\"\n",
    "    :param name: name used to filter in to OrgUnits\n",
    "    :return: This method return the basic information about specific organisation unit filtered by id\n",
    "    \"\"\"\n",
    "    try:\n",
    "        session = login()\n",
    "        url = f\"http://localhost:8080/api/organisationUnits.json?\"\n",
    "        params = {\n",
    "            \"filter\": f\"level:like:{name}\"\n",
    "        }\n",
    "        response = session.get(url, headers={'content-type': 'application/json'}, params=params)\n",
    "        print(f\"[FETCHING ORG-UNIT INFO] >> {response.text}\")\n",
    "    except Exception as e:\n",
    "        print(\"Unspected exception\")\n",
    "        print(e)"
   ]
  },
  {
   "cell_type": "code",
   "execution_count": 5,
   "id": "a17e6b7c",
   "metadata": {
    "scrolled": true,
    "ExecuteTime": {
     "end_time": "2023-07-20T08:59:14.114301513Z",
     "start_time": "2023-07-20T08:59:13.932086400Z"
    }
   },
   "outputs": [],
   "source": [
    "response = get_data(\"organisationUnits?level=3\")\n",
    "orgUnits = pd.DataFrame(response[\"organisationUnits\"])"
   ]
  },
  {
   "cell_type": "code",
   "execution_count": 6,
   "id": "89bcdcca",
   "metadata": {
    "ExecuteTime": {
     "end_time": "2023-07-20T08:59:14.179141784Z",
     "start_time": "2023-07-20T08:59:14.127405211Z"
    }
   },
   "outputs": [
    {
     "data": {
      "text/plain": "                 displayName           id\n0                      Adeje  QMw3vvM0Hc4\n1                      Adrar  n7tAJt9hHtX\n2                     Agaete  wksUKHz27kj\n3                      Agulo  xFSKshO8IWE\n4                    Agüimes  lGHoWxCXAee\n5                    Alajeró  ALrCsdgoUFd\n6                    Antigua  ce8SMdF9fAb\n7                      Arafo  iPsPhnkjFnF\n8                      Arico  GMVSwpw0J5F\n9                      Arona  DAgKPHgHJGi\n10                  Arrecife  HCuvZFUMBP9\n11                  Artenara  e2e0EB3tpOf\n12                    Arucas  grBrp2ft1Yg\n13                    Assaba  sdQb3PL8enX\n14                Barlavento  gH3lpoKfZtF\n15                Barlovento  vDw5oUYh2vQ\n16                Betancuria  lZMmWVGIG6p\n17                 Boa Vista  yFFpT8hIpP6\n18                    Brakna  oQnxG8zxPF6\n19                     Brava  LZMiBiRyVOA\n20                Breña Alta  e3j39pBYRqE\n21                Breña Baja  vEji5hE6Dq5\n22      Buenavista del Norte  W413gkd1iHK\n23                Candelaria  fcclXYudrFY\n24                     Dakar  HnOX8ej0mnk\n25        Dakhlet Nouadhibou  f6nGTjVH3rf\n26                  Diourbel  RrBtNG0oKDB\n27                   El Paso  w0RYd5IJi1J\n28     El Pinar de El Hierro  IaXn7nE6nTf\n29                El Rosario  BacPWahZTAe\n30                 El Sauzal  UETDnpGqUW7\n31                 El Tanque  NQMNGgb8lv6\n32                    Fasnia  US0RK0Hh3ZM\n33                    Fatick  lgyO2C2E18f\n34                    Firgas  eO9a6lKv5tc\n35                  Frontera  kagAb9ZbN1c\n36  Fuencaliente de La Palma  nqGlNCK6SfV\n37                 Garachico  nxvFvS2K9kp\n38                   Garafía  ZdENRXepMgp\n39                    Gorgol  pNjwLGqxcT5\n40       Granadilla de Abona  iDTfzBz38UU\n41                 Guidimaka  OQJTI0IvLDa\n42             Guía de Isora  Cj9OlONN59W\n43                    Gáldar  HLCIIDB4wVg\n44                    Güímar  duTx4akwytW\n45                     Haría  nVoxNIbzS1n\n46                  Hermigua  u2aYrnvQMy4\n47          Hodh Ech Chargui  z1qfVvnrnHe\n48            Hodh El Gharbi  O7f5bpLrvDt\n49         Icod de los Vinos  KgHsOhW5DvU",
      "text/html": "<div>\n<style scoped>\n    .dataframe tbody tr th:only-of-type {\n        vertical-align: middle;\n    }\n\n    .dataframe tbody tr th {\n        vertical-align: top;\n    }\n\n    .dataframe thead th {\n        text-align: right;\n    }\n</style>\n<table border=\"1\" class=\"dataframe\">\n  <thead>\n    <tr style=\"text-align: right;\">\n      <th></th>\n      <th>displayName</th>\n      <th>id</th>\n    </tr>\n  </thead>\n  <tbody>\n    <tr>\n      <th>0</th>\n      <td>Adeje</td>\n      <td>QMw3vvM0Hc4</td>\n    </tr>\n    <tr>\n      <th>1</th>\n      <td>Adrar</td>\n      <td>n7tAJt9hHtX</td>\n    </tr>\n    <tr>\n      <th>2</th>\n      <td>Agaete</td>\n      <td>wksUKHz27kj</td>\n    </tr>\n    <tr>\n      <th>3</th>\n      <td>Agulo</td>\n      <td>xFSKshO8IWE</td>\n    </tr>\n    <tr>\n      <th>4</th>\n      <td>Agüimes</td>\n      <td>lGHoWxCXAee</td>\n    </tr>\n    <tr>\n      <th>5</th>\n      <td>Alajeró</td>\n      <td>ALrCsdgoUFd</td>\n    </tr>\n    <tr>\n      <th>6</th>\n      <td>Antigua</td>\n      <td>ce8SMdF9fAb</td>\n    </tr>\n    <tr>\n      <th>7</th>\n      <td>Arafo</td>\n      <td>iPsPhnkjFnF</td>\n    </tr>\n    <tr>\n      <th>8</th>\n      <td>Arico</td>\n      <td>GMVSwpw0J5F</td>\n    </tr>\n    <tr>\n      <th>9</th>\n      <td>Arona</td>\n      <td>DAgKPHgHJGi</td>\n    </tr>\n    <tr>\n      <th>10</th>\n      <td>Arrecife</td>\n      <td>HCuvZFUMBP9</td>\n    </tr>\n    <tr>\n      <th>11</th>\n      <td>Artenara</td>\n      <td>e2e0EB3tpOf</td>\n    </tr>\n    <tr>\n      <th>12</th>\n      <td>Arucas</td>\n      <td>grBrp2ft1Yg</td>\n    </tr>\n    <tr>\n      <th>13</th>\n      <td>Assaba</td>\n      <td>sdQb3PL8enX</td>\n    </tr>\n    <tr>\n      <th>14</th>\n      <td>Barlavento</td>\n      <td>gH3lpoKfZtF</td>\n    </tr>\n    <tr>\n      <th>15</th>\n      <td>Barlovento</td>\n      <td>vDw5oUYh2vQ</td>\n    </tr>\n    <tr>\n      <th>16</th>\n      <td>Betancuria</td>\n      <td>lZMmWVGIG6p</td>\n    </tr>\n    <tr>\n      <th>17</th>\n      <td>Boa Vista</td>\n      <td>yFFpT8hIpP6</td>\n    </tr>\n    <tr>\n      <th>18</th>\n      <td>Brakna</td>\n      <td>oQnxG8zxPF6</td>\n    </tr>\n    <tr>\n      <th>19</th>\n      <td>Brava</td>\n      <td>LZMiBiRyVOA</td>\n    </tr>\n    <tr>\n      <th>20</th>\n      <td>Breña Alta</td>\n      <td>e3j39pBYRqE</td>\n    </tr>\n    <tr>\n      <th>21</th>\n      <td>Breña Baja</td>\n      <td>vEji5hE6Dq5</td>\n    </tr>\n    <tr>\n      <th>22</th>\n      <td>Buenavista del Norte</td>\n      <td>W413gkd1iHK</td>\n    </tr>\n    <tr>\n      <th>23</th>\n      <td>Candelaria</td>\n      <td>fcclXYudrFY</td>\n    </tr>\n    <tr>\n      <th>24</th>\n      <td>Dakar</td>\n      <td>HnOX8ej0mnk</td>\n    </tr>\n    <tr>\n      <th>25</th>\n      <td>Dakhlet Nouadhibou</td>\n      <td>f6nGTjVH3rf</td>\n    </tr>\n    <tr>\n      <th>26</th>\n      <td>Diourbel</td>\n      <td>RrBtNG0oKDB</td>\n    </tr>\n    <tr>\n      <th>27</th>\n      <td>El Paso</td>\n      <td>w0RYd5IJi1J</td>\n    </tr>\n    <tr>\n      <th>28</th>\n      <td>El Pinar de El Hierro</td>\n      <td>IaXn7nE6nTf</td>\n    </tr>\n    <tr>\n      <th>29</th>\n      <td>El Rosario</td>\n      <td>BacPWahZTAe</td>\n    </tr>\n    <tr>\n      <th>30</th>\n      <td>El Sauzal</td>\n      <td>UETDnpGqUW7</td>\n    </tr>\n    <tr>\n      <th>31</th>\n      <td>El Tanque</td>\n      <td>NQMNGgb8lv6</td>\n    </tr>\n    <tr>\n      <th>32</th>\n      <td>Fasnia</td>\n      <td>US0RK0Hh3ZM</td>\n    </tr>\n    <tr>\n      <th>33</th>\n      <td>Fatick</td>\n      <td>lgyO2C2E18f</td>\n    </tr>\n    <tr>\n      <th>34</th>\n      <td>Firgas</td>\n      <td>eO9a6lKv5tc</td>\n    </tr>\n    <tr>\n      <th>35</th>\n      <td>Frontera</td>\n      <td>kagAb9ZbN1c</td>\n    </tr>\n    <tr>\n      <th>36</th>\n      <td>Fuencaliente de La Palma</td>\n      <td>nqGlNCK6SfV</td>\n    </tr>\n    <tr>\n      <th>37</th>\n      <td>Garachico</td>\n      <td>nxvFvS2K9kp</td>\n    </tr>\n    <tr>\n      <th>38</th>\n      <td>Garafía</td>\n      <td>ZdENRXepMgp</td>\n    </tr>\n    <tr>\n      <th>39</th>\n      <td>Gorgol</td>\n      <td>pNjwLGqxcT5</td>\n    </tr>\n    <tr>\n      <th>40</th>\n      <td>Granadilla de Abona</td>\n      <td>iDTfzBz38UU</td>\n    </tr>\n    <tr>\n      <th>41</th>\n      <td>Guidimaka</td>\n      <td>OQJTI0IvLDa</td>\n    </tr>\n    <tr>\n      <th>42</th>\n      <td>Guía de Isora</td>\n      <td>Cj9OlONN59W</td>\n    </tr>\n    <tr>\n      <th>43</th>\n      <td>Gáldar</td>\n      <td>HLCIIDB4wVg</td>\n    </tr>\n    <tr>\n      <th>44</th>\n      <td>Güímar</td>\n      <td>duTx4akwytW</td>\n    </tr>\n    <tr>\n      <th>45</th>\n      <td>Haría</td>\n      <td>nVoxNIbzS1n</td>\n    </tr>\n    <tr>\n      <th>46</th>\n      <td>Hermigua</td>\n      <td>u2aYrnvQMy4</td>\n    </tr>\n    <tr>\n      <th>47</th>\n      <td>Hodh Ech Chargui</td>\n      <td>z1qfVvnrnHe</td>\n    </tr>\n    <tr>\n      <th>48</th>\n      <td>Hodh El Gharbi</td>\n      <td>O7f5bpLrvDt</td>\n    </tr>\n    <tr>\n      <th>49</th>\n      <td>Icod de los Vinos</td>\n      <td>KgHsOhW5DvU</td>\n    </tr>\n  </tbody>\n</table>\n</div>"
     },
     "execution_count": 6,
     "metadata": {},
     "output_type": "execute_result"
    }
   ],
   "source": [
    "orgUnits"
   ]
  },
  {
   "cell_type": "code",
   "execution_count": 7,
   "id": "4554049b",
   "metadata": {
    "ExecuteTime": {
     "end_time": "2023-07-20T08:59:14.179639219Z",
     "start_time": "2023-07-20T08:59:14.172434337Z"
    }
   },
   "outputs": [],
   "source": [
    "def createOrgUnit(parentOrgUnit,name,preriodType:str):\n",
    "    \"\"\"\n",
    "    :param code:\n",
    "    :param name:\n",
    "    :param shortname:\n",
    "    :param preriodType:\n",
    "    :return:\n",
    "    \"\"\"\n",
    "\n",
    "    \"\"\"parent its Sierra leone instance or main instance of organization unit\"\"\"\n",
    "    payload = {\n",
    "        'name': name,\n",
    "        'shortName': name,\n",
    "        'periodType': preriodType,\n",
    "        'openingDate': \"2020-01-01\",\n",
    "        \"parent\": {\n",
    "            \"id\": parentOrgUnit[\"id\"],\n",
    "        }\n",
    "    }\n",
    "\n",
    "    session = login()\n",
    "    url = \"http://localhost:8080/api/organisationUnits\"    \n",
    "    response = session.post(url, json=payload, headers={'content-type': 'application/json'})\n",
    "    if response.status_code == 200:\n",
    "        print((f\"[CREATING ORG-UNIT] >> {response.text}\"))\n",
    "    else:\n",
    "        print(\"bad response: \" + str(response.status_code) + response.text)\n",
    "        return response"
   ]
  },
  {
   "cell_type": "code",
   "execution_count": 8,
   "id": "5dcacb6f",
   "metadata": {
    "ExecuteTime": {
     "end_time": "2023-07-20T08:59:14.180224633Z",
     "start_time": "2023-07-20T08:59:14.172810638Z"
    }
   },
   "outputs": [
    {
     "data": {
      "text/plain": "  displayName           id\n0       Adeje  QMw3vvM0Hc4\n1       Adrar  n7tAJt9hHtX\n2      Agaete  wksUKHz27kj\n3       Agulo  xFSKshO8IWE\n4     Agüimes  lGHoWxCXAee",
      "text/html": "<div>\n<style scoped>\n    .dataframe tbody tr th:only-of-type {\n        vertical-align: middle;\n    }\n\n    .dataframe tbody tr th {\n        vertical-align: top;\n    }\n\n    .dataframe thead th {\n        text-align: right;\n    }\n</style>\n<table border=\"1\" class=\"dataframe\">\n  <thead>\n    <tr style=\"text-align: right;\">\n      <th></th>\n      <th>displayName</th>\n      <th>id</th>\n    </tr>\n  </thead>\n  <tbody>\n    <tr>\n      <th>0</th>\n      <td>Adeje</td>\n      <td>QMw3vvM0Hc4</td>\n    </tr>\n    <tr>\n      <th>1</th>\n      <td>Adrar</td>\n      <td>n7tAJt9hHtX</td>\n    </tr>\n    <tr>\n      <th>2</th>\n      <td>Agaete</td>\n      <td>wksUKHz27kj</td>\n    </tr>\n    <tr>\n      <th>3</th>\n      <td>Agulo</td>\n      <td>xFSKshO8IWE</td>\n    </tr>\n    <tr>\n      <th>4</th>\n      <td>Agüimes</td>\n      <td>lGHoWxCXAee</td>\n    </tr>\n  </tbody>\n</table>\n</div>"
     },
     "execution_count": 8,
     "metadata": {},
     "output_type": "execute_result"
    }
   ],
   "source": [
    "orgUnits.head()"
   ]
  },
  {
   "cell_type": "code",
   "execution_count": 9,
   "id": "d320e9d6",
   "metadata": {
    "ExecuteTime": {
     "end_time": "2023-07-20T08:59:14.180542220Z",
     "start_time": "2023-07-20T08:59:14.178325433Z"
    }
   },
   "outputs": [],
   "source": [
    "def create_facility(OrgUnitsdf,name:str,preriodType:str):\n",
    "    for i in range(len(OrgUnitsdf)):\n",
    "        full_name = name +\"_\" + OrgUnitsdf.loc[i][\"displayName\"]\n",
    "        createOrgUnit(OrgUnitsdf.loc[i],full_name,preriodType)"
   ]
  },
  {
   "cell_type": "code",
   "execution_count": 10,
   "id": "226516f7",
   "metadata": {
    "ExecuteTime": {
     "end_time": "2023-07-20T08:59:21.190451933Z",
     "start_time": "2023-07-20T08:59:14.179455361Z"
    }
   },
   "outputs": [
    {
     "name": "stdout",
     "output_type": "stream",
     "text": [
      "bad response: 201{\"httpStatus\":\"Created\",\"httpStatusCode\":201,\"status\":\"OK\",\"response\":{\"responseType\":\"ObjectReport\",\"uid\":\"tR1ESmLTDC1\",\"klass\":\"org.hisp.dhis.organisationunit.OrganisationUnit\",\"errorReports\":[]}}\n",
      "bad response: 201{\"httpStatus\":\"Created\",\"httpStatusCode\":201,\"status\":\"OK\",\"response\":{\"responseType\":\"ObjectReport\",\"uid\":\"R21VOJyasOa\",\"klass\":\"org.hisp.dhis.organisationunit.OrganisationUnit\",\"errorReports\":[]}}\n",
      "bad response: 201{\"httpStatus\":\"Created\",\"httpStatusCode\":201,\"status\":\"OK\",\"response\":{\"responseType\":\"ObjectReport\",\"uid\":\"mLjDSrWnUnt\",\"klass\":\"org.hisp.dhis.organisationunit.OrganisationUnit\",\"errorReports\":[]}}\n",
      "bad response: 201{\"httpStatus\":\"Created\",\"httpStatusCode\":201,\"status\":\"OK\",\"response\":{\"responseType\":\"ObjectReport\",\"uid\":\"TJBXrFiUbsr\",\"klass\":\"org.hisp.dhis.organisationunit.OrganisationUnit\",\"errorReports\":[]}}\n",
      "bad response: 201{\"httpStatus\":\"Created\",\"httpStatusCode\":201,\"status\":\"OK\",\"response\":{\"responseType\":\"ObjectReport\",\"uid\":\"K5AUrwTfmF6\",\"klass\":\"org.hisp.dhis.organisationunit.OrganisationUnit\",\"errorReports\":[]}}\n",
      "bad response: 201{\"httpStatus\":\"Created\",\"httpStatusCode\":201,\"status\":\"OK\",\"response\":{\"responseType\":\"ObjectReport\",\"uid\":\"lZIxlPL680u\",\"klass\":\"org.hisp.dhis.organisationunit.OrganisationUnit\",\"errorReports\":[]}}\n",
      "bad response: 201{\"httpStatus\":\"Created\",\"httpStatusCode\":201,\"status\":\"OK\",\"response\":{\"responseType\":\"ObjectReport\",\"uid\":\"XV4dl6KoKVG\",\"klass\":\"org.hisp.dhis.organisationunit.OrganisationUnit\",\"errorReports\":[]}}\n",
      "bad response: 201{\"httpStatus\":\"Created\",\"httpStatusCode\":201,\"status\":\"OK\",\"response\":{\"responseType\":\"ObjectReport\",\"uid\":\"GgTkXeewdPz\",\"klass\":\"org.hisp.dhis.organisationunit.OrganisationUnit\",\"errorReports\":[]}}\n",
      "bad response: 201{\"httpStatus\":\"Created\",\"httpStatusCode\":201,\"status\":\"OK\",\"response\":{\"responseType\":\"ObjectReport\",\"uid\":\"p74ZKpNPXX5\",\"klass\":\"org.hisp.dhis.organisationunit.OrganisationUnit\",\"errorReports\":[]}}\n",
      "bad response: 201{\"httpStatus\":\"Created\",\"httpStatusCode\":201,\"status\":\"OK\",\"response\":{\"responseType\":\"ObjectReport\",\"uid\":\"Wm9sw5GdrGO\",\"klass\":\"org.hisp.dhis.organisationunit.OrganisationUnit\",\"errorReports\":[]}}\n",
      "bad response: 201{\"httpStatus\":\"Created\",\"httpStatusCode\":201,\"status\":\"OK\",\"response\":{\"responseType\":\"ObjectReport\",\"uid\":\"sMbSnAw7dws\",\"klass\":\"org.hisp.dhis.organisationunit.OrganisationUnit\",\"errorReports\":[]}}\n",
      "bad response: 201{\"httpStatus\":\"Created\",\"httpStatusCode\":201,\"status\":\"OK\",\"response\":{\"responseType\":\"ObjectReport\",\"uid\":\"g4LuYaLjoau\",\"klass\":\"org.hisp.dhis.organisationunit.OrganisationUnit\",\"errorReports\":[]}}\n",
      "bad response: 201{\"httpStatus\":\"Created\",\"httpStatusCode\":201,\"status\":\"OK\",\"response\":{\"responseType\":\"ObjectReport\",\"uid\":\"jOEra6BuO8d\",\"klass\":\"org.hisp.dhis.organisationunit.OrganisationUnit\",\"errorReports\":[]}}\n",
      "bad response: 201{\"httpStatus\":\"Created\",\"httpStatusCode\":201,\"status\":\"OK\",\"response\":{\"responseType\":\"ObjectReport\",\"uid\":\"bwtU6hgtTsF\",\"klass\":\"org.hisp.dhis.organisationunit.OrganisationUnit\",\"errorReports\":[]}}\n",
      "bad response: 201{\"httpStatus\":\"Created\",\"httpStatusCode\":201,\"status\":\"OK\",\"response\":{\"responseType\":\"ObjectReport\",\"uid\":\"rITcDvGajm8\",\"klass\":\"org.hisp.dhis.organisationunit.OrganisationUnit\",\"errorReports\":[]}}\n",
      "bad response: 201{\"httpStatus\":\"Created\",\"httpStatusCode\":201,\"status\":\"OK\",\"response\":{\"responseType\":\"ObjectReport\",\"uid\":\"oa3fIHqcbbf\",\"klass\":\"org.hisp.dhis.organisationunit.OrganisationUnit\",\"errorReports\":[]}}\n",
      "bad response: 201{\"httpStatus\":\"Created\",\"httpStatusCode\":201,\"status\":\"OK\",\"response\":{\"responseType\":\"ObjectReport\",\"uid\":\"QeLSErewCSf\",\"klass\":\"org.hisp.dhis.organisationunit.OrganisationUnit\",\"errorReports\":[]}}\n",
      "bad response: 201{\"httpStatus\":\"Created\",\"httpStatusCode\":201,\"status\":\"OK\",\"response\":{\"responseType\":\"ObjectReport\",\"uid\":\"wsoNVOupSpt\",\"klass\":\"org.hisp.dhis.organisationunit.OrganisationUnit\",\"errorReports\":[]}}\n",
      "bad response: 201{\"httpStatus\":\"Created\",\"httpStatusCode\":201,\"status\":\"OK\",\"response\":{\"responseType\":\"ObjectReport\",\"uid\":\"N6ubn8FU1Ww\",\"klass\":\"org.hisp.dhis.organisationunit.OrganisationUnit\",\"errorReports\":[]}}\n",
      "bad response: 201{\"httpStatus\":\"Created\",\"httpStatusCode\":201,\"status\":\"OK\",\"response\":{\"responseType\":\"ObjectReport\",\"uid\":\"Qj0xOSGwuPM\",\"klass\":\"org.hisp.dhis.organisationunit.OrganisationUnit\",\"errorReports\":[]}}\n",
      "bad response: 201{\"httpStatus\":\"Created\",\"httpStatusCode\":201,\"status\":\"OK\",\"response\":{\"responseType\":\"ObjectReport\",\"uid\":\"PTrQBYO8ByO\",\"klass\":\"org.hisp.dhis.organisationunit.OrganisationUnit\",\"errorReports\":[]}}\n",
      "bad response: 201{\"httpStatus\":\"Created\",\"httpStatusCode\":201,\"status\":\"OK\",\"response\":{\"responseType\":\"ObjectReport\",\"uid\":\"Jh7NCcagHiT\",\"klass\":\"org.hisp.dhis.organisationunit.OrganisationUnit\",\"errorReports\":[]}}\n",
      "bad response: 201{\"httpStatus\":\"Created\",\"httpStatusCode\":201,\"status\":\"OK\",\"response\":{\"responseType\":\"ObjectReport\",\"uid\":\"LHFmBQ0S3cu\",\"klass\":\"org.hisp.dhis.organisationunit.OrganisationUnit\",\"errorReports\":[]}}\n",
      "bad response: 201{\"httpStatus\":\"Created\",\"httpStatusCode\":201,\"status\":\"OK\",\"response\":{\"responseType\":\"ObjectReport\",\"uid\":\"KmRyEUpuaI9\",\"klass\":\"org.hisp.dhis.organisationunit.OrganisationUnit\",\"errorReports\":[]}}\n",
      "bad response: 201{\"httpStatus\":\"Created\",\"httpStatusCode\":201,\"status\":\"OK\",\"response\":{\"responseType\":\"ObjectReport\",\"uid\":\"Xo7KaOAGGm3\",\"klass\":\"org.hisp.dhis.organisationunit.OrganisationUnit\",\"errorReports\":[]}}\n",
      "bad response: 201{\"httpStatus\":\"Created\",\"httpStatusCode\":201,\"status\":\"OK\",\"response\":{\"responseType\":\"ObjectReport\",\"uid\":\"IC0FnNoqdA4\",\"klass\":\"org.hisp.dhis.organisationunit.OrganisationUnit\",\"errorReports\":[]}}\n",
      "bad response: 201{\"httpStatus\":\"Created\",\"httpStatusCode\":201,\"status\":\"OK\",\"response\":{\"responseType\":\"ObjectReport\",\"uid\":\"D4rl9LTU55U\",\"klass\":\"org.hisp.dhis.organisationunit.OrganisationUnit\",\"errorReports\":[]}}\n",
      "bad response: 201{\"httpStatus\":\"Created\",\"httpStatusCode\":201,\"status\":\"OK\",\"response\":{\"responseType\":\"ObjectReport\",\"uid\":\"rHUmxtWoRok\",\"klass\":\"org.hisp.dhis.organisationunit.OrganisationUnit\",\"errorReports\":[]}}\n",
      "bad response: 201{\"httpStatus\":\"Created\",\"httpStatusCode\":201,\"status\":\"OK\",\"response\":{\"responseType\":\"ObjectReport\",\"uid\":\"HSo6g9NePY9\",\"klass\":\"org.hisp.dhis.organisationunit.OrganisationUnit\",\"errorReports\":[]}}\n",
      "bad response: 201{\"httpStatus\":\"Created\",\"httpStatusCode\":201,\"status\":\"OK\",\"response\":{\"responseType\":\"ObjectReport\",\"uid\":\"vAHZnqxcgdF\",\"klass\":\"org.hisp.dhis.organisationunit.OrganisationUnit\",\"errorReports\":[]}}\n",
      "bad response: 201{\"httpStatus\":\"Created\",\"httpStatusCode\":201,\"status\":\"OK\",\"response\":{\"responseType\":\"ObjectReport\",\"uid\":\"pHNyRXpsnZ0\",\"klass\":\"org.hisp.dhis.organisationunit.OrganisationUnit\",\"errorReports\":[]}}\n",
      "bad response: 201{\"httpStatus\":\"Created\",\"httpStatusCode\":201,\"status\":\"OK\",\"response\":{\"responseType\":\"ObjectReport\",\"uid\":\"AJ11FBCd73Q\",\"klass\":\"org.hisp.dhis.organisationunit.OrganisationUnit\",\"errorReports\":[]}}\n",
      "bad response: 201{\"httpStatus\":\"Created\",\"httpStatusCode\":201,\"status\":\"OK\",\"response\":{\"responseType\":\"ObjectReport\",\"uid\":\"HGzMeERjA85\",\"klass\":\"org.hisp.dhis.organisationunit.OrganisationUnit\",\"errorReports\":[]}}\n",
      "bad response: 201{\"httpStatus\":\"Created\",\"httpStatusCode\":201,\"status\":\"OK\",\"response\":{\"responseType\":\"ObjectReport\",\"uid\":\"UcTI74FC1bq\",\"klass\":\"org.hisp.dhis.organisationunit.OrganisationUnit\",\"errorReports\":[]}}\n",
      "bad response: 201{\"httpStatus\":\"Created\",\"httpStatusCode\":201,\"status\":\"OK\",\"response\":{\"responseType\":\"ObjectReport\",\"uid\":\"VX960i1vCtM\",\"klass\":\"org.hisp.dhis.organisationunit.OrganisationUnit\",\"errorReports\":[]}}\n",
      "bad response: 201{\"httpStatus\":\"Created\",\"httpStatusCode\":201,\"status\":\"OK\",\"response\":{\"responseType\":\"ObjectReport\",\"uid\":\"UboSMsSI08w\",\"klass\":\"org.hisp.dhis.organisationunit.OrganisationUnit\",\"errorReports\":[]}}\n",
      "bad response: 201{\"httpStatus\":\"Created\",\"httpStatusCode\":201,\"status\":\"OK\",\"response\":{\"responseType\":\"ObjectReport\",\"uid\":\"eptqmDyb2bM\",\"klass\":\"org.hisp.dhis.organisationunit.OrganisationUnit\",\"errorReports\":[]}}\n",
      "bad response: 201{\"httpStatus\":\"Created\",\"httpStatusCode\":201,\"status\":\"OK\",\"response\":{\"responseType\":\"ObjectReport\",\"uid\":\"dVTRt8tMVra\",\"klass\":\"org.hisp.dhis.organisationunit.OrganisationUnit\",\"errorReports\":[]}}\n",
      "bad response: 201{\"httpStatus\":\"Created\",\"httpStatusCode\":201,\"status\":\"OK\",\"response\":{\"responseType\":\"ObjectReport\",\"uid\":\"FXCqU1zG7KI\",\"klass\":\"org.hisp.dhis.organisationunit.OrganisationUnit\",\"errorReports\":[]}}\n",
      "bad response: 201{\"httpStatus\":\"Created\",\"httpStatusCode\":201,\"status\":\"OK\",\"response\":{\"responseType\":\"ObjectReport\",\"uid\":\"oJu90r9CPkR\",\"klass\":\"org.hisp.dhis.organisationunit.OrganisationUnit\",\"errorReports\":[]}}\n",
      "bad response: 201{\"httpStatus\":\"Created\",\"httpStatusCode\":201,\"status\":\"OK\",\"response\":{\"responseType\":\"ObjectReport\",\"uid\":\"wtHKi4NxExf\",\"klass\":\"org.hisp.dhis.organisationunit.OrganisationUnit\",\"errorReports\":[]}}\n",
      "bad response: 201{\"httpStatus\":\"Created\",\"httpStatusCode\":201,\"status\":\"OK\",\"response\":{\"responseType\":\"ObjectReport\",\"uid\":\"aPF3AdomqXK\",\"klass\":\"org.hisp.dhis.organisationunit.OrganisationUnit\",\"errorReports\":[]}}\n",
      "bad response: 201{\"httpStatus\":\"Created\",\"httpStatusCode\":201,\"status\":\"OK\",\"response\":{\"responseType\":\"ObjectReport\",\"uid\":\"UEyQgZnzDif\",\"klass\":\"org.hisp.dhis.organisationunit.OrganisationUnit\",\"errorReports\":[]}}\n",
      "bad response: 201{\"httpStatus\":\"Created\",\"httpStatusCode\":201,\"status\":\"OK\",\"response\":{\"responseType\":\"ObjectReport\",\"uid\":\"liypnDOLms9\",\"klass\":\"org.hisp.dhis.organisationunit.OrganisationUnit\",\"errorReports\":[]}}\n",
      "bad response: 201{\"httpStatus\":\"Created\",\"httpStatusCode\":201,\"status\":\"OK\",\"response\":{\"responseType\":\"ObjectReport\",\"uid\":\"mvLWJeaRvIr\",\"klass\":\"org.hisp.dhis.organisationunit.OrganisationUnit\",\"errorReports\":[]}}\n",
      "bad response: 201{\"httpStatus\":\"Created\",\"httpStatusCode\":201,\"status\":\"OK\",\"response\":{\"responseType\":\"ObjectReport\",\"uid\":\"USSBlsq1WZD\",\"klass\":\"org.hisp.dhis.organisationunit.OrganisationUnit\",\"errorReports\":[]}}\n",
      "bad response: 201{\"httpStatus\":\"Created\",\"httpStatusCode\":201,\"status\":\"OK\",\"response\":{\"responseType\":\"ObjectReport\",\"uid\":\"HLmWtPwOzDt\",\"klass\":\"org.hisp.dhis.organisationunit.OrganisationUnit\",\"errorReports\":[]}}\n",
      "bad response: 201{\"httpStatus\":\"Created\",\"httpStatusCode\":201,\"status\":\"OK\",\"response\":{\"responseType\":\"ObjectReport\",\"uid\":\"ai7rkOo8YE6\",\"klass\":\"org.hisp.dhis.organisationunit.OrganisationUnit\",\"errorReports\":[]}}\n",
      "bad response: 201{\"httpStatus\":\"Created\",\"httpStatusCode\":201,\"status\":\"OK\",\"response\":{\"responseType\":\"ObjectReport\",\"uid\":\"YesKZJOrJ0L\",\"klass\":\"org.hisp.dhis.organisationunit.OrganisationUnit\",\"errorReports\":[]}}\n",
      "bad response: 201{\"httpStatus\":\"Created\",\"httpStatusCode\":201,\"status\":\"OK\",\"response\":{\"responseType\":\"ObjectReport\",\"uid\":\"xO8vUm8j2uL\",\"klass\":\"org.hisp.dhis.organisationunit.OrganisationUnit\",\"errorReports\":[]}}\n"
     ]
    }
   ],
   "source": [
    "# no los crea en todos.. no sé porqué?\n",
    "response = create_facility(orgUnits,\"sanitary_center\",\"Weekly\")"
   ]
  },
  {
   "cell_type": "code",
   "execution_count": 11,
   "outputs": [
    {
     "name": "stdout",
     "output_type": "stream",
     "text": [
      "bad response: 201{\"httpStatus\":\"Created\",\"httpStatusCode\":201,\"status\":\"OK\",\"response\":{\"responseType\":\"ObjectReport\",\"uid\":\"K2sYFAy8NAo\",\"klass\":\"org.hisp.dhis.organisationunit.OrganisationUnit\",\"errorReports\":[]}}\n",
      "bad response: 201{\"httpStatus\":\"Created\",\"httpStatusCode\":201,\"status\":\"OK\",\"response\":{\"responseType\":\"ObjectReport\",\"uid\":\"ppkwO83EQzm\",\"klass\":\"org.hisp.dhis.organisationunit.OrganisationUnit\",\"errorReports\":[]}}\n",
      "bad response: 201{\"httpStatus\":\"Created\",\"httpStatusCode\":201,\"status\":\"OK\",\"response\":{\"responseType\":\"ObjectReport\",\"uid\":\"ib4dMYZzKNU\",\"klass\":\"org.hisp.dhis.organisationunit.OrganisationUnit\",\"errorReports\":[]}}\n",
      "bad response: 201{\"httpStatus\":\"Created\",\"httpStatusCode\":201,\"status\":\"OK\",\"response\":{\"responseType\":\"ObjectReport\",\"uid\":\"GkWlDtDTZi8\",\"klass\":\"org.hisp.dhis.organisationunit.OrganisationUnit\",\"errorReports\":[]}}\n",
      "bad response: 201{\"httpStatus\":\"Created\",\"httpStatusCode\":201,\"status\":\"OK\",\"response\":{\"responseType\":\"ObjectReport\",\"uid\":\"PEDEu3X1bAu\",\"klass\":\"org.hisp.dhis.organisationunit.OrganisationUnit\",\"errorReports\":[]}}\n",
      "bad response: 201{\"httpStatus\":\"Created\",\"httpStatusCode\":201,\"status\":\"OK\",\"response\":{\"responseType\":\"ObjectReport\",\"uid\":\"NsQkcuI8e5N\",\"klass\":\"org.hisp.dhis.organisationunit.OrganisationUnit\",\"errorReports\":[]}}\n",
      "bad response: 201{\"httpStatus\":\"Created\",\"httpStatusCode\":201,\"status\":\"OK\",\"response\":{\"responseType\":\"ObjectReport\",\"uid\":\"YoZ9HyVvw04\",\"klass\":\"org.hisp.dhis.organisationunit.OrganisationUnit\",\"errorReports\":[]}}\n",
      "bad response: 201{\"httpStatus\":\"Created\",\"httpStatusCode\":201,\"status\":\"OK\",\"response\":{\"responseType\":\"ObjectReport\",\"uid\":\"yt07nXxzyxP\",\"klass\":\"org.hisp.dhis.organisationunit.OrganisationUnit\",\"errorReports\":[]}}\n",
      "bad response: 201{\"httpStatus\":\"Created\",\"httpStatusCode\":201,\"status\":\"OK\",\"response\":{\"responseType\":\"ObjectReport\",\"uid\":\"zwlo1CSiaRO\",\"klass\":\"org.hisp.dhis.organisationunit.OrganisationUnit\",\"errorReports\":[]}}\n",
      "bad response: 201{\"httpStatus\":\"Created\",\"httpStatusCode\":201,\"status\":\"OK\",\"response\":{\"responseType\":\"ObjectReport\",\"uid\":\"L1D9BuaBaG9\",\"klass\":\"org.hisp.dhis.organisationunit.OrganisationUnit\",\"errorReports\":[]}}\n",
      "bad response: 201{\"httpStatus\":\"Created\",\"httpStatusCode\":201,\"status\":\"OK\",\"response\":{\"responseType\":\"ObjectReport\",\"uid\":\"TuS5ao4mtTR\",\"klass\":\"org.hisp.dhis.organisationunit.OrganisationUnit\",\"errorReports\":[]}}\n",
      "bad response: 201{\"httpStatus\":\"Created\",\"httpStatusCode\":201,\"status\":\"OK\",\"response\":{\"responseType\":\"ObjectReport\",\"uid\":\"Qu8HTD3tztG\",\"klass\":\"org.hisp.dhis.organisationunit.OrganisationUnit\",\"errorReports\":[]}}\n",
      "bad response: 201{\"httpStatus\":\"Created\",\"httpStatusCode\":201,\"status\":\"OK\",\"response\":{\"responseType\":\"ObjectReport\",\"uid\":\"CFDS6WDYJxS\",\"klass\":\"org.hisp.dhis.organisationunit.OrganisationUnit\",\"errorReports\":[]}}\n",
      "bad response: 201{\"httpStatus\":\"Created\",\"httpStatusCode\":201,\"status\":\"OK\",\"response\":{\"responseType\":\"ObjectReport\",\"uid\":\"pd4GS8SulJA\",\"klass\":\"org.hisp.dhis.organisationunit.OrganisationUnit\",\"errorReports\":[]}}\n",
      "bad response: 201{\"httpStatus\":\"Created\",\"httpStatusCode\":201,\"status\":\"OK\",\"response\":{\"responseType\":\"ObjectReport\",\"uid\":\"Ceob5vKUCQP\",\"klass\":\"org.hisp.dhis.organisationunit.OrganisationUnit\",\"errorReports\":[]}}\n",
      "bad response: 201{\"httpStatus\":\"Created\",\"httpStatusCode\":201,\"status\":\"OK\",\"response\":{\"responseType\":\"ObjectReport\",\"uid\":\"zcTeRDjdDwT\",\"klass\":\"org.hisp.dhis.organisationunit.OrganisationUnit\",\"errorReports\":[]}}\n",
      "bad response: 201{\"httpStatus\":\"Created\",\"httpStatusCode\":201,\"status\":\"OK\",\"response\":{\"responseType\":\"ObjectReport\",\"uid\":\"LeQNhQmNj1T\",\"klass\":\"org.hisp.dhis.organisationunit.OrganisationUnit\",\"errorReports\":[]}}\n",
      "bad response: 201{\"httpStatus\":\"Created\",\"httpStatusCode\":201,\"status\":\"OK\",\"response\":{\"responseType\":\"ObjectReport\",\"uid\":\"NBBVYaEZ2h3\",\"klass\":\"org.hisp.dhis.organisationunit.OrganisationUnit\",\"errorReports\":[]}}\n",
      "bad response: 201{\"httpStatus\":\"Created\",\"httpStatusCode\":201,\"status\":\"OK\",\"response\":{\"responseType\":\"ObjectReport\",\"uid\":\"jbKi5pAJyGf\",\"klass\":\"org.hisp.dhis.organisationunit.OrganisationUnit\",\"errorReports\":[]}}\n",
      "bad response: 201{\"httpStatus\":\"Created\",\"httpStatusCode\":201,\"status\":\"OK\",\"response\":{\"responseType\":\"ObjectReport\",\"uid\":\"iL5UYyjb1jk\",\"klass\":\"org.hisp.dhis.organisationunit.OrganisationUnit\",\"errorReports\":[]}}\n",
      "bad response: 201{\"httpStatus\":\"Created\",\"httpStatusCode\":201,\"status\":\"OK\",\"response\":{\"responseType\":\"ObjectReport\",\"uid\":\"JZomvNPtbOX\",\"klass\":\"org.hisp.dhis.organisationunit.OrganisationUnit\",\"errorReports\":[]}}\n",
      "bad response: 201{\"httpStatus\":\"Created\",\"httpStatusCode\":201,\"status\":\"OK\",\"response\":{\"responseType\":\"ObjectReport\",\"uid\":\"aYt3psGxYsO\",\"klass\":\"org.hisp.dhis.organisationunit.OrganisationUnit\",\"errorReports\":[]}}\n",
      "bad response: 201{\"httpStatus\":\"Created\",\"httpStatusCode\":201,\"status\":\"OK\",\"response\":{\"responseType\":\"ObjectReport\",\"uid\":\"eyuNjwrnhWC\",\"klass\":\"org.hisp.dhis.organisationunit.OrganisationUnit\",\"errorReports\":[]}}\n",
      "bad response: 201{\"httpStatus\":\"Created\",\"httpStatusCode\":201,\"status\":\"OK\",\"response\":{\"responseType\":\"ObjectReport\",\"uid\":\"GhAJcvGZfAe\",\"klass\":\"org.hisp.dhis.organisationunit.OrganisationUnit\",\"errorReports\":[]}}\n",
      "bad response: 201{\"httpStatus\":\"Created\",\"httpStatusCode\":201,\"status\":\"OK\",\"response\":{\"responseType\":\"ObjectReport\",\"uid\":\"h4wQCO5qqiD\",\"klass\":\"org.hisp.dhis.organisationunit.OrganisationUnit\",\"errorReports\":[]}}\n",
      "bad response: 201{\"httpStatus\":\"Created\",\"httpStatusCode\":201,\"status\":\"OK\",\"response\":{\"responseType\":\"ObjectReport\",\"uid\":\"ATa5Bn7t8fT\",\"klass\":\"org.hisp.dhis.organisationunit.OrganisationUnit\",\"errorReports\":[]}}\n",
      "bad response: 201{\"httpStatus\":\"Created\",\"httpStatusCode\":201,\"status\":\"OK\",\"response\":{\"responseType\":\"ObjectReport\",\"uid\":\"wj02awAuZJx\",\"klass\":\"org.hisp.dhis.organisationunit.OrganisationUnit\",\"errorReports\":[]}}\n",
      "bad response: 201{\"httpStatus\":\"Created\",\"httpStatusCode\":201,\"status\":\"OK\",\"response\":{\"responseType\":\"ObjectReport\",\"uid\":\"LOUTE46nZK2\",\"klass\":\"org.hisp.dhis.organisationunit.OrganisationUnit\",\"errorReports\":[]}}\n",
      "bad response: 201{\"httpStatus\":\"Created\",\"httpStatusCode\":201,\"status\":\"OK\",\"response\":{\"responseType\":\"ObjectReport\",\"uid\":\"QXRbGZ55vD0\",\"klass\":\"org.hisp.dhis.organisationunit.OrganisationUnit\",\"errorReports\":[]}}\n",
      "bad response: 201{\"httpStatus\":\"Created\",\"httpStatusCode\":201,\"status\":\"OK\",\"response\":{\"responseType\":\"ObjectReport\",\"uid\":\"CF9zfS58Ae6\",\"klass\":\"org.hisp.dhis.organisationunit.OrganisationUnit\",\"errorReports\":[]}}\n",
      "bad response: 201{\"httpStatus\":\"Created\",\"httpStatusCode\":201,\"status\":\"OK\",\"response\":{\"responseType\":\"ObjectReport\",\"uid\":\"qAF48g3fbMa\",\"klass\":\"org.hisp.dhis.organisationunit.OrganisationUnit\",\"errorReports\":[]}}\n",
      "bad response: 201{\"httpStatus\":\"Created\",\"httpStatusCode\":201,\"status\":\"OK\",\"response\":{\"responseType\":\"ObjectReport\",\"uid\":\"FFlu6odCYHw\",\"klass\":\"org.hisp.dhis.organisationunit.OrganisationUnit\",\"errorReports\":[]}}\n",
      "bad response: 201{\"httpStatus\":\"Created\",\"httpStatusCode\":201,\"status\":\"OK\",\"response\":{\"responseType\":\"ObjectReport\",\"uid\":\"Glx7pWeqA0D\",\"klass\":\"org.hisp.dhis.organisationunit.OrganisationUnit\",\"errorReports\":[]}}\n",
      "bad response: 201{\"httpStatus\":\"Created\",\"httpStatusCode\":201,\"status\":\"OK\",\"response\":{\"responseType\":\"ObjectReport\",\"uid\":\"h084bQxTnSr\",\"klass\":\"org.hisp.dhis.organisationunit.OrganisationUnit\",\"errorReports\":[]}}\n",
      "bad response: 201{\"httpStatus\":\"Created\",\"httpStatusCode\":201,\"status\":\"OK\",\"response\":{\"responseType\":\"ObjectReport\",\"uid\":\"OrAjgnZgyzh\",\"klass\":\"org.hisp.dhis.organisationunit.OrganisationUnit\",\"errorReports\":[]}}\n",
      "bad response: 201{\"httpStatus\":\"Created\",\"httpStatusCode\":201,\"status\":\"OK\",\"response\":{\"responseType\":\"ObjectReport\",\"uid\":\"qKQad0mcJJc\",\"klass\":\"org.hisp.dhis.organisationunit.OrganisationUnit\",\"errorReports\":[]}}\n",
      "bad response: 201{\"httpStatus\":\"Created\",\"httpStatusCode\":201,\"status\":\"OK\",\"response\":{\"responseType\":\"ObjectReport\",\"uid\":\"RmTZN9WHz7P\",\"klass\":\"org.hisp.dhis.organisationunit.OrganisationUnit\",\"errorReports\":[]}}\n",
      "bad response: 201{\"httpStatus\":\"Created\",\"httpStatusCode\":201,\"status\":\"OK\",\"response\":{\"responseType\":\"ObjectReport\",\"uid\":\"sUBsrhyMyQG\",\"klass\":\"org.hisp.dhis.organisationunit.OrganisationUnit\",\"errorReports\":[]}}\n",
      "bad response: 201{\"httpStatus\":\"Created\",\"httpStatusCode\":201,\"status\":\"OK\",\"response\":{\"responseType\":\"ObjectReport\",\"uid\":\"jcV8GwFV7zH\",\"klass\":\"org.hisp.dhis.organisationunit.OrganisationUnit\",\"errorReports\":[]}}\n",
      "bad response: 201{\"httpStatus\":\"Created\",\"httpStatusCode\":201,\"status\":\"OK\",\"response\":{\"responseType\":\"ObjectReport\",\"uid\":\"S2ApkjXjwey\",\"klass\":\"org.hisp.dhis.organisationunit.OrganisationUnit\",\"errorReports\":[]}}\n",
      "bad response: 201{\"httpStatus\":\"Created\",\"httpStatusCode\":201,\"status\":\"OK\",\"response\":{\"responseType\":\"ObjectReport\",\"uid\":\"IxOoEvjZ5rd\",\"klass\":\"org.hisp.dhis.organisationunit.OrganisationUnit\",\"errorReports\":[]}}\n",
      "bad response: 201{\"httpStatus\":\"Created\",\"httpStatusCode\":201,\"status\":\"OK\",\"response\":{\"responseType\":\"ObjectReport\",\"uid\":\"H56wduA2KSj\",\"klass\":\"org.hisp.dhis.organisationunit.OrganisationUnit\",\"errorReports\":[]}}\n",
      "bad response: 201{\"httpStatus\":\"Created\",\"httpStatusCode\":201,\"status\":\"OK\",\"response\":{\"responseType\":\"ObjectReport\",\"uid\":\"hPhDJVEI4Mr\",\"klass\":\"org.hisp.dhis.organisationunit.OrganisationUnit\",\"errorReports\":[]}}\n",
      "bad response: 201{\"httpStatus\":\"Created\",\"httpStatusCode\":201,\"status\":\"OK\",\"response\":{\"responseType\":\"ObjectReport\",\"uid\":\"u6MuJHfpQy2\",\"klass\":\"org.hisp.dhis.organisationunit.OrganisationUnit\",\"errorReports\":[]}}\n",
      "bad response: 201{\"httpStatus\":\"Created\",\"httpStatusCode\":201,\"status\":\"OK\",\"response\":{\"responseType\":\"ObjectReport\",\"uid\":\"tAUWzgmIrmp\",\"klass\":\"org.hisp.dhis.organisationunit.OrganisationUnit\",\"errorReports\":[]}}\n",
      "bad response: 201{\"httpStatus\":\"Created\",\"httpStatusCode\":201,\"status\":\"OK\",\"response\":{\"responseType\":\"ObjectReport\",\"uid\":\"NCg3Rqp0GUK\",\"klass\":\"org.hisp.dhis.organisationunit.OrganisationUnit\",\"errorReports\":[]}}\n",
      "bad response: 201{\"httpStatus\":\"Created\",\"httpStatusCode\":201,\"status\":\"OK\",\"response\":{\"responseType\":\"ObjectReport\",\"uid\":\"dPgtX56yL2p\",\"klass\":\"org.hisp.dhis.organisationunit.OrganisationUnit\",\"errorReports\":[]}}\n",
      "bad response: 201{\"httpStatus\":\"Created\",\"httpStatusCode\":201,\"status\":\"OK\",\"response\":{\"responseType\":\"ObjectReport\",\"uid\":\"CqRwVVowX6U\",\"klass\":\"org.hisp.dhis.organisationunit.OrganisationUnit\",\"errorReports\":[]}}\n",
      "bad response: 201{\"httpStatus\":\"Created\",\"httpStatusCode\":201,\"status\":\"OK\",\"response\":{\"responseType\":\"ObjectReport\",\"uid\":\"sm4PUNYhQ1v\",\"klass\":\"org.hisp.dhis.organisationunit.OrganisationUnit\",\"errorReports\":[]}}\n",
      "bad response: 201{\"httpStatus\":\"Created\",\"httpStatusCode\":201,\"status\":\"OK\",\"response\":{\"responseType\":\"ObjectReport\",\"uid\":\"IpBb64ZCgZN\",\"klass\":\"org.hisp.dhis.organisationunit.OrganisationUnit\",\"errorReports\":[]}}\n"
     ]
    }
   ],
   "source": [
    "response = create_facility(orgUnits,\"Hospital\",\"Weekly\")\n"
   ],
   "metadata": {
    "collapsed": false,
    "ExecuteTime": {
     "end_time": "2023-07-20T09:00:53.718459669Z",
     "start_time": "2023-07-20T09:00:47.916750374Z"
    }
   }
  },
  {
   "cell_type": "code",
   "execution_count": null,
   "outputs": [],
   "source": [],
   "metadata": {
    "collapsed": false
   }
  }
 ],
 "metadata": {
  "kernelspec": {
   "display_name": "ds",
   "language": "python",
   "name": "ds"
  },
  "language_info": {
   "codemirror_mode": {
    "name": "ipython",
    "version": 3
   },
   "file_extension": ".py",
   "mimetype": "text/x-python",
   "name": "python",
   "nbconvert_exporter": "python",
   "pygments_lexer": "ipython3",
   "version": "3.8.3"
  }
 },
 "nbformat": 4,
 "nbformat_minor": 5
}
